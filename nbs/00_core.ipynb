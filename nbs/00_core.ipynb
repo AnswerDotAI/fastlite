{
 "cells": [
  {
   "cell_type": "code",
   "execution_count": null,
   "metadata": {},
   "outputs": [],
   "source": [
    "#| default_exp core"
   ]
  },
  {
   "cell_type": "markdown",
   "metadata": {},
   "source": [
    "# Source\n",
    "\n",
    "> Source code for fastlite"
   ]
  },
  {
   "cell_type": "markdown",
   "metadata": {},
   "source": [
    "## Metadata"
   ]
  },
  {
   "cell_type": "code",
   "execution_count": null,
   "metadata": {},
   "outputs": [],
   "source": [
    "#| export\n",
    "from dataclasses import dataclass, field, make_dataclass, fields, Field, is_dataclass, MISSING\n",
    "from typing import Any,Union,Optional\n",
    "from inspect import get_annotations\n",
    "\n",
    "from fastcore.utils import *\n",
    "from fastcore.xml import highlight\n",
    "from fastcore.xtras import hl_md, dataclass_src\n",
    "from sqlite_minutils.db import *\n",
    "from sqlite_minutils.utils import rows_from_file,TypeTracker,Format\n",
    "import types\n",
    "\n",
    "try: from graphviz import Source\n",
    "except ImportError: pass"
   ]
  },
  {
   "cell_type": "code",
   "execution_count": null,
   "metadata": {},
   "outputs": [],
   "source": [
    "from IPython.display import Markdown\n",
    "from fastcore.test import test_fail"
   ]
  },
  {
   "cell_type": "code",
   "execution_count": null,
   "metadata": {},
   "outputs": [],
   "source": [
    "from fastcore.net import urlsave\n",
    "url = 'https://github.com/lerocha/chinook-database/raw/master/ChinookDatabase/DataSources/Chinook_Sqlite.sqlite'\n",
    "path = Path('chinook.sqlite')\n",
    "if not path.exists(): urlsave(url, path)"
   ]
  },
  {
   "cell_type": "code",
   "execution_count": null,
   "metadata": {},
   "outputs": [],
   "source": [
    "db = Database(\"chinook.sqlite\")"
   ]
  },
  {
   "cell_type": "code",
   "execution_count": null,
   "metadata": {},
   "outputs": [],
   "source": [
    "#| exports\n",
    "class _Getter:\n",
    "    \"Abstract class with dynamic attributes providing access to DB objects\"\n",
    "    def __init__(self, db): self.db = db\n",
    "    # NB: Define `__dir__` in subclass to get list of objects\n",
    "    def __repr__(self): return \", \".join(dir(self))\n",
    "    def __contains__(self, s): return (s if isinstance(s,str) else s.name) in dir(self)\n",
    "    def __getitem__(self, idxs):\n",
    "        if isinstance(idxs,str): return self.db.table(idxs)\n",
    "        return [self.db.table(o) for o in idxs]\n",
    "    def __getattr__(self, k):\n",
    "        if k[0]=='_': raise AttributeError\n",
    "        return self.db[k]\n",
    "\n",
    "class _TablesGetter(_Getter):\n",
    "    def __dir__(self): return self.db.table_names()\n",
    "\n",
    "@patch(as_prop=True)\n",
    "def t(self:Database): return _TablesGetter(self)"
   ]
  },
  {
   "cell_type": "markdown",
   "metadata": {},
   "source": [
    "By returning a `_TablesGetter` we get a repr and auto-complete that shows all tables in the DB."
   ]
  },
  {
   "cell_type": "code",
   "execution_count": null,
   "metadata": {},
   "outputs": [
    {
     "data": {
      "text/plain": [
       "Album, Artist, Customer, Employee, Genre, Invoice, InvoiceLine, MediaType, Playlist, PlaylistTrack, Track"
      ]
     },
     "execution_count": null,
     "metadata": {},
     "output_type": "execute_result"
    }
   ],
   "source": [
    "dt = db.t\n",
    "dt"
   ]
  },
  {
   "cell_type": "code",
   "execution_count": null,
   "metadata": {},
   "outputs": [
    {
     "data": {
      "text/plain": [
       "<Table Artist (ArtistId, Name)>"
      ]
     },
     "execution_count": null,
     "metadata": {},
     "output_type": "execute_result"
    }
   ],
   "source": [
    "artist = dt.Artist\n",
    "artist"
   ]
  },
  {
   "cell_type": "markdown",
   "metadata": {},
   "source": [
    "This also can be used to get multiple tables at once."
   ]
  },
  {
   "cell_type": "code",
   "execution_count": null,
   "metadata": {},
   "outputs": [
    {
     "data": {
      "text/plain": [
       "[<Table Album (AlbumId, Title, ArtistId)>, <Table Artist (ArtistId, Name)>]"
      ]
     },
     "execution_count": null,
     "metadata": {},
     "output_type": "execute_result"
    }
   ],
   "source": [
    "dt['Album','Artist']"
   ]
  },
  {
   "cell_type": "code",
   "execution_count": null,
   "metadata": {},
   "outputs": [],
   "source": [
    "assert 'Artist' in dt\n",
    "assert artist in dt\n",
    "assert 'foo' not in dt"
   ]
  },
  {
   "cell_type": "code",
   "execution_count": null,
   "metadata": {},
   "outputs": [],
   "source": [
    "#| exports\n",
    "class _Col:\n",
    "    def __init__(self, t, c): self.t,self.c = t,c\n",
    "    def __str__(self):  return f'\"{self.t}\".\"{self.c}\"'\n",
    "    def __repr__(self):  return self.c\n",
    "    def __iter__(self): return iter(self.c)\n",
    "\n",
    "class _ColsGetter:\n",
    "    def __init__(self, tbl): self.tbl = tbl\n",
    "    def __dir__(self): return map(repr, self())\n",
    "    def __call__(self): return [_Col(self.tbl.name,o.name) for o in self.tbl.columns]\n",
    "    def __contains__(self, s): return (s if isinstance(s,str) else s.c) in self.tbl.columns_dict\n",
    "    def __repr__(self): return \", \".join(dir(self))\n",
    "\n",
    "    def __getattr__(self, k):\n",
    "        if k[0]=='_': raise AttributeError\n",
    "        return _Col(self.tbl.name, k)\n",
    "\n",
    "@patch(as_prop=True)\n",
    "def c(self:Table): return _ColsGetter(self)\n",
    "\n",
    "@patch(as_prop=True)\n",
    "def c(self:View): return _ColsGetter(self)"
   ]
  },
  {
   "cell_type": "markdown",
   "metadata": {},
   "source": [
    "Column auto-complete and repr are much the same as tables."
   ]
  },
  {
   "cell_type": "code",
   "execution_count": null,
   "metadata": {},
   "outputs": [
    {
     "data": {
      "text/plain": [
       "ArtistId, Name"
      ]
     },
     "execution_count": null,
     "metadata": {},
     "output_type": "execute_result"
    }
   ],
   "source": [
    "ac = artist.c\n",
    "ac"
   ]
  },
  {
   "cell_type": "markdown",
   "metadata": {},
   "source": [
    "Columns stringify in a format suitable for including in SQL statements."
   ]
  },
  {
   "cell_type": "code",
   "execution_count": null,
   "metadata": {},
   "outputs": [
    {
     "name": "stdout",
     "output_type": "stream",
     "text": [
      "select \"Artist\".\"Name\" ...\n"
     ]
    }
   ],
   "source": [
    "print(f\"select {ac.Name} ...\")"
   ]
  },
  {
   "cell_type": "code",
   "execution_count": null,
   "metadata": {},
   "outputs": [],
   "source": [
    "#| exports\n",
    "@patch\n",
    "def __str__(self:Table): return f'\"{self.name}\"'\n",
    "\n",
    "@patch\n",
    "def __str__(self:View): return f'\"{self.name}\"'"
   ]
  },
  {
   "cell_type": "markdown",
   "metadata": {},
   "source": [
    "Tables and views do the same."
   ]
  },
  {
   "cell_type": "code",
   "execution_count": null,
   "metadata": {},
   "outputs": [
    {
     "name": "stdout",
     "output_type": "stream",
     "text": [
      "select \"Artist\".\"Name\" from \"Artist\"\n"
     ]
    }
   ],
   "source": [
    "print(f\"select {ac.Name} from {artist}\")"
   ]
  },
  {
   "cell_type": "code",
   "execution_count": null,
   "metadata": {},
   "outputs": [],
   "source": [
    "assert 'Name' in ac\n",
    "assert ac.Name in ac\n",
    "assert 'foo' not in ac"
   ]
  },
  {
   "cell_type": "markdown",
   "metadata": {},
   "source": [
    "## Queries and views"
   ]
  },
  {
   "cell_type": "code",
   "execution_count": null,
   "metadata": {},
   "outputs": [],
   "source": [
    "#| exports\n",
    "@patch\n",
    "def q(self:Database, sql: str, params = None)->list:\n",
    "    return list(self.query(sql, params=params))"
   ]
  },
  {
   "cell_type": "markdown",
   "metadata": {},
   "source": [
    "This is a minor shortcut for interactive use."
   ]
  },
  {
   "cell_type": "code",
   "execution_count": null,
   "metadata": {},
   "outputs": [
    {
     "data": {
      "text/plain": [
       "[{'ArtistId': 1, 'Name': 'AC/DC'}]"
      ]
     },
     "execution_count": null,
     "metadata": {},
     "output_type": "execute_result"
    }
   ],
   "source": [
    "acdc = db.q(f\"select * from {artist} where {ac.Name} like 'AC/%'\")\n",
    "acdc"
   ]
  },
  {
   "cell_type": "code",
   "execution_count": null,
   "metadata": {},
   "outputs": [],
   "source": [
    "#| exports\n",
    "def _get_flds(tbl): \n",
    "    return [(k, v|None, field(default=tbl.default_values.get(k,None)))\n",
    "            for k,v in tbl.columns_dict.items()]\n",
    "\n",
    "def _dataclass(self:Table, store=True, suf='')->type:\n",
    "    \"Create a `dataclass` with the types and defaults of this table\"\n",
    "    res = make_dataclass(self.name.title()+suf, _get_flds(self))\n",
    "    flexiclass(res)\n",
    "    if store: self.cls = res\n",
    "    return res\n",
    "\n",
    "Table.dataclass = _dataclass"
   ]
  },
  {
   "cell_type": "code",
   "execution_count": null,
   "metadata": {},
   "outputs": [
    {
     "data": {
      "text/plain": [
       "Artist(ArtistId=1, Name='AC/DC')"
      ]
     },
     "execution_count": null,
     "metadata": {},
     "output_type": "execute_result"
    }
   ],
   "source": [
    "artist_dc = artist.dataclass()\n",
    "art1_obj = artist_dc(**acdc[0])\n",
    "art1_obj"
   ]
  },
  {
   "cell_type": "markdown",
   "metadata": {},
   "source": [
    "You can get the definition of the dataclass using fastcore's `dataclass_src`:"
   ]
  },
  {
   "cell_type": "code",
   "execution_count": null,
   "metadata": {},
   "outputs": [
    {
     "data": {
      "text/markdown": [
       "```python\n",
       "@dataclass\n",
       "class Artist:\n",
       "    ArtistId: int | None = None\n",
       "    Name: str | None = None\n",
       "\n",
       "```"
      ],
      "text/plain": [
       "<IPython.core.display.Markdown object>"
      ]
     },
     "execution_count": null,
     "metadata": {},
     "output_type": "execute_result"
    }
   ],
   "source": [
    "src = dataclass_src(artist_dc)\n",
    "hl_md(src, 'python')"
   ]
  },
  {
   "cell_type": "code",
   "execution_count": null,
   "metadata": {},
   "outputs": [],
   "source": [
    "#| exports\n",
    "def all_dcs(db, with_views=False, store=True, suf=''):\n",
    "    \"dataclasses for all objects in `db`\"\n",
    "    return [o.dataclass(store=store, suf=suf) for o in db.tables + (db.views if with_views else [])]"
   ]
  },
  {
   "cell_type": "code",
   "execution_count": null,
   "metadata": {},
   "outputs": [],
   "source": [
    "#| exports\n",
    "def create_mod(db, mod_fn, with_views=False, store=True, suf=''):\n",
    "    \"Create module for dataclasses for `db`\"\n",
    "    mod_fn = str(mod_fn)\n",
    "    if not mod_fn.endswith('.py'): mod_fn+='.py'\n",
    "    with open(mod_fn, 'w') as f:\n",
    "        print('from dataclasses import dataclass', file=f)\n",
    "        print('from typing import Any,Union,Optional\\n', file=f)\n",
    "        for o in all_dcs(db, with_views, store=store, suf=suf): print(dataclass_src(o), file=f)"
   ]
  },
  {
   "cell_type": "code",
   "execution_count": null,
   "metadata": {},
   "outputs": [],
   "source": [
    "create_mod(db, 'db_dc')"
   ]
  },
  {
   "cell_type": "code",
   "execution_count": null,
   "metadata": {},
   "outputs": [
    {
     "data": {
      "text/plain": [
       "Track(TrackId=1, Name='For Those About To Rock (We Salute You)', AlbumId=1, MediaTypeId=1, GenreId=1, Composer='Angus Young, Malcolm Young, Brian Johnson', Milliseconds=343719, Bytes=11170334, UnitPrice=0.99)"
      ]
     },
     "execution_count": null,
     "metadata": {},
     "output_type": "execute_result"
    }
   ],
   "source": [
    "#| eval: false\n",
    "from db_dc import Track\n",
    "Track(**dt.Track.get(1))"
   ]
  },
  {
   "cell_type": "code",
   "execution_count": null,
   "metadata": {},
   "outputs": [],
   "source": [
    "#| exports\n",
    "@patch\n",
    "def __call__(\n",
    "    self:(Table|View),\n",
    "    where:str|None=None,  # SQL where fragment to use, for example `id > ?`\n",
    "    where_args: Iterable|dict|NoneType=None, # Parameters to use with `where`; iterable for `id>?`, or dict for `id>:id`\n",
    "    order_by: str|None=None, # Column or fragment of SQL to order by\n",
    "    limit:int|None=None, # Number of rows to limit to\n",
    "    offset:int|None=None, # SQL offset\n",
    "    select:str = \"*\", # Comma-separated list of columns to select\n",
    "    with_pk:bool=False, # Return tuple of (pk,row)?\n",
    "    as_cls:bool=True, # Convert returned dict to stored dataclass?\n",
    "    **kwargs)->list:\n",
    "    \"Shortcut for `rows_where` or `pks_and_rows_where`, depending on `with_pk`\"\n",
    "    f = getattr(self, 'pks_and_rows_where' if with_pk else 'rows_where')\n",
    "    xtra = getattr(self, 'xtra_id', {})\n",
    "    if xtra:\n",
    "        xw = ' and '.join(f\"[{k}] = {v!r}\" for k,v in xtra.items())\n",
    "        where = f'{xw} and {where}' if where else xw\n",
    "    res = f(where=where, where_args=where_args, order_by=order_by, limit=limit, offset=offset, select=select, **kwargs)\n",
    "    if as_cls and hasattr(self,'cls'):\n",
    "        if with_pk: res = ((k,self.cls(**v)) for k,v in res)\n",
    "        else: res = (self.cls(**o) for o in res)\n",
    "    return list(res)"
   ]
  },
  {
   "cell_type": "markdown",
   "metadata": {},
   "source": [
    "This calls either `rows_where` (if `with_pk`) or `with_pk` (otherwise). If `dataclass(store=True)` has been called, then if `as_cls` rows will be returned as dataclass objects."
   ]
  },
  {
   "cell_type": "code",
   "execution_count": null,
   "metadata": {},
   "outputs": [
    {
     "data": {
      "text/plain": [
       "[Artist(ArtistId=1, Name='AC/DC'), Artist(ArtistId=2, Name='Accept')]"
      ]
     },
     "execution_count": null,
     "metadata": {},
     "output_type": "execute_result"
    }
   ],
   "source": [
    "artist(limit=2)"
   ]
  },
  {
   "cell_type": "markdown",
   "metadata": {},
   "source": [
    "If `with_pk` then tuples are returns with PKs 1st."
   ]
  },
  {
   "cell_type": "code",
   "execution_count": null,
   "metadata": {},
   "outputs": [
    {
     "data": {
      "text/plain": [
       "[(1, Artist(ArtistId=1, Name='AC/DC')), (2, Artist(ArtistId=2, Name='Accept'))]"
      ]
     },
     "execution_count": null,
     "metadata": {},
     "output_type": "execute_result"
    }
   ],
   "source": [
    "artist(with_pk=True, limit=2)"
   ]
  },
  {
   "cell_type": "code",
   "execution_count": null,
   "metadata": {},
   "outputs": [
    {
     "data": {
      "text/plain": [
       "{'ArtistId': 1, 'Name': 'AC/DC'}"
      ]
     },
     "execution_count": null,
     "metadata": {},
     "output_type": "execute_result"
    }
   ],
   "source": [
    "artist.get(1)"
   ]
  },
  {
   "cell_type": "code",
   "execution_count": null,
   "metadata": {},
   "outputs": [],
   "source": [
    "album = dt.Album\n",
    "\n",
    "acca_sql = f\"\"\"select {album}.*\n",
    "from {album} join {artist} using (ArtistId)\n",
    "where {ac.Name} like 'AC/%'\"\"\""
   ]
  },
  {
   "cell_type": "code",
   "execution_count": null,
   "metadata": {},
   "outputs": [
    {
     "data": {
      "text/markdown": [
       "```sql\n",
       "select \"Album\".*\n",
       "from \"Album\" join \"Artist\" using (ArtistId)\n",
       "where \"Artist\".\"Name\" like 'AC/%'\n",
       "```"
      ],
      "text/plain": [
       "<IPython.core.display.Markdown object>"
      ]
     },
     "execution_count": null,
     "metadata": {},
     "output_type": "execute_result"
    }
   ],
   "source": [
    "hl_md(acca_sql, 'sql')"
   ]
  },
  {
   "cell_type": "code",
   "execution_count": null,
   "metadata": {},
   "outputs": [
    {
     "data": {
      "text/plain": [
       "[{'AlbumId': 1,\n",
       "  'Title': 'For Those About To Rock We Salute You',\n",
       "  'ArtistId': 1},\n",
       " {'AlbumId': 4, 'Title': 'Let There Be Rock', 'ArtistId': 1}]"
      ]
     },
     "execution_count": null,
     "metadata": {},
     "output_type": "execute_result"
    }
   ],
   "source": [
    "db.q(acca_sql)"
   ]
  },
  {
   "cell_type": "code",
   "execution_count": null,
   "metadata": {},
   "outputs": [
    {
     "data": {
      "text/plain": [
       "<Database <sqlite3.Connection object>>"
      ]
     },
     "execution_count": null,
     "metadata": {},
     "output_type": "execute_result"
    }
   ],
   "source": [
    "db.create_view(\"AccaDaccaAlbums\", acca_sql, replace=True)"
   ]
  },
  {
   "cell_type": "code",
   "execution_count": null,
   "metadata": {},
   "outputs": [],
   "source": [
    "#| exports\n",
    "class _ViewsGetter(_Getter):\n",
    "    def __dir__(self): return self.db.view_names()\n",
    "\n",
    "@patch(as_prop=True)\n",
    "def v(self:Database): return _ViewsGetter(self)"
   ]
  },
  {
   "cell_type": "code",
   "execution_count": null,
   "metadata": {},
   "outputs": [
    {
     "data": {
      "text/plain": [
       "AccaDaccaAlbums"
      ]
     },
     "execution_count": null,
     "metadata": {},
     "output_type": "execute_result"
    }
   ],
   "source": [
    "dv = db.v\n",
    "dv"
   ]
  },
  {
   "cell_type": "code",
   "execution_count": null,
   "metadata": {},
   "outputs": [
    {
     "data": {
      "text/plain": [
       "[{'AlbumId': 1,\n",
       "  'Title': 'For Those About To Rock We Salute You',\n",
       "  'ArtistId': 1},\n",
       " {'AlbumId': 4, 'Title': 'Let There Be Rock', 'ArtistId': 1}]"
      ]
     },
     "execution_count": null,
     "metadata": {},
     "output_type": "execute_result"
    }
   ],
   "source": [
    "dv.AccaDaccaAlbums()"
   ]
  },
  {
   "cell_type": "code",
   "execution_count": null,
   "metadata": {},
   "outputs": [],
   "source": [
    "#| export\n",
    "@patch\n",
    "def create(\n",
    "    self: Database,\n",
    "    cls=None,  # Dataclass to create table from\n",
    "    name=None,  # Name of table to create\n",
    "    pk='id',  # Column(s) to use as a primary key\n",
    "    foreign_keys=None,  # Foreign key definitions\n",
    "    defaults=None,  # Database table defaults\n",
    "    column_order=None,  # Which columns should come first\n",
    "    not_null=None,  # Columns that should be created as ``NOT NULL``\n",
    "    hash_id=None,  # Column to be used as a primary key using hash\n",
    "    hash_id_columns=None,  # Columns used when calculating hash\n",
    "    extracts=None,  # Columns to be extracted during inserts\n",
    "    if_not_exists=False,  # Use `CREATE TABLE IF NOT EXISTS`\n",
    "    replace=False,  # Drop and replace table if it already exists\n",
    "    ignore=True,  # Silently do nothing if table already exists\n",
    "    transform=False,  # If table exists transform it to fit schema\n",
    "    strict=False,  # Apply STRICT mode to table\n",
    "):\n",
    "    \"Create table from `cls`, default name to snake-case version of class name\"\n",
    "    flexiclass(cls)\n",
    "    if name is None: name = camel2snake(cls.__name__)\n",
    "    typs = {o.name: o.type for o in fields(cls)}\n",
    "    res = self.create_table(\n",
    "        name, typs, defaults=defaults,\n",
    "        pk=pk, foreign_keys=foreign_keys, column_order=column_order, not_null=not_null,\n",
    "        hash_id=hash_id, hash_id_columns=hash_id_columns, extracts=extracts, transform=transform,\n",
    "        if_not_exists=if_not_exists, replace=replace, ignore=ignore, strict=strict)\n",
    "    res.cls = cls\n",
    "    return res"
   ]
  },
  {
   "cell_type": "markdown",
   "metadata": {},
   "source": [
    "The class you pass to `create` is converted to a dataclass where any fields missing a default are defaulted to `None`."
   ]
  },
  {
   "cell_type": "code",
   "execution_count": null,
   "metadata": {},
   "outputs": [
    {
     "data": {
      "text/plain": [
       "Cat(id=1, name=UNSET, age=UNSET, city='Unknown')"
      ]
     },
     "execution_count": null,
     "metadata": {},
     "output_type": "execute_result"
    }
   ],
   "source": [
    "class Cat: id: int; name: str; age: int; city: str = \"Unknown\"\n",
    "cats = db.create(Cat)\n",
    "Cat(1)"
   ]
  },
  {
   "cell_type": "markdown",
   "metadata": {},
   "source": [
    "To transform a table after creation, use the `.create()` method again, this time with the `transform` keyword set to `True`.\n"
   ]
  },
  {
   "cell_type": "code",
   "execution_count": null,
   "metadata": {},
   "outputs": [
    {
     "data": {
      "text/plain": [
       "<Table cat (id, name, age, city, breed)>"
      ]
     },
     "execution_count": null,
     "metadata": {},
     "output_type": "execute_result"
    }
   ],
   "source": [
    "class Cat: id: int; name: str; age: int; city: str = \"Unknown\"; breed: str = \"Unknown\"\n",
    "cats = db.create(Cat, transform=True)\n",
    "cats"
   ]
  },
  {
   "cell_type": "code",
   "execution_count": null,
   "metadata": {},
   "outputs": [
    {
     "data": {
      "text/plain": [
       "Cat(id=1, name=UNSET, age=UNSET, city='Unknown', breed='Unknown')"
      ]
     },
     "execution_count": null,
     "metadata": {},
     "output_type": "execute_result"
    }
   ],
   "source": [
    "Cat(1)"
   ]
  },
  {
   "cell_type": "code",
   "execution_count": null,
   "metadata": {},
   "outputs": [
    {
     "name": "stdout",
     "output_type": "stream",
     "text": [
      "CREATE TABLE \"cat\" (\n",
      "   [id] INTEGER PRIMARY KEY,\n",
      "   [name] TEXT,\n",
      "   [age] INTEGER,\n",
      "   [city] TEXT,\n",
      "   [breed] TEXT\n",
      ")\n"
     ]
    }
   ],
   "source": [
    "print(cats.schema)"
   ]
  },
  {
   "cell_type": "code",
   "execution_count": null,
   "metadata": {},
   "outputs": [],
   "source": [
    "db.t.cat.drop()"
   ]
  },
  {
   "cell_type": "code",
   "execution_count": null,
   "metadata": {},
   "outputs": [],
   "source": [
    "#| export\n",
    "@patch\n",
    "def import_file(self:Database, table_name, file, format=None, pk=None, alter=False):\n",
    "    \"Import path or handle `file` to new table `table_name`\"\n",
    "    if isinstance(file, str): file = file.encode()\n",
    "    if isinstance(file, bytes): file = io.BytesIO(file)\n",
    "    with maybe_open(file) as fp: rows, format_used = rows_from_file(fp, format=format)\n",
    "    tracker = TypeTracker()\n",
    "    rows = tracker.wrap(rows)\n",
    "    tbl = self[table_name]\n",
    "    tbl.insert_all(rows, alter=alter)\n",
    "    tbl.transform(types=tracker.types)\n",
    "    if pk: tbl.transform(pk=pk)\n",
    "    return tbl"
   ]
  },
  {
   "cell_type": "markdown",
   "metadata": {},
   "source": [
    "This uses [`sqlite_utils.utils.rows_from_file`](https://sqlite-utils.datasette.io/en/stable/reference.html#sqlite-utils-utils-rows-from-file) to load the file."
   ]
  },
  {
   "cell_type": "code",
   "execution_count": null,
   "metadata": {},
   "outputs": [
    {
     "name": "stdout",
     "output_type": "stream",
     "text": [
      "[{'id': 1, 'name': 'Alice', 'age': 30, 'city': None}, {'id': 2, 'name': 'Bob', 'age': 25, 'city': None}, {'id': 3, 'name': 'Charlie', 'age': 35, 'city': None}, {'id': 4, 'name': 'David', 'age': 40, 'city': None}, {'id': 5, 'name': 'Eve', 'age': 45, 'city': 'New York'}]\n"
     ]
    }
   ],
   "source": [
    "db = Database(\":memory:\")\n",
    "csv1 = \"id,name,age\\n1,Alice,30\\n2,Bob,25\"\n",
    "csv2 = \"id,name,age\\n3,Charlie,35\\n4,David,40\"\n",
    "csv3 = \"id,name,age,city\\n5,Eve,45,New York\"\n",
    "\n",
    "# import file to new table\n",
    "tbl = db.import_file(\"people\", csv1)\n",
    "assert len(tbl()) == 2\n",
    "\n",
    "# import file to existing table (same schema)\n",
    "tbl = db.import_file(\"people\", csv2)\n",
    "assert len(tbl()) == 4\n",
    "\n",
    "# import file to existing table (schema change fails)\n",
    "test_fail(lambda: db.import_file(\"people\", csv3),contains='city')\n",
    "\n",
    "# import file to existing table (schema change succeeds)\n",
    "assert 'city' not in tbl.c\n",
    "tbl = db.import_file(\"people\", csv3, alter=True)\n",
    "assert 'city' in tbl.c\n",
    "\n",
    "print(tbl())\n",
    "tbl.drop()"
   ]
  },
  {
   "cell_type": "markdown",
   "metadata": {},
   "source": [
    "## Database diagrams"
   ]
  },
  {
   "cell_type": "markdown",
   "metadata": {},
   "source": [
    "(Requires graphviz.)"
   ]
  },
  {
   "cell_type": "code",
   "execution_count": null,
   "metadata": {},
   "outputs": [
    {
     "data": {
      "text/plain": [
       "ForeignKey(table='Album', column='ArtistId', other_table='Artist', other_column='ArtistId')"
      ]
     },
     "execution_count": null,
     "metadata": {},
     "output_type": "execute_result"
    }
   ],
   "source": [
    "fk = album.foreign_keys[0]\n",
    "fk"
   ]
  },
  {
   "cell_type": "code",
   "execution_count": null,
   "metadata": {},
   "outputs": [],
   "source": [
    "#| exports\n",
    "def _edge(tbl):\n",
    "    return \"\\n\".join(f\"{fk.table}:{fk.column} -> {fk.other_table}:{fk.other_column};\"\n",
    "                     for fk in tbl.foreign_keys)\n",
    "\n",
    "def _row(col):\n",
    "    xtra = \" 🔑\" if col.is_pk else \"\"\n",
    "    bg = ' bgcolor=\"#ffebcd\"' if col.is_pk else \"\"\n",
    "    return f'    <tr><td port=\"{col.name}\"{bg}>{col.name}{xtra}</td></tr>'\n",
    "\n",
    "def _tnode(tbl):\n",
    "    rows = \"\\n\".join(_row(o) for o in tbl.columns)\n",
    "    res = f\"\"\"<table cellborder=\"1\" cellspacing=\"0\">\n",
    "    <tr><td bgcolor=\"lightgray\">{tbl.name}</td></tr>\n",
    "{rows}\n",
    "  </table>\"\"\"\n",
    "    return f\"{tbl.name} [label=<{res}>];\\n\""
   ]
  },
  {
   "cell_type": "code",
   "execution_count": null,
   "metadata": {},
   "outputs": [],
   "source": [
    "#| exports\n",
    "def diagram(tbls, ratio=0.7, size=\"10\", neato=False, render=True):\n",
    "    layout = \"\\nlayout=neato;\\noverlap=prism;\\noverlap_scaling=0.5;\"\"\" if neato else \"\"\n",
    "    edges  = \"\\n\".join(map(_edge,  tbls))\n",
    "    tnodes = \"\\n\".join(map(_tnode, tbls))\n",
    "    \n",
    "    res = f\"\"\"digraph G {{\n",
    "rankdir=LR;{layout}\n",
    "size=\"{size}\";\n",
    "ratio={ratio};\n",
    "node [shape=plaintext]\n",
    "\n",
    "{tnodes}\n",
    "\n",
    "{edges}\n",
    "}}\n",
    "\"\"\"\n",
    "    return Source(res) if render else res"
   ]
  },
  {
   "cell_type": "code",
   "execution_count": null,
   "metadata": {},
   "outputs": [
    {
     "data": {
      "image/svg+xml": [
       "<?xml version=\"1.0\" encoding=\"UTF-8\" standalone=\"no\"?>\n",
       "<!DOCTYPE svg PUBLIC \"-//W3C//DTD SVG 1.1//EN\"\n",
       " \"http://www.w3.org/Graphics/SVG/1.1/DTD/svg11.dtd\">\n",
       "<!-- Generated by graphviz version 12.1.1 (20240910.0053)\n",
       " -->\n",
       "<!-- Title: G Pages: 1 -->\n",
       "<svg width=\"8pt\" height=\"8pt\"\n",
       " viewBox=\"0.00 0.00 8.00 8.00\" xmlns=\"http://www.w3.org/2000/svg\" xmlns:xlink=\"http://www.w3.org/1999/xlink\">\n",
       "<g id=\"graph0\" class=\"graph\" transform=\"scale(1 1) rotate(0) translate(4 4)\">\n",
       "<title>G</title>\n",
       "<polygon fill=\"white\" stroke=\"none\" points=\"-4,4 -4,-4 4,-4 4,4 -4,4\"/>\n",
       "</g>\n",
       "</svg>\n"
      ],
      "text/plain": [
       "<graphviz.sources.Source>"
      ]
     },
     "execution_count": null,
     "metadata": {},
     "output_type": "execute_result"
    }
   ],
   "source": [
    "diagram(db.tables)"
   ]
  },
  {
   "cell_type": "markdown",
   "metadata": {},
   "source": [
    "## export -"
   ]
  },
  {
   "cell_type": "code",
   "execution_count": null,
   "metadata": {},
   "outputs": [],
   "source": [
    "#| hide\n",
    "import nbdev; nbdev.nbdev_export()"
   ]
  },
  {
   "cell_type": "code",
   "execution_count": null,
   "metadata": {},
   "outputs": [],
   "source": []
  }
 ],
 "metadata": {
  "kernelspec": {
   "display_name": "python3",
   "language": "python",
   "name": "python3"
  }
 },
 "nbformat": 4,
 "nbformat_minor": 4
}
