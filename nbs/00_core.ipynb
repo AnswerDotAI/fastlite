{
 "cells": [
  {
   "cell_type": "code",
   "execution_count": null,
   "metadata": {},
   "outputs": [],
   "source": [
    "#| default_exp core"
   ]
  },
  {
   "cell_type": "markdown",
   "metadata": {},
   "source": [
    "# Source\n",
    "\n",
    "> Source code for fastlite"
   ]
  },
  {
   "cell_type": "markdown",
   "metadata": {},
   "source": [
    "## Metadata"
   ]
  },
  {
   "cell_type": "code",
   "execution_count": null,
   "metadata": {},
   "outputs": [],
   "source": [
    "#| export\n",
    "from dataclasses import dataclass, field, make_dataclass, fields, Field, is_dataclass, MISSING\n",
    "from typing import Any,Union,Optional, get_args\n",
    "from enum import Enum\n",
    "from inspect import get_annotations\n",
    "\n",
    "from fastcore.utils import *\n",
    "from fastcore.xml import highlight\n",
    "from fastcore.xtras import hl_md, dataclass_src\n",
    "from sqlite_minutils.db import *\n",
    "from sqlite_minutils.utils import rows_from_file,TypeTracker,Format\n",
    "import types\n",
    "\n",
    "try: from graphviz import Source\n",
    "except ImportError: pass"
   ]
  },
  {
   "cell_type": "code",
   "execution_count": null,
   "metadata": {},
   "outputs": [],
   "source": [
    "from IPython.display import Markdown\n",
    "from fastcore.test import test_fail"
   ]
  },
  {
   "cell_type": "code",
   "execution_count": null,
   "metadata": {},
   "outputs": [],
   "source": [
    "from fastcore.net import urlsave\n",
    "url = 'https://github.com/lerocha/chinook-database/raw/master/ChinookDatabase/DataSources/Chinook_Sqlite.sqlite'\n",
    "path = Path('chinook.sqlite')\n",
    "if not path.exists(): urlsave(url, path)"
   ]
  },
  {
   "cell_type": "code",
   "execution_count": null,
   "metadata": {},
   "outputs": [],
   "source": [
    "db = Database(\"chinook.sqlite\")"
   ]
  },
  {
   "cell_type": "code",
   "execution_count": null,
   "metadata": {},
   "outputs": [],
   "source": [
    "#| exports\n",
    "class _Getter:\n",
    "    \"Abstract class with dynamic attributes providing access to DB objects\"\n",
    "    def __init__(self, db): self.db = db\n",
    "    # NB: Define `__dir__` in subclass to get list of objects\n",
    "    def __repr__(self): return \", \".join(dir(self))\n",
    "    def __contains__(self, s): return (s if isinstance(s,str) else s.name) in dir(self)\n",
    "    def __getitem__(self, idxs):\n",
    "        if isinstance(idxs,str): return self.db.table(idxs)\n",
    "        return [self.db.table(o) for o in idxs]\n",
    "    def __getattr__(self, k):\n",
    "        if k[0]=='_': raise AttributeError\n",
    "        return self.db[k]\n",
    "\n",
    "class _TablesGetter(_Getter):\n",
    "    def __dir__(self): return self.db.table_names()\n",
    "\n",
    "@patch(as_prop=True)\n",
    "def t(self:Database): return _TablesGetter(self)"
   ]
  },
  {
   "cell_type": "markdown",
   "metadata": {},
   "source": [
    "By returning a `_TablesGetter` we get a repr and auto-complete that shows all tables in the DB."
   ]
  },
  {
   "cell_type": "code",
   "execution_count": null,
   "metadata": {},
   "outputs": [
    {
     "data": {
      "text/plain": [
       "Album, Artist, Customer, Employee, Genre, Invoice, InvoiceLine, MediaType, Playlist, PlaylistTrack, Track"
      ]
     },
     "execution_count": null,
     "metadata": {},
     "output_type": "execute_result"
    }
   ],
   "source": [
    "dt = db.t\n",
    "dt"
   ]
  },
  {
   "cell_type": "code",
   "execution_count": null,
   "metadata": {},
   "outputs": [
    {
     "data": {
      "text/plain": [
       "<Table Artist (ArtistId, Name)>"
      ]
     },
     "execution_count": null,
     "metadata": {},
     "output_type": "execute_result"
    }
   ],
   "source": [
    "artist = dt.Artist\n",
    "artist"
   ]
  },
  {
   "cell_type": "markdown",
   "metadata": {},
   "source": [
    "This also can be used to get multiple tables at once."
   ]
  },
  {
   "cell_type": "code",
   "execution_count": null,
   "metadata": {},
   "outputs": [
    {
     "data": {
      "text/plain": [
       "[<Table Album (AlbumId, Title, ArtistId)>, <Table Artist (ArtistId, Name)>]"
      ]
     },
     "execution_count": null,
     "metadata": {},
     "output_type": "execute_result"
    }
   ],
   "source": [
    "dt['Album','Artist']"
   ]
  },
  {
   "cell_type": "code",
   "execution_count": null,
   "metadata": {},
   "outputs": [],
   "source": [
    "assert 'Artist' in dt\n",
    "assert artist in dt\n",
    "assert 'foo' not in dt"
   ]
  },
  {
   "cell_type": "code",
   "execution_count": null,
   "metadata": {},
   "outputs": [],
   "source": [
    "#| exports\n",
    "class _Col:\n",
    "    def __init__(self, t, c): self.t,self.c = t,c\n",
    "    def __str__(self):  return f'\"{self.t}\".\"{self.c}\"'\n",
    "    def __repr__(self):  return self.c\n",
    "    def __iter__(self): return iter(self.c)\n",
    "\n",
    "class _ColsGetter:\n",
    "    def __init__(self, tbl): self.tbl = tbl\n",
    "    def __dir__(self): return map(repr, self())\n",
    "    def __call__(self): return [_Col(self.tbl.name,o.name) for o in self.tbl.columns]\n",
    "    def __contains__(self, s): return (s if isinstance(s,str) else s.c) in self.tbl.columns_dict\n",
    "    def __repr__(self): return \", \".join(dir(self))\n",
    "\n",
    "    def __getattr__(self, k):\n",
    "        if k[0]=='_': raise AttributeError\n",
    "        return _Col(self.tbl.name, k)\n",
    "\n",
    "@patch(as_prop=True)\n",
    "def c(self:Table): return _ColsGetter(self)\n",
    "\n",
    "@patch(as_prop=True)\n",
    "def c(self:View): return _ColsGetter(self)"
   ]
  },
  {
   "cell_type": "markdown",
   "metadata": {},
   "source": [
    "Column auto-complete and repr are much the same as tables."
   ]
  },
  {
   "cell_type": "code",
   "execution_count": null,
   "metadata": {},
   "outputs": [
    {
     "data": {
      "text/plain": [
       "ArtistId, Name"
      ]
     },
     "execution_count": null,
     "metadata": {},
     "output_type": "execute_result"
    }
   ],
   "source": [
    "ac = artist.c\n",
    "ac"
   ]
  },
  {
   "cell_type": "markdown",
   "metadata": {},
   "source": [
    "Columns stringify in a format suitable for including in SQL statements."
   ]
  },
  {
   "cell_type": "code",
   "execution_count": null,
   "metadata": {},
   "outputs": [
    {
     "name": "stdout",
     "output_type": "stream",
     "text": [
      "select \"Artist\".\"Name\" ...\n"
     ]
    }
   ],
   "source": [
    "print(f\"select {ac.Name} ...\")"
   ]
  },
  {
   "cell_type": "code",
   "execution_count": null,
   "metadata": {},
   "outputs": [],
   "source": [
    "#| exports\n",
    "@patch\n",
    "def __str__(self:Table): return f'\"{self.name}\"'\n",
    "\n",
    "@patch\n",
    "def __str__(self:View): return f'\"{self.name}\"'"
   ]
  },
  {
   "cell_type": "markdown",
   "metadata": {},
   "source": [
    "Tables and views do the same."
   ]
  },
  {
   "cell_type": "code",
   "execution_count": null,
   "metadata": {},
   "outputs": [
    {
     "name": "stdout",
     "output_type": "stream",
     "text": [
      "select \"Artist\".\"Name\" from \"Artist\"\n"
     ]
    }
   ],
   "source": [
    "print(f\"select {ac.Name} from {artist}\")"
   ]
  },
  {
   "cell_type": "code",
   "execution_count": null,
   "metadata": {},
   "outputs": [],
   "source": [
    "assert 'Name' in ac\n",
    "assert ac.Name in ac\n",
    "assert 'foo' not in ac"
   ]
  },
  {
   "cell_type": "markdown",
   "metadata": {},
   "source": [
    "## Queries and views"
   ]
  },
  {
   "cell_type": "code",
   "execution_count": null,
   "metadata": {},
   "outputs": [],
   "source": [
    "#| exports\n",
    "@patch\n",
    "def q(self:Database, sql: str, params = None)->list:\n",
    "    return list(self.query(sql, params=params))"
   ]
  },
  {
   "cell_type": "markdown",
   "metadata": {},
   "source": [
    "This is a minor shortcut for interactive use."
   ]
  },
  {
   "cell_type": "code",
   "execution_count": null,
   "metadata": {},
   "outputs": [
    {
     "data": {
      "text/plain": [
       "[{'ArtistId': 1, 'Name': 'AC/DC'}]"
      ]
     },
     "execution_count": null,
     "metadata": {},
     "output_type": "execute_result"
    }
   ],
   "source": [
    "acdc = db.q(f\"select * from {artist} where {ac.Name} like 'AC/%'\")\n",
    "acdc"
   ]
  },
  {
   "cell_type": "code",
   "execution_count": null,
   "metadata": {},
   "outputs": [],
   "source": [
    "#| exports\n",
    "def _get_flds(tbl): \n",
    "    return [(k, v|None, field(default=tbl.default_values.get(k,None)))\n",
    "            for k,v in tbl.columns_dict.items()]\n",
    "\n",
    "def _dataclass(self:Table, store=True, suf='')->type:\n",
    "    \"Create a `dataclass` with the types and defaults of this table\"\n",
    "    res = make_dataclass(self.name.title()+suf, _get_flds(self))\n",
    "    flexiclass(res)\n",
    "    if store: self.cls = res\n",
    "    return res\n",
    "\n",
    "Table.dataclass = _dataclass"
   ]
  },
  {
   "cell_type": "code",
   "execution_count": null,
   "metadata": {},
   "outputs": [
    {
     "data": {
      "text/plain": [
       "Artist(ArtistId=1, Name='AC/DC')"
      ]
     },
     "execution_count": null,
     "metadata": {},
     "output_type": "execute_result"
    }
   ],
   "source": [
    "artist_dc = artist.dataclass()\n",
    "art1_obj = artist_dc(**acdc[0])\n",
    "art1_obj"
   ]
  },
  {
   "cell_type": "markdown",
   "metadata": {},
   "source": [
    "You can get the definition of the dataclass using fastcore's `dataclass_src`:"
   ]
  },
  {
   "cell_type": "code",
   "execution_count": null,
   "metadata": {},
   "outputs": [
    {
     "data": {
      "text/markdown": [
       "```python\n",
       "@dataclass\n",
       "class Artist:\n",
       "    ArtistId: int | None = None\n",
       "    Name: str | None = None\n",
       "\n",
       "```"
      ],
      "text/plain": [
       "<IPython.core.display.Markdown object>"
      ]
     },
     "execution_count": null,
     "metadata": {},
     "output_type": "execute_result"
    }
   ],
   "source": [
    "src = dataclass_src(artist_dc)\n",
    "hl_md(src, 'python')"
   ]
  },
  {
   "cell_type": "code",
   "execution_count": null,
   "metadata": {},
   "outputs": [],
   "source": [
    "#| exports\n",
    "def all_dcs(db, with_views=False, store=True, suf=''):\n",
    "    \"dataclasses for all objects in `db`\"\n",
    "    return [o.dataclass(store=store, suf=suf) for o in db.tables + (db.views if with_views else [])]"
   ]
  },
  {
   "cell_type": "code",
   "execution_count": null,
   "metadata": {},
   "outputs": [],
   "source": [
    "#| exports\n",
    "def create_mod(db, mod_fn, with_views=False, store=True, suf=''):\n",
    "    \"Create module for dataclasses for `db`\"\n",
    "    mod_fn = str(mod_fn)\n",
    "    if not mod_fn.endswith('.py'): mod_fn+='.py'\n",
    "    with open(mod_fn, 'w') as f:\n",
    "        print('from dataclasses import dataclass', file=f)\n",
    "        print('from typing import Any,Union,Optional\\n', file=f)\n",
    "        for o in all_dcs(db, with_views, store=store, suf=suf): print(dataclass_src(o), file=f)"
   ]
  },
  {
   "cell_type": "code",
   "execution_count": null,
   "metadata": {},
   "outputs": [],
   "source": [
    "create_mod(db, 'db_dc')"
   ]
  },
  {
   "cell_type": "code",
   "execution_count": null,
   "metadata": {},
   "outputs": [
    {
     "data": {
      "text/plain": [
       "Track(TrackId=1, Name='For Those About To Rock (We Salute You)', AlbumId=1, MediaTypeId=1, GenreId=1, Composer='Angus Young, Malcolm Young, Brian Johnson', Milliseconds=343719, Bytes=11170334, UnitPrice=0.99)"
      ]
     },
     "execution_count": null,
     "metadata": {},
     "output_type": "execute_result"
    }
   ],
   "source": [
    "#| eval: false\n",
    "from db_dc import Track\n",
    "Track(**dt.Track.get(1))"
   ]
  },
  {
   "cell_type": "code",
   "execution_count": null,
   "metadata": {},
   "outputs": [],
   "source": [
    "#| exports\n",
    "@patch\n",
    "def __call__(\n",
    "    self:(Table|View),\n",
    "    where:str|None=None,  # SQL where fragment to use, for example `id > ?`\n",
    "    where_args: Iterable|dict|NoneType=None, # Parameters to use with `where`; iterable for `id>?`, or dict for `id>:id`\n",
    "    order_by: str|None=None, # Column or fragment of SQL to order by\n",
    "    limit:int|None=None, # Number of rows to limit to\n",
    "    offset:int|None=None, # SQL offset\n",
    "    select:str = \"*\", # Comma-separated list of columns to select\n",
    "    with_pk:bool=False, # Return tuple of (pk,row)?\n",
    "    as_cls:bool=True, # Convert returned dict to stored dataclass?\n",
    "    **kwargs)->list:\n",
    "    \"Shortcut for `rows_where` or `pks_and_rows_where`, depending on `with_pk`\"\n",
    "    f = getattr(self, 'pks_and_rows_where' if with_pk else 'rows_where')\n",
    "    xtra = getattr(self, 'xtra_id', {})\n",
    "    if xtra:\n",
    "        xw = ' and '.join(f\"[{k}] = {v!r}\" for k,v in xtra.items())\n",
    "        where = f'{xw} and {where}' if where else xw\n",
    "    res = f(where=where, where_args=where_args, order_by=order_by, limit=limit, offset=offset, select=select, **kwargs)\n",
    "    if as_cls and hasattr(self,'cls'):\n",
    "        if with_pk: res = ((k,self.cls(**v)) for k,v in res)\n",
    "        else: res = (self.cls(**o) for o in res)\n",
    "    return list(res)"
   ]
  },
  {
   "cell_type": "markdown",
   "metadata": {},
   "source": [
    "This calls either `rows_where` (if `with_pk`) or `with_pk` (otherwise). If `dataclass(store=True)` has been called, then if `as_cls` rows will be returned as dataclass objects."
   ]
  },
  {
   "cell_type": "code",
   "execution_count": null,
   "metadata": {},
   "outputs": [
    {
     "data": {
      "text/plain": [
       "[Artist(ArtistId=1, Name='AC/DC'), Artist(ArtistId=2, Name='Accept')]"
      ]
     },
     "execution_count": null,
     "metadata": {},
     "output_type": "execute_result"
    }
   ],
   "source": [
    "artist(limit=2)"
   ]
  },
  {
   "cell_type": "markdown",
   "metadata": {},
   "source": [
    "If `with_pk` then tuples are returns with PKs 1st."
   ]
  },
  {
   "cell_type": "code",
   "execution_count": null,
   "metadata": {},
   "outputs": [
    {
     "data": {
      "text/plain": [
       "[(1, Artist(ArtistId=1, Name='AC/DC')), (2, Artist(ArtistId=2, Name='Accept'))]"
      ]
     },
     "execution_count": null,
     "metadata": {},
     "output_type": "execute_result"
    }
   ],
   "source": [
    "artist(with_pk=True, limit=2)"
   ]
  },
  {
   "cell_type": "code",
   "execution_count": null,
   "metadata": {},
   "outputs": [
    {
     "data": {
      "text/plain": [
       "{'ArtistId': 1, 'Name': 'AC/DC'}"
      ]
     },
     "execution_count": null,
     "metadata": {},
     "output_type": "execute_result"
    }
   ],
   "source": [
    "artist.get(1)"
   ]
  },
  {
   "cell_type": "code",
   "execution_count": null,
   "metadata": {},
   "outputs": [],
   "source": [
    "album = dt.Album\n",
    "\n",
    "acca_sql = f\"\"\"select {album}.*\n",
    "from {album} join {artist} using (ArtistId)\n",
    "where {ac.Name} like 'AC/%'\"\"\""
   ]
  },
  {
   "cell_type": "code",
   "execution_count": null,
   "metadata": {},
   "outputs": [
    {
     "data": {
      "text/markdown": [
       "```sql\n",
       "select \"Album\".*\n",
       "from \"Album\" join \"Artist\" using (ArtistId)\n",
       "where \"Artist\".\"Name\" like 'AC/%'\n",
       "```"
      ],
      "text/plain": [
       "<IPython.core.display.Markdown object>"
      ]
     },
     "execution_count": null,
     "metadata": {},
     "output_type": "execute_result"
    }
   ],
   "source": [
    "hl_md(acca_sql, 'sql')"
   ]
  },
  {
   "cell_type": "code",
   "execution_count": null,
   "metadata": {},
   "outputs": [
    {
     "data": {
      "text/plain": [
       "[{'AlbumId': 1,\n",
       "  'Title': 'For Those About To Rock We Salute You',\n",
       "  'ArtistId': 1},\n",
       " {'AlbumId': 4, 'Title': 'Let There Be Rock', 'ArtistId': 1}]"
      ]
     },
     "execution_count": null,
     "metadata": {},
     "output_type": "execute_result"
    }
   ],
   "source": [
    "db.q(acca_sql)"
   ]
  },
  {
   "cell_type": "code",
   "execution_count": null,
   "metadata": {},
   "outputs": [
    {
     "data": {
      "text/plain": [
       "<Database <sqlean.dbapi2.Connection object>>"
      ]
     },
     "execution_count": null,
     "metadata": {},
     "output_type": "execute_result"
    }
   ],
   "source": [
    "db.create_view(\"AccaDaccaAlbums\", acca_sql, replace=True)"
   ]
  },
  {
   "cell_type": "code",
   "execution_count": null,
   "metadata": {},
   "outputs": [],
   "source": [
    "#| exports\n",
    "class _ViewsGetter(_Getter):\n",
    "    def __dir__(self): return self.db.view_names()\n",
    "\n",
    "@patch(as_prop=True)\n",
    "def v(self:Database): return _ViewsGetter(self)"
   ]
  },
  {
   "cell_type": "code",
   "execution_count": null,
   "metadata": {},
   "outputs": [
    {
     "data": {
      "text/plain": [
       "AccaDaccaAlbums"
      ]
     },
     "execution_count": null,
     "metadata": {},
     "output_type": "execute_result"
    }
   ],
   "source": [
    "dv = db.v\n",
    "dv"
   ]
  },
  {
   "cell_type": "code",
   "execution_count": null,
   "metadata": {},
   "outputs": [
    {
     "data": {
      "text/plain": [
       "[{'AlbumId': 1,\n",
       "  'Title': 'For Those About To Rock We Salute You',\n",
       "  'ArtistId': 1},\n",
       " {'AlbumId': 4, 'Title': 'Let There Be Rock', 'ArtistId': 1}]"
      ]
     },
     "execution_count": null,
     "metadata": {},
     "output_type": "execute_result"
    }
   ],
   "source": [
    "dv.AccaDaccaAlbums()"
   ]
  },
  {
   "cell_type": "code",
   "execution_count": null,
   "metadata": {},
   "outputs": [],
   "source": [
    "#|export\n",
    "def _enum_types(e): return set(e.__annotations__.values())\n",
    "def _is_enum(o): return isinstance(o, type) and issubclass(o, Enum)\n",
    "\n",
    "def get_typ(t):\n",
    "    \"Get the underlying type.\"\n",
    "    if _is_enum(t) and len(types:=_enum_types(t)) == 1: return first(types)\n",
    "    _args = get_args(t)\n",
    "    if not _args: return t\n",
    "    return first(_args, bool)"
   ]
  },
  {
   "cell_type": "code",
   "execution_count": null,
   "metadata": {},
   "outputs": [
    {
     "data": {
      "text/plain": [
       "int"
      ]
     },
     "execution_count": null,
     "metadata": {},
     "output_type": "execute_result"
    }
   ],
   "source": [
    "get_typ(Union[int, None])"
   ]
  },
  {
   "cell_type": "code",
   "execution_count": null,
   "metadata": {},
   "outputs": [
    {
     "data": {
      "text/plain": [
       "int"
      ]
     },
     "execution_count": null,
     "metadata": {},
     "output_type": "execute_result"
    }
   ],
   "source": [
    "get_typ(int)"
   ]
  },
  {
   "cell_type": "markdown",
   "metadata": {},
   "source": [
    "If you have an `Enum` where all the fields are the same type, then `_get_typ` will return that type."
   ]
  },
  {
   "cell_type": "code",
   "execution_count": null,
   "metadata": {},
   "outputs": [
    {
     "data": {
      "text/plain": [
       "<enum '_Test'>"
      ]
     },
     "execution_count": null,
     "metadata": {},
     "output_type": "execute_result"
    }
   ],
   "source": [
    "class _Test(Enum): foo:str; bar:int\n",
    "class _Test2(Enum): foo:str; bar:str\n",
    "\n",
    "# fields are not the same type\n",
    "get_typ(_Test)"
   ]
  },
  {
   "cell_type": "code",
   "execution_count": null,
   "metadata": {},
   "outputs": [
    {
     "data": {
      "text/plain": [
       "str"
      ]
     },
     "execution_count": null,
     "metadata": {},
     "output_type": "execute_result"
    }
   ],
   "source": [
    "# fields are all of type `str`\n",
    "get_typ(_Test2)"
   ]
  },
  {
   "cell_type": "code",
   "execution_count": null,
   "metadata": {},
   "outputs": [],
   "source": [
    "#| export\n",
    "@patch\n",
    "def create(\n",
    "    self: Database,\n",
    "    cls=None,  # Dataclass to create table from\n",
    "    name=None,  # Name of table to create\n",
    "    pk='id',  # Column(s) to use as a primary key\n",
    "    foreign_keys=None,  # Foreign key definitions\n",
    "    defaults=None,  # Database table defaults\n",
    "    column_order=None,  # Which columns should come first\n",
    "    not_null=None,  # Columns that should be created as ``NOT NULL``\n",
    "    hash_id=None,  # Column to be used as a primary key using hash\n",
    "    hash_id_columns=None,  # Columns used when calculating hash\n",
    "    extracts=None,  # Columns to be extracted during inserts\n",
    "    if_not_exists=False,  # Use `CREATE TABLE IF NOT EXISTS`\n",
    "    replace=False,  # Drop and replace table if it already exists\n",
    "    ignore=True,  # Silently do nothing if table already exists\n",
    "    transform=False,  # If table exists transform it to fit schema\n",
    "    strict=False,  # Apply STRICT mode to table\n",
    "):\n",
    "    \"Create table from `cls`, default name to snake-case version of class name\"\n",
    "    flexiclass(cls)\n",
    "    if name is None: name = camel2snake(cls.__name__)\n",
    "    typs = {o.name: get_typ(o.type) for o in fields(cls)}\n",
    "    res = self.create_table(\n",
    "        name, typs, defaults=defaults,\n",
    "        pk=pk, foreign_keys=foreign_keys, column_order=column_order, not_null=not_null,\n",
    "        hash_id=hash_id, hash_id_columns=hash_id_columns, extracts=extracts, transform=transform,\n",
    "        if_not_exists=if_not_exists, replace=replace, ignore=ignore, strict=strict)\n",
    "    res.cls = cls\n",
    "    return res"
   ]
  },
  {
   "cell_type": "markdown",
   "metadata": {},
   "source": [
    "The class you pass to `create` is converted to a dataclass where any fields missing a default are defaulted to `None`."
   ]
  },
  {
   "cell_type": "code",
   "execution_count": null,
   "metadata": {},
   "outputs": [
    {
     "data": {
      "text/plain": [
       "Cat(id=1, name=UNSET, age=UNSET, city='Unknown')"
      ]
     },
     "execution_count": null,
     "metadata": {},
     "output_type": "execute_result"
    }
   ],
   "source": [
    "class Cat: id: int; name: str; age: int|None; city: str = \"Unknown\"\n",
    "cats = db.create(Cat)\n",
    "Cat(1)"
   ]
  },
  {
   "cell_type": "markdown",
   "metadata": {},
   "source": [
    "To transform a table after creation, use the `.create()` method again, this time with the `transform` keyword set to `True`.\n"
   ]
  },
  {
   "cell_type": "code",
   "execution_count": null,
   "metadata": {},
   "outputs": [
    {
     "data": {
      "text/plain": [
       "<Table cat (id, name, age, city)>"
      ]
     },
     "execution_count": null,
     "metadata": {},
     "output_type": "execute_result"
    }
   ],
   "source": [
    "class Cat: id: int; name: str; age: int; city: str = \"Unknown\"; breed: str = \"Unknown\"\n",
    "cats = db.create(Cat, transform=True)\n",
    "cats"
   ]
  },
  {
   "cell_type": "code",
   "execution_count": null,
   "metadata": {},
   "outputs": [
    {
     "data": {
      "text/plain": [
       "Cat(id=1, name=UNSET, age=UNSET, city='Unknown', breed='Unknown')"
      ]
     },
     "execution_count": null,
     "metadata": {},
     "output_type": "execute_result"
    }
   ],
   "source": [
    "Cat(1)"
   ]
  },
  {
   "cell_type": "code",
   "execution_count": null,
   "metadata": {},
   "outputs": [
    {
     "name": "stdout",
     "output_type": "stream",
     "text": [
      "CREATE TABLE [cat] (\n",
      "   [id] INTEGER PRIMARY KEY,\n",
      "   [name] TEXT,\n",
      "   [age] INTEGER,\n",
      "   [city] TEXT\n",
      ")\n"
     ]
    }
   ],
   "source": [
    "print(cats.schema)"
   ]
  },
  {
   "cell_type": "code",
   "execution_count": null,
   "metadata": {},
   "outputs": [],
   "source": [
    "db.t.cat.drop()"
   ]
  },
  {
   "cell_type": "code",
   "execution_count": null,
   "metadata": {},
   "outputs": [],
   "source": [
    "#| export\n",
    "@patch\n",
    "def import_file(self:Database, table_name, file, format=None, pk=None, alter=False):\n",
    "    \"Import path or handle `file` to new table `table_name`\"\n",
    "    if isinstance(file, str): file = file.encode()\n",
    "    if isinstance(file, bytes): file = io.BytesIO(file)\n",
    "    with maybe_open(file) as fp: rows, format_used = rows_from_file(fp, format=format)\n",
    "    tracker = TypeTracker()\n",
    "    rows = tracker.wrap(rows)\n",
    "    tbl = self[table_name]\n",
    "    tbl.insert_all(rows, alter=alter)\n",
    "    tbl.transform(types=tracker.types)\n",
    "    if pk: tbl.transform(pk=pk)\n",
    "    return tbl"
   ]
  },
  {
   "cell_type": "markdown",
   "metadata": {},
   "source": [
    "This uses [`sqlite_utils.utils.rows_from_file`](https://sqlite-utils.datasette.io/en/stable/reference.html#sqlite-utils-utils-rows-from-file) to load the file."
   ]
  },
  {
   "cell_type": "code",
   "execution_count": null,
   "metadata": {},
   "outputs": [
    {
     "name": "stdout",
     "output_type": "stream",
     "text": [
      "[{'id': 1, 'name': 'Alice', 'age': 30, 'city': None}, {'id': 2, 'name': 'Bob', 'age': 25, 'city': None}, {'id': 3, 'name': 'Charlie', 'age': 35, 'city': None}, {'id': 4, 'name': 'David', 'age': 40, 'city': None}, {'id': 5, 'name': 'Eve', 'age': 45, 'city': 'New York'}]\n"
     ]
    }
   ],
   "source": [
    "db = Database(\":memory:\")\n",
    "csv1 = \"id,name,age\\n1,Alice,30\\n2,Bob,25\"\n",
    "csv2 = \"id,name,age\\n3,Charlie,35\\n4,David,40\"\n",
    "csv3 = \"id,name,age,city\\n5,Eve,45,New York\"\n",
    "\n",
    "# import file to new table\n",
    "tbl = db.import_file(\"people\", csv1)\n",
    "assert len(tbl()) == 2\n",
    "\n",
    "# import file to existing table (same schema)\n",
    "tbl = db.import_file(\"people\", csv2)\n",
    "assert len(tbl()) == 4\n",
    "\n",
    "# import file to existing table (schema change fails)\n",
    "test_fail(lambda: db.import_file(\"people\", csv3),contains='city')\n",
    "\n",
    "# import file to existing table (schema change succeeds)\n",
    "assert 'city' not in tbl.c\n",
    "tbl = db.import_file(\"people\", csv3, alter=True)\n",
    "assert 'city' in tbl.c\n",
    "\n",
    "print(tbl())\n",
    "tbl.drop()"
   ]
  },
  {
   "cell_type": "markdown",
   "metadata": {},
   "source": [
    "## Database diagrams"
   ]
  },
  {
   "cell_type": "markdown",
   "metadata": {},
   "source": [
    "(Requires graphviz.)"
   ]
  },
  {
   "cell_type": "code",
   "execution_count": null,
   "metadata": {},
   "outputs": [
    {
     "data": {
      "text/plain": [
       "ForeignKey(table='Album', column='ArtistId', other_table='Artist', other_column='ArtistId')"
      ]
     },
     "execution_count": null,
     "metadata": {},
     "output_type": "execute_result"
    }
   ],
   "source": [
    "fk = album.foreign_keys[0]\n",
    "fk"
   ]
  },
  {
   "cell_type": "code",
   "execution_count": null,
   "metadata": {},
   "outputs": [],
   "source": [
    "#| exports\n",
    "def _edge(tbl):\n",
    "    return \"\\n\".join(f\"{fk.table}:{fk.column} -> {fk.other_table}:{fk.other_column};\"\n",
    "                     for fk in tbl.foreign_keys)\n",
    "\n",
    "def _row(col):\n",
    "    xtra = \" 🔑\" if col.is_pk else \"\"\n",
    "    bg = ' bgcolor=\"#ffebcd\"' if col.is_pk else \"\"\n",
    "    return f'    <tr><td port=\"{col.name}\"{bg}>{col.name}{xtra}</td></tr>'\n",
    "\n",
    "def _tnode(tbl):\n",
    "    rows = \"\\n\".join(_row(o) for o in tbl.columns)\n",
    "    res = f\"\"\"<table cellborder=\"1\" cellspacing=\"0\">\n",
    "    <tr><td bgcolor=\"lightgray\">{tbl.name}</td></tr>\n",
    "{rows}\n",
    "  </table>\"\"\"\n",
    "    return f\"{tbl.name} [label=<{res}>];\\n\""
   ]
  },
  {
   "cell_type": "code",
   "execution_count": null,
   "metadata": {},
   "outputs": [],
   "source": [
    "#| exports\n",
    "def diagram(tbls, ratio=0.7, size=\"10\", neato=False, render=True):\n",
    "    layout = \"\\nlayout=neato;\\noverlap=prism;\\noverlap_scaling=0.5;\"\"\" if neato else \"\"\n",
    "    edges  = \"\\n\".join(map(_edge,  tbls))\n",
    "    tnodes = \"\\n\".join(map(_tnode, tbls))\n",
    "    \n",
    "    res = f\"\"\"digraph G {{\n",
    "rankdir=LR;{layout}\n",
    "size=\"{size}\";\n",
    "ratio={ratio};\n",
    "node [shape=plaintext]\n",
    "\n",
    "{tnodes}\n",
    "\n",
    "{edges}\n",
    "}}\n",
    "\"\"\"\n",
    "    return Source(res) if render else res"
   ]
  },
  {
   "cell_type": "code",
   "execution_count": null,
   "metadata": {},
   "outputs": [],
   "source": [
    "db = Database(\"chinook.sqlite\")"
   ]
  },
  {
   "cell_type": "code",
   "execution_count": null,
   "metadata": {},
   "outputs": [
    {
     "data": {
      "image/svg+xml": [
       "<?xml version=\"1.0\" encoding=\"UTF-8\" standalone=\"no\"?>\n",
       "<!DOCTYPE svg PUBLIC \"-//W3C//DTD SVG 1.1//EN\"\n",
       " \"http://www.w3.org/Graphics/SVG/1.1/DTD/svg11.dtd\">\n",
       "<!-- Generated by graphviz version 2.50.0 (0)\n",
       " -->\n",
       "<!-- Title: G Pages: 1 -->\n",
       "<svg width=\"720pt\" height=\"506pt\"\n",
       " viewBox=\"0.00 0.00 720.00 505.90\" xmlns=\"http://www.w3.org/2000/svg\" xmlns:xlink=\"http://www.w3.org/1999/xlink\">\n",
       "<g id=\"graph0\" class=\"graph\" transform=\"scale(0.65 0.65) rotate(0) translate(4 768.5)\">\n",
       "<title>G</title>\n",
       "<polygon fill=\"white\" stroke=\"transparent\" points=\"-4,4 -4,-768.5 1095.43,-768.5 1095.43,4 -4,4\"/>\n",
       "<!-- Album -->\n",
       "<g id=\"node1\" class=\"node\">\n",
       "<title>Album</title>\n",
       "<polygon fill=\"lightgray\" stroke=\"transparent\" points=\"669.43,-289.5 669.43,-310.5 743.43,-310.5 743.43,-289.5 669.43,-289.5\"/>\n",
       "<polygon fill=\"none\" stroke=\"black\" points=\"669.43,-289.5 669.43,-310.5 743.43,-310.5 743.43,-289.5 669.43,-289.5\"/>\n",
       "<text text-anchor=\"start\" x=\"686.93\" y=\"-296.3\" font-family=\"Times,serif\" font-size=\"14.00\">Album</text>\n",
       "<polygon fill=\"#ffebcd\" stroke=\"transparent\" points=\"669.43,-268.5 669.43,-289.5 743.43,-289.5 743.43,-268.5 669.43,-268.5\"/>\n",
       "<polygon fill=\"none\" stroke=\"black\" points=\"669.43,-268.5 669.43,-289.5 743.43,-289.5 743.43,-268.5 669.43,-268.5\"/>\n",
       "<text text-anchor=\"start\" x=\"672.43\" y=\"-275.3\" font-family=\"Times,serif\" font-size=\"14.00\">AlbumId 🔑</text>\n",
       "<polygon fill=\"none\" stroke=\"black\" points=\"669.43,-247.5 669.43,-268.5 743.43,-268.5 743.43,-247.5 669.43,-247.5\"/>\n",
       "<text text-anchor=\"start\" x=\"693.43\" y=\"-254.3\" font-family=\"Times,serif\" font-size=\"14.00\">Title</text>\n",
       "<polygon fill=\"none\" stroke=\"black\" points=\"669.43,-226.5 669.43,-247.5 743.43,-247.5 743.43,-226.5 669.43,-226.5\"/>\n",
       "<text text-anchor=\"start\" x=\"684.93\" y=\"-233.3\" font-family=\"Times,serif\" font-size=\"14.00\">ArtistId</text>\n",
       "<polygon fill=\"none\" stroke=\"black\" points=\"668.43,-225.5 668.43,-311.5 744.43,-311.5 744.43,-225.5 668.43,-225.5\"/>\n",
       "</g>\n",
       "<!-- Artist -->\n",
       "<g id=\"node2\" class=\"node\">\n",
       "<title>Artist</title>\n",
       "<polygon fill=\"lightgray\" stroke=\"transparent\" points=\"955.43,-183.5 955.43,-204.5 1022.43,-204.5 1022.43,-183.5 955.43,-183.5\"/>\n",
       "<polygon fill=\"none\" stroke=\"black\" points=\"955.43,-183.5 955.43,-204.5 1022.43,-204.5 1022.43,-183.5 955.43,-183.5\"/>\n",
       "<text text-anchor=\"start\" x=\"973.43\" y=\"-190.3\" font-family=\"Times,serif\" font-size=\"14.00\">Artist</text>\n",
       "<polygon fill=\"#ffebcd\" stroke=\"transparent\" points=\"955.43,-162.5 955.43,-183.5 1022.43,-183.5 1022.43,-162.5 955.43,-162.5\"/>\n",
       "<polygon fill=\"none\" stroke=\"black\" points=\"955.43,-162.5 955.43,-183.5 1022.43,-183.5 1022.43,-162.5 955.43,-162.5\"/>\n",
       "<text text-anchor=\"start\" x=\"958.43\" y=\"-169.3\" font-family=\"Times,serif\" font-size=\"14.00\">ArtistId 🔑</text>\n",
       "<polygon fill=\"none\" stroke=\"black\" points=\"955.43,-141.5 955.43,-162.5 1022.43,-162.5 1022.43,-141.5 955.43,-141.5\"/>\n",
       "<text text-anchor=\"start\" x=\"971.93\" y=\"-148.3\" font-family=\"Times,serif\" font-size=\"14.00\">Name</text>\n",
       "<polygon fill=\"none\" stroke=\"black\" points=\"953.93,-141 953.93,-206 1022.93,-206 1022.93,-141 953.93,-141\"/>\n",
       "</g>\n",
       "<!-- Album&#45;&gt;Artist -->\n",
       "<g id=\"edge1\" class=\"edge\">\n",
       "<title>Album:ArtistId&#45;&gt;Artist:ArtistId</title>\n",
       "<path fill=\"none\" stroke=\"black\" d=\"M744.43,-236.5C838.47,-236.5 855.68,-177.04 944.17,-172.74\"/>\n",
       "<polygon fill=\"black\" stroke=\"black\" points=\"944.51,-176.24 954.43,-172.5 944.35,-169.24 944.51,-176.24\"/>\n",
       "</g>\n",
       "<!-- Customer -->\n",
       "<g id=\"node3\" class=\"node\">\n",
       "<title>Customer</title>\n",
       "<polygon fill=\"lightgray\" stroke=\"transparent\" points=\"662.43,-738.5 662.43,-759.5 751.43,-759.5 751.43,-738.5 662.43,-738.5\"/>\n",
       "<polygon fill=\"none\" stroke=\"black\" points=\"662.43,-738.5 662.43,-759.5 751.43,-759.5 751.43,-738.5 662.43,-738.5\"/>\n",
       "<text text-anchor=\"start\" x=\"679.93\" y=\"-745.3\" font-family=\"Times,serif\" font-size=\"14.00\">Customer</text>\n",
       "<polygon fill=\"#ffebcd\" stroke=\"transparent\" points=\"662.43,-717.5 662.43,-738.5 751.43,-738.5 751.43,-717.5 662.43,-717.5\"/>\n",
       "<polygon fill=\"none\" stroke=\"black\" points=\"662.43,-717.5 662.43,-738.5 751.43,-738.5 751.43,-717.5 662.43,-717.5\"/>\n",
       "<text text-anchor=\"start\" x=\"665.43\" y=\"-724.3\" font-family=\"Times,serif\" font-size=\"14.00\">CustomerId 🔑</text>\n",
       "<polygon fill=\"none\" stroke=\"black\" points=\"662.43,-696.5 662.43,-717.5 751.43,-717.5 751.43,-696.5 662.43,-696.5\"/>\n",
       "<text text-anchor=\"start\" x=\"677.93\" y=\"-703.3\" font-family=\"Times,serif\" font-size=\"14.00\">FirstName</text>\n",
       "<polygon fill=\"none\" stroke=\"black\" points=\"662.43,-675.5 662.43,-696.5 751.43,-696.5 751.43,-675.5 662.43,-675.5\"/>\n",
       "<text text-anchor=\"start\" x=\"678.43\" y=\"-682.3\" font-family=\"Times,serif\" font-size=\"14.00\">LastName</text>\n",
       "<polygon fill=\"none\" stroke=\"black\" points=\"662.43,-654.5 662.43,-675.5 751.43,-675.5 751.43,-654.5 662.43,-654.5\"/>\n",
       "<text text-anchor=\"start\" x=\"679.93\" y=\"-661.3\" font-family=\"Times,serif\" font-size=\"14.00\">Company</text>\n",
       "<polygon fill=\"none\" stroke=\"black\" points=\"662.43,-633.5 662.43,-654.5 751.43,-654.5 751.43,-633.5 662.43,-633.5\"/>\n",
       "<text text-anchor=\"start\" x=\"684.43\" y=\"-640.3\" font-family=\"Times,serif\" font-size=\"14.00\">Address</text>\n",
       "<polygon fill=\"none\" stroke=\"black\" points=\"662.43,-612.5 662.43,-633.5 751.43,-633.5 751.43,-612.5 662.43,-612.5\"/>\n",
       "<text text-anchor=\"start\" x=\"694.93\" y=\"-619.3\" font-family=\"Times,serif\" font-size=\"14.00\">City</text>\n",
       "<polygon fill=\"none\" stroke=\"black\" points=\"662.43,-591.5 662.43,-612.5 751.43,-612.5 751.43,-591.5 662.43,-591.5\"/>\n",
       "<text text-anchor=\"start\" x=\"692.93\" y=\"-598.3\" font-family=\"Times,serif\" font-size=\"14.00\">State</text>\n",
       "<polygon fill=\"none\" stroke=\"black\" points=\"662.43,-570.5 662.43,-591.5 751.43,-591.5 751.43,-570.5 662.43,-570.5\"/>\n",
       "<text text-anchor=\"start\" x=\"684.43\" y=\"-577.3\" font-family=\"Times,serif\" font-size=\"14.00\">Country</text>\n",
       "<polygon fill=\"none\" stroke=\"black\" points=\"662.43,-549.5 662.43,-570.5 751.43,-570.5 751.43,-549.5 662.43,-549.5\"/>\n",
       "<text text-anchor=\"start\" x=\"675.93\" y=\"-556.3\" font-family=\"Times,serif\" font-size=\"14.00\">PostalCode</text>\n",
       "<polygon fill=\"none\" stroke=\"black\" points=\"662.43,-528.5 662.43,-549.5 751.43,-549.5 751.43,-528.5 662.43,-528.5\"/>\n",
       "<text text-anchor=\"start\" x=\"689.93\" y=\"-535.3\" font-family=\"Times,serif\" font-size=\"14.00\">Phone</text>\n",
       "<polygon fill=\"none\" stroke=\"black\" points=\"662.43,-507.5 662.43,-528.5 751.43,-528.5 751.43,-507.5 662.43,-507.5\"/>\n",
       "<text text-anchor=\"start\" x=\"696.43\" y=\"-514.3\" font-family=\"Times,serif\" font-size=\"14.00\">Fax</text>\n",
       "<polygon fill=\"none\" stroke=\"black\" points=\"662.43,-486.5 662.43,-507.5 751.43,-507.5 751.43,-486.5 662.43,-486.5\"/>\n",
       "<text text-anchor=\"start\" x=\"689.93\" y=\"-493.3\" font-family=\"Times,serif\" font-size=\"14.00\">Email</text>\n",
       "<polygon fill=\"none\" stroke=\"black\" points=\"662.43,-465.5 662.43,-486.5 751.43,-486.5 751.43,-465.5 662.43,-465.5\"/>\n",
       "<text text-anchor=\"start\" x=\"668.93\" y=\"-472.3\" font-family=\"Times,serif\" font-size=\"14.00\">SupportRepId</text>\n",
       "<polygon fill=\"none\" stroke=\"black\" points=\"660.93,-464.5 660.93,-760.5 751.93,-760.5 751.93,-464.5 660.93,-464.5\"/>\n",
       "</g>\n",
       "<!-- Employee -->\n",
       "<g id=\"node4\" class=\"node\">\n",
       "<title>Employee</title>\n",
       "<polygon fill=\"lightgray\" stroke=\"transparent\" points=\"943.43,-548.5 943.43,-569.5 1034.43,-569.5 1034.43,-548.5 943.43,-548.5\"/>\n",
       "<polygon fill=\"none\" stroke=\"black\" points=\"943.43,-548.5 943.43,-569.5 1034.43,-569.5 1034.43,-548.5 943.43,-548.5\"/>\n",
       "<text text-anchor=\"start\" x=\"960.93\" y=\"-555.3\" font-family=\"Times,serif\" font-size=\"14.00\">Employee</text>\n",
       "<polygon fill=\"#ffebcd\" stroke=\"transparent\" points=\"943.43,-527.5 943.43,-548.5 1034.43,-548.5 1034.43,-527.5 943.43,-527.5\"/>\n",
       "<polygon fill=\"none\" stroke=\"black\" points=\"943.43,-527.5 943.43,-548.5 1034.43,-548.5 1034.43,-527.5 943.43,-527.5\"/>\n",
       "<text text-anchor=\"start\" x=\"946.43\" y=\"-534.3\" font-family=\"Times,serif\" font-size=\"14.00\">EmployeeId 🔑</text>\n",
       "<polygon fill=\"none\" stroke=\"black\" points=\"943.43,-506.5 943.43,-527.5 1034.43,-527.5 1034.43,-506.5 943.43,-506.5\"/>\n",
       "<text text-anchor=\"start\" x=\"960.43\" y=\"-513.3\" font-family=\"Times,serif\" font-size=\"14.00\">LastName</text>\n",
       "<polygon fill=\"none\" stroke=\"black\" points=\"943.43,-485.5 943.43,-506.5 1034.43,-506.5 1034.43,-485.5 943.43,-485.5\"/>\n",
       "<text text-anchor=\"start\" x=\"959.93\" y=\"-492.3\" font-family=\"Times,serif\" font-size=\"14.00\">FirstName</text>\n",
       "<polygon fill=\"none\" stroke=\"black\" points=\"943.43,-464.5 943.43,-485.5 1034.43,-485.5 1034.43,-464.5 943.43,-464.5\"/>\n",
       "<text text-anchor=\"start\" x=\"975.93\" y=\"-471.3\" font-family=\"Times,serif\" font-size=\"14.00\">Title</text>\n",
       "<polygon fill=\"none\" stroke=\"black\" points=\"943.43,-443.5 943.43,-464.5 1034.43,-464.5 1034.43,-443.5 943.43,-443.5\"/>\n",
       "<text text-anchor=\"start\" x=\"959.93\" y=\"-450.3\" font-family=\"Times,serif\" font-size=\"14.00\">ReportsTo</text>\n",
       "<polygon fill=\"none\" stroke=\"black\" points=\"943.43,-422.5 943.43,-443.5 1034.43,-443.5 1034.43,-422.5 943.43,-422.5\"/>\n",
       "<text text-anchor=\"start\" x=\"961.93\" y=\"-429.3\" font-family=\"Times,serif\" font-size=\"14.00\">BirthDate</text>\n",
       "<polygon fill=\"none\" stroke=\"black\" points=\"943.43,-401.5 943.43,-422.5 1034.43,-422.5 1034.43,-401.5 943.43,-401.5\"/>\n",
       "<text text-anchor=\"start\" x=\"963.93\" y=\"-408.3\" font-family=\"Times,serif\" font-size=\"14.00\">HireDate</text>\n",
       "<polygon fill=\"none\" stroke=\"black\" points=\"943.43,-380.5 943.43,-401.5 1034.43,-401.5 1034.43,-380.5 943.43,-380.5\"/>\n",
       "<text text-anchor=\"start\" x=\"966.43\" y=\"-387.3\" font-family=\"Times,serif\" font-size=\"14.00\">Address</text>\n",
       "<polygon fill=\"none\" stroke=\"black\" points=\"943.43,-359.5 943.43,-380.5 1034.43,-380.5 1034.43,-359.5 943.43,-359.5\"/>\n",
       "<text text-anchor=\"start\" x=\"976.93\" y=\"-366.3\" font-family=\"Times,serif\" font-size=\"14.00\">City</text>\n",
       "<polygon fill=\"none\" stroke=\"black\" points=\"943.43,-338.5 943.43,-359.5 1034.43,-359.5 1034.43,-338.5 943.43,-338.5\"/>\n",
       "<text text-anchor=\"start\" x=\"974.93\" y=\"-345.3\" font-family=\"Times,serif\" font-size=\"14.00\">State</text>\n",
       "<polygon fill=\"none\" stroke=\"black\" points=\"943.43,-317.5 943.43,-338.5 1034.43,-338.5 1034.43,-317.5 943.43,-317.5\"/>\n",
       "<text text-anchor=\"start\" x=\"966.43\" y=\"-324.3\" font-family=\"Times,serif\" font-size=\"14.00\">Country</text>\n",
       "<polygon fill=\"none\" stroke=\"black\" points=\"943.43,-296.5 943.43,-317.5 1034.43,-317.5 1034.43,-296.5 943.43,-296.5\"/>\n",
       "<text text-anchor=\"start\" x=\"957.93\" y=\"-303.3\" font-family=\"Times,serif\" font-size=\"14.00\">PostalCode</text>\n",
       "<polygon fill=\"none\" stroke=\"black\" points=\"943.43,-275.5 943.43,-296.5 1034.43,-296.5 1034.43,-275.5 943.43,-275.5\"/>\n",
       "<text text-anchor=\"start\" x=\"971.93\" y=\"-282.3\" font-family=\"Times,serif\" font-size=\"14.00\">Phone</text>\n",
       "<polygon fill=\"none\" stroke=\"black\" points=\"943.43,-254.5 943.43,-275.5 1034.43,-275.5 1034.43,-254.5 943.43,-254.5\"/>\n",
       "<text text-anchor=\"start\" x=\"978.43\" y=\"-261.3\" font-family=\"Times,serif\" font-size=\"14.00\">Fax</text>\n",
       "<polygon fill=\"none\" stroke=\"black\" points=\"943.43,-233.5 943.43,-254.5 1034.43,-254.5 1034.43,-233.5 943.43,-233.5\"/>\n",
       "<text text-anchor=\"start\" x=\"971.93\" y=\"-240.3\" font-family=\"Times,serif\" font-size=\"14.00\">Email</text>\n",
       "<polygon fill=\"none\" stroke=\"black\" points=\"941.93,-232.5 941.93,-570.5 1034.93,-570.5 1034.93,-232.5 941.93,-232.5\"/>\n",
       "</g>\n",
       "<!-- Customer&#45;&gt;Employee -->\n",
       "<g id=\"edge2\" class=\"edge\">\n",
       "<title>Customer:SupportRepId&#45;&gt;Employee:EmployeeId</title>\n",
       "<path fill=\"none\" stroke=\"black\" d=\"M752.43,-475.5C837.92,-475.5 852.4,-533.67 932.35,-538.22\"/>\n",
       "<polygon fill=\"black\" stroke=\"black\" points=\"932.33,-541.72 942.43,-538.5 932.53,-534.72 932.33,-541.72\"/>\n",
       "</g>\n",
       "<!-- Employee&#45;&gt;Employee -->\n",
       "<g id=\"edge3\" class=\"edge\">\n",
       "<title>Employee:ReportsTo&#45;&gt;Employee:EmployeeId</title>\n",
       "<path fill=\"none\" stroke=\"black\" d=\"M943.18,-450.48C876.33,-447.6 792.93,-455.86 792.93,-496.5 792.93,-535.08 868.07,-544.47 932.88,-542.87\"/>\n",
       "<polygon fill=\"black\" stroke=\"black\" points=\"933.31,-546.36 943.18,-542.52 933.07,-539.36 933.31,-546.36\"/>\n",
       "</g>\n",
       "<!-- Genre -->\n",
       "<g id=\"node5\" class=\"node\">\n",
       "<title>Genre</title>\n",
       "<polygon fill=\"lightgray\" stroke=\"transparent\" points=\"672.43,-85.5 672.43,-106.5 741.43,-106.5 741.43,-85.5 672.43,-85.5\"/>\n",
       "<polygon fill=\"none\" stroke=\"black\" points=\"672.43,-85.5 672.43,-106.5 741.43,-106.5 741.43,-85.5 672.43,-85.5\"/>\n",
       "<text text-anchor=\"start\" x=\"689.93\" y=\"-92.3\" font-family=\"Times,serif\" font-size=\"14.00\">Genre</text>\n",
       "<polygon fill=\"#ffebcd\" stroke=\"transparent\" points=\"672.43,-64.5 672.43,-85.5 741.43,-85.5 741.43,-64.5 672.43,-64.5\"/>\n",
       "<polygon fill=\"none\" stroke=\"black\" points=\"672.43,-64.5 672.43,-85.5 741.43,-85.5 741.43,-64.5 672.43,-64.5\"/>\n",
       "<text text-anchor=\"start\" x=\"675.43\" y=\"-71.3\" font-family=\"Times,serif\" font-size=\"14.00\">GenreId 🔑</text>\n",
       "<polygon fill=\"none\" stroke=\"black\" points=\"672.43,-43.5 672.43,-64.5 741.43,-64.5 741.43,-43.5 672.43,-43.5\"/>\n",
       "<text text-anchor=\"start\" x=\"689.93\" y=\"-50.3\" font-family=\"Times,serif\" font-size=\"14.00\">Name</text>\n",
       "<polygon fill=\"none\" stroke=\"black\" points=\"670.93,-43 670.93,-108 741.93,-108 741.93,-43 670.93,-43\"/>\n",
       "</g>\n",
       "<!-- Invoice -->\n",
       "<g id=\"node6\" class=\"node\">\n",
       "<title>Invoice</title>\n",
       "<polygon fill=\"lightgray\" stroke=\"transparent\" points=\"357.43,-554.5 357.43,-575.5 463.43,-575.5 463.43,-554.5 357.43,-554.5\"/>\n",
       "<polygon fill=\"none\" stroke=\"black\" points=\"357.43,-554.5 357.43,-575.5 463.43,-575.5 463.43,-554.5 357.43,-554.5\"/>\n",
       "<text text-anchor=\"start\" x=\"389.93\" y=\"-561.3\" font-family=\"Times,serif\" font-size=\"14.00\">Invoice</text>\n",
       "<polygon fill=\"#ffebcd\" stroke=\"transparent\" points=\"357.43,-533.5 357.43,-554.5 463.43,-554.5 463.43,-533.5 357.43,-533.5\"/>\n",
       "<polygon fill=\"none\" stroke=\"black\" points=\"357.43,-533.5 357.43,-554.5 463.43,-554.5 463.43,-533.5 357.43,-533.5\"/>\n",
       "<text text-anchor=\"start\" x=\"375.43\" y=\"-540.3\" font-family=\"Times,serif\" font-size=\"14.00\">InvoiceId 🔑</text>\n",
       "<polygon fill=\"none\" stroke=\"black\" points=\"357.43,-512.5 357.43,-533.5 463.43,-533.5 463.43,-512.5 357.43,-512.5\"/>\n",
       "<text text-anchor=\"start\" x=\"377.93\" y=\"-519.3\" font-family=\"Times,serif\" font-size=\"14.00\">CustomerId</text>\n",
       "<polygon fill=\"none\" stroke=\"black\" points=\"357.43,-491.5 357.43,-512.5 463.43,-512.5 463.43,-491.5 357.43,-491.5\"/>\n",
       "<text text-anchor=\"start\" x=\"376.93\" y=\"-498.3\" font-family=\"Times,serif\" font-size=\"14.00\">InvoiceDate</text>\n",
       "<polygon fill=\"none\" stroke=\"black\" points=\"357.43,-470.5 357.43,-491.5 463.43,-491.5 463.43,-470.5 357.43,-470.5\"/>\n",
       "<text text-anchor=\"start\" x=\"369.43\" y=\"-477.3\" font-family=\"Times,serif\" font-size=\"14.00\">BillingAddress</text>\n",
       "<polygon fill=\"none\" stroke=\"black\" points=\"357.43,-449.5 357.43,-470.5 463.43,-470.5 463.43,-449.5 357.43,-449.5\"/>\n",
       "<text text-anchor=\"start\" x=\"379.93\" y=\"-456.3\" font-family=\"Times,serif\" font-size=\"14.00\">BillingCity</text>\n",
       "<polygon fill=\"none\" stroke=\"black\" points=\"357.43,-428.5 357.43,-449.5 463.43,-449.5 463.43,-428.5 357.43,-428.5\"/>\n",
       "<text text-anchor=\"start\" x=\"377.93\" y=\"-435.3\" font-family=\"Times,serif\" font-size=\"14.00\">BillingState</text>\n",
       "<polygon fill=\"none\" stroke=\"black\" points=\"357.43,-407.5 357.43,-428.5 463.43,-428.5 463.43,-407.5 357.43,-407.5\"/>\n",
       "<text text-anchor=\"start\" x=\"369.43\" y=\"-414.3\" font-family=\"Times,serif\" font-size=\"14.00\">BillingCountry</text>\n",
       "<polygon fill=\"none\" stroke=\"black\" points=\"357.43,-386.5 357.43,-407.5 463.43,-407.5 463.43,-386.5 357.43,-386.5\"/>\n",
       "<text text-anchor=\"start\" x=\"360.43\" y=\"-393.3\" font-family=\"Times,serif\" font-size=\"14.00\">BillingPostalCode</text>\n",
       "<polygon fill=\"none\" stroke=\"black\" points=\"357.43,-365.5 357.43,-386.5 463.43,-386.5 463.43,-365.5 357.43,-365.5\"/>\n",
       "<text text-anchor=\"start\" x=\"395.93\" y=\"-372.3\" font-family=\"Times,serif\" font-size=\"14.00\">Total</text>\n",
       "<polygon fill=\"none\" stroke=\"black\" points=\"356.43,-364.5 356.43,-576.5 464.43,-576.5 464.43,-364.5 356.43,-364.5\"/>\n",
       "</g>\n",
       "<!-- Invoice&#45;&gt;Customer -->\n",
       "<g id=\"edge4\" class=\"edge\">\n",
       "<title>Invoice:CustomerId&#45;&gt;Customer:CustomerId</title>\n",
       "<path fill=\"none\" stroke=\"black\" d=\"M464.43,-523.5C587.21,-523.5 538.08,-717.05 651.12,-728.02\"/>\n",
       "<polygon fill=\"black\" stroke=\"black\" points=\"651.28,-731.53 661.43,-728.5 651.6,-724.53 651.28,-731.53\"/>\n",
       "</g>\n",
       "<!-- InvoiceLine -->\n",
       "<g id=\"node7\" class=\"node\">\n",
       "<title>InvoiceLine</title>\n",
       "<polygon fill=\"lightgray\" stroke=\"transparent\" points=\"62.43,-451.5 62.43,-472.5 163.43,-472.5 163.43,-451.5 62.43,-451.5\"/>\n",
       "<polygon fill=\"none\" stroke=\"black\" points=\"62.43,-451.5 62.43,-472.5 163.43,-472.5 163.43,-451.5 62.43,-451.5\"/>\n",
       "<text text-anchor=\"start\" x=\"79.93\" y=\"-458.3\" font-family=\"Times,serif\" font-size=\"14.00\">InvoiceLine</text>\n",
       "<polygon fill=\"#ffebcd\" stroke=\"transparent\" points=\"62.43,-430.5 62.43,-451.5 163.43,-451.5 163.43,-430.5 62.43,-430.5\"/>\n",
       "<polygon fill=\"none\" stroke=\"black\" points=\"62.43,-430.5 62.43,-451.5 163.43,-451.5 163.43,-430.5 62.43,-430.5\"/>\n",
       "<text text-anchor=\"start\" x=\"65.43\" y=\"-437.3\" font-family=\"Times,serif\" font-size=\"14.00\">InvoiceLineId 🔑</text>\n",
       "<polygon fill=\"none\" stroke=\"black\" points=\"62.43,-409.5 62.43,-430.5 163.43,-430.5 163.43,-409.5 62.43,-409.5\"/>\n",
       "<text text-anchor=\"start\" x=\"86.93\" y=\"-416.3\" font-family=\"Times,serif\" font-size=\"14.00\">InvoiceId</text>\n",
       "<polygon fill=\"none\" stroke=\"black\" points=\"62.43,-388.5 62.43,-409.5 163.43,-409.5 163.43,-388.5 62.43,-388.5\"/>\n",
       "<text text-anchor=\"start\" x=\"91.43\" y=\"-395.3\" font-family=\"Times,serif\" font-size=\"14.00\">TrackId</text>\n",
       "<polygon fill=\"none\" stroke=\"black\" points=\"62.43,-367.5 62.43,-388.5 163.43,-388.5 163.43,-367.5 62.43,-367.5\"/>\n",
       "<text text-anchor=\"start\" x=\"86.93\" y=\"-374.3\" font-family=\"Times,serif\" font-size=\"14.00\">UnitPrice</text>\n",
       "<polygon fill=\"none\" stroke=\"black\" points=\"62.43,-346.5 62.43,-367.5 163.43,-367.5 163.43,-346.5 62.43,-346.5\"/>\n",
       "<text text-anchor=\"start\" x=\"88.93\" y=\"-353.3\" font-family=\"Times,serif\" font-size=\"14.00\">Quantity</text>\n",
       "<polygon fill=\"none\" stroke=\"black\" points=\"60.93,-345.5 60.93,-473.5 163.93,-473.5 163.93,-345.5 60.93,-345.5\"/>\n",
       "</g>\n",
       "<!-- InvoiceLine&#45;&gt;Invoice -->\n",
       "<g id=\"edge6\" class=\"edge\">\n",
       "<title>InvoiceLine:InvoiceId&#45;&gt;Invoice:InvoiceId</title>\n",
       "<path fill=\"none\" stroke=\"black\" d=\"M164.43,-420.5C262.54,-420.5 255.48,-536.17 346.4,-544.08\"/>\n",
       "<polygon fill=\"black\" stroke=\"black\" points=\"346.29,-547.57 356.43,-544.5 346.59,-540.58 346.29,-547.57\"/>\n",
       "</g>\n",
       "<!-- Track -->\n",
       "<g id=\"node11\" class=\"node\">\n",
       "<title>Track</title>\n",
       "<polygon fill=\"lightgray\" stroke=\"transparent\" points=\"370.43,-285.5 370.43,-306.5 451.43,-306.5 451.43,-285.5 370.43,-285.5\"/>\n",
       "<polygon fill=\"none\" stroke=\"black\" points=\"370.43,-285.5 370.43,-306.5 451.43,-306.5 451.43,-285.5 370.43,-285.5\"/>\n",
       "<text text-anchor=\"start\" x=\"394.93\" y=\"-292.3\" font-family=\"Times,serif\" font-size=\"14.00\">Track</text>\n",
       "<polygon fill=\"#ffebcd\" stroke=\"transparent\" points=\"370.43,-264.5 370.43,-285.5 451.43,-285.5 451.43,-264.5 370.43,-264.5\"/>\n",
       "<polygon fill=\"none\" stroke=\"black\" points=\"370.43,-264.5 370.43,-285.5 451.43,-285.5 451.43,-264.5 370.43,-264.5\"/>\n",
       "<text text-anchor=\"start\" x=\"380.43\" y=\"-271.3\" font-family=\"Times,serif\" font-size=\"14.00\">TrackId 🔑</text>\n",
       "<polygon fill=\"none\" stroke=\"black\" points=\"370.43,-243.5 370.43,-264.5 451.43,-264.5 451.43,-243.5 370.43,-243.5\"/>\n",
       "<text text-anchor=\"start\" x=\"393.93\" y=\"-250.3\" font-family=\"Times,serif\" font-size=\"14.00\">Name</text>\n",
       "<polygon fill=\"none\" stroke=\"black\" points=\"370.43,-222.5 370.43,-243.5 451.43,-243.5 451.43,-222.5 370.43,-222.5\"/>\n",
       "<text text-anchor=\"start\" x=\"385.93\" y=\"-229.3\" font-family=\"Times,serif\" font-size=\"14.00\">AlbumId</text>\n",
       "<polygon fill=\"none\" stroke=\"black\" points=\"370.43,-201.5 370.43,-222.5 451.43,-222.5 451.43,-201.5 370.43,-201.5\"/>\n",
       "<text text-anchor=\"start\" x=\"373.43\" y=\"-208.3\" font-family=\"Times,serif\" font-size=\"14.00\">MediaTypeId</text>\n",
       "<polygon fill=\"none\" stroke=\"black\" points=\"370.43,-180.5 370.43,-201.5 451.43,-201.5 451.43,-180.5 370.43,-180.5\"/>\n",
       "<text text-anchor=\"start\" x=\"388.43\" y=\"-187.3\" font-family=\"Times,serif\" font-size=\"14.00\">GenreId</text>\n",
       "<polygon fill=\"none\" stroke=\"black\" points=\"370.43,-159.5 370.43,-180.5 451.43,-180.5 451.43,-159.5 370.43,-159.5\"/>\n",
       "<text text-anchor=\"start\" x=\"382.43\" y=\"-166.3\" font-family=\"Times,serif\" font-size=\"14.00\">Composer</text>\n",
       "<polygon fill=\"none\" stroke=\"black\" points=\"370.43,-138.5 370.43,-159.5 451.43,-159.5 451.43,-138.5 370.43,-138.5\"/>\n",
       "<text text-anchor=\"start\" x=\"375.43\" y=\"-145.3\" font-family=\"Times,serif\" font-size=\"14.00\">Milliseconds</text>\n",
       "<polygon fill=\"none\" stroke=\"black\" points=\"370.43,-117.5 370.43,-138.5 451.43,-138.5 451.43,-117.5 370.43,-117.5\"/>\n",
       "<text text-anchor=\"start\" x=\"395.43\" y=\"-124.3\" font-family=\"Times,serif\" font-size=\"14.00\">Bytes</text>\n",
       "<polygon fill=\"none\" stroke=\"black\" points=\"370.43,-96.5 370.43,-117.5 451.43,-117.5 451.43,-96.5 370.43,-96.5\"/>\n",
       "<text text-anchor=\"start\" x=\"384.93\" y=\"-103.3\" font-family=\"Times,serif\" font-size=\"14.00\">UnitPrice</text>\n",
       "<polygon fill=\"none\" stroke=\"black\" points=\"368.93,-95.5 368.93,-307.5 451.93,-307.5 451.93,-95.5 368.93,-95.5\"/>\n",
       "</g>\n",
       "<!-- InvoiceLine&#45;&gt;Track -->\n",
       "<g id=\"edge5\" class=\"edge\">\n",
       "<title>InvoiceLine:TrackId&#45;&gt;Track:TrackId</title>\n",
       "<path fill=\"none\" stroke=\"black\" d=\"M164.43,-398.5C267.15,-398.5 263.55,-283.53 359.21,-275.9\"/>\n",
       "<polygon fill=\"black\" stroke=\"black\" points=\"359.57,-279.39 369.43,-275.5 359.3,-272.39 359.57,-279.39\"/>\n",
       "</g>\n",
       "<!-- MediaType -->\n",
       "<g id=\"node8\" class=\"node\">\n",
       "<title>MediaType</title>\n",
       "<polygon fill=\"lightgray\" stroke=\"transparent\" points=\"657.43,-176.5 657.43,-197.5 756.43,-197.5 756.43,-176.5 657.43,-176.5\"/>\n",
       "<polygon fill=\"none\" stroke=\"black\" points=\"657.43,-176.5 657.43,-197.5 756.43,-197.5 756.43,-176.5 657.43,-176.5\"/>\n",
       "<text text-anchor=\"start\" x=\"674.93\" y=\"-183.3\" font-family=\"Times,serif\" font-size=\"14.00\">MediaType</text>\n",
       "<polygon fill=\"#ffebcd\" stroke=\"transparent\" points=\"657.43,-155.5 657.43,-176.5 756.43,-176.5 756.43,-155.5 657.43,-155.5\"/>\n",
       "<polygon fill=\"none\" stroke=\"black\" points=\"657.43,-155.5 657.43,-176.5 756.43,-176.5 756.43,-155.5 657.43,-155.5\"/>\n",
       "<text text-anchor=\"start\" x=\"660.43\" y=\"-162.3\" font-family=\"Times,serif\" font-size=\"14.00\">MediaTypeId 🔑</text>\n",
       "<polygon fill=\"none\" stroke=\"black\" points=\"657.43,-134.5 657.43,-155.5 756.43,-155.5 756.43,-134.5 657.43,-134.5\"/>\n",
       "<text text-anchor=\"start\" x=\"689.93\" y=\"-141.3\" font-family=\"Times,serif\" font-size=\"14.00\">Name</text>\n",
       "<polygon fill=\"none\" stroke=\"black\" points=\"655.93,-134 655.93,-199 756.93,-199 756.93,-134 655.93,-134\"/>\n",
       "</g>\n",
       "<!-- Playlist -->\n",
       "<g id=\"node9\" class=\"node\">\n",
       "<title>Playlist</title>\n",
       "<polygon fill=\"lightgray\" stroke=\"transparent\" points=\"372.43,-46.5 372.43,-67.5 448.43,-67.5 448.43,-46.5 372.43,-46.5\"/>\n",
       "<polygon fill=\"none\" stroke=\"black\" points=\"372.43,-46.5 372.43,-67.5 448.43,-67.5 448.43,-46.5 372.43,-46.5\"/>\n",
       "<text text-anchor=\"start\" x=\"389.93\" y=\"-53.3\" font-family=\"Times,serif\" font-size=\"14.00\">Playlist</text>\n",
       "<polygon fill=\"#ffebcd\" stroke=\"transparent\" points=\"372.43,-25.5 372.43,-46.5 448.43,-46.5 448.43,-25.5 372.43,-25.5\"/>\n",
       "<polygon fill=\"none\" stroke=\"black\" points=\"372.43,-25.5 372.43,-46.5 448.43,-46.5 448.43,-25.5 372.43,-25.5\"/>\n",
       "<text text-anchor=\"start\" x=\"375.43\" y=\"-32.3\" font-family=\"Times,serif\" font-size=\"14.00\">PlaylistId 🔑</text>\n",
       "<polygon fill=\"none\" stroke=\"black\" points=\"372.43,-4.5 372.43,-25.5 448.43,-25.5 448.43,-4.5 372.43,-4.5\"/>\n",
       "<text text-anchor=\"start\" x=\"393.43\" y=\"-11.3\" font-family=\"Times,serif\" font-size=\"14.00\">Name</text>\n",
       "<polygon fill=\"none\" stroke=\"black\" points=\"371.43,-4 371.43,-69 449.43,-69 449.43,-4 371.43,-4\"/>\n",
       "</g>\n",
       "<!-- PlaylistTrack -->\n",
       "<g id=\"node10\" class=\"node\">\n",
       "<title>PlaylistTrack</title>\n",
       "<polygon fill=\"lightgray\" stroke=\"transparent\" points=\"73.43,-109.5 73.43,-130.5 152.43,-130.5 152.43,-109.5 73.43,-109.5\"/>\n",
       "<polygon fill=\"none\" stroke=\"black\" points=\"73.43,-109.5 73.43,-130.5 152.43,-130.5 152.43,-109.5 73.43,-109.5\"/>\n",
       "<text text-anchor=\"start\" x=\"76.43\" y=\"-116.3\" font-family=\"Times,serif\" font-size=\"14.00\">PlaylistTrack</text>\n",
       "<polygon fill=\"#ffebcd\" stroke=\"transparent\" points=\"73.43,-88.5 73.43,-109.5 152.43,-109.5 152.43,-88.5 73.43,-88.5\"/>\n",
       "<polygon fill=\"none\" stroke=\"black\" points=\"73.43,-88.5 73.43,-109.5 152.43,-109.5 152.43,-88.5 73.43,-88.5\"/>\n",
       "<text text-anchor=\"start\" x=\"77.93\" y=\"-95.3\" font-family=\"Times,serif\" font-size=\"14.00\">PlaylistId 🔑</text>\n",
       "<polygon fill=\"#ffebcd\" stroke=\"transparent\" points=\"73.43,-67.5 73.43,-88.5 152.43,-88.5 152.43,-67.5 73.43,-67.5\"/>\n",
       "<polygon fill=\"none\" stroke=\"black\" points=\"73.43,-67.5 73.43,-88.5 152.43,-88.5 152.43,-67.5 73.43,-67.5\"/>\n",
       "<text text-anchor=\"start\" x=\"82.43\" y=\"-74.3\" font-family=\"Times,serif\" font-size=\"14.00\">TrackId 🔑</text>\n",
       "<polygon fill=\"none\" stroke=\"black\" points=\"71.93,-67 71.93,-132 152.93,-132 152.93,-67 71.93,-67\"/>\n",
       "</g>\n",
       "<!-- PlaylistTrack&#45;&gt;Playlist -->\n",
       "<g id=\"edge8\" class=\"edge\">\n",
       "<title>PlaylistTrack:PlaylistId&#45;&gt;Playlist:PlaylistId</title>\n",
       "<path fill=\"none\" stroke=\"black\" d=\"M153.43,-98.5C250.84,-98.5 269.36,-39.73 361.38,-35.72\"/>\n",
       "<polygon fill=\"black\" stroke=\"black\" points=\"361.51,-39.21 371.43,-35.5 361.36,-32.22 361.51,-39.21\"/>\n",
       "</g>\n",
       "<!-- PlaylistTrack&#45;&gt;Track -->\n",
       "<g id=\"edge7\" class=\"edge\">\n",
       "<title>PlaylistTrack:TrackId&#45;&gt;Track:TrackId</title>\n",
       "<path fill=\"none\" stroke=\"black\" d=\"M153.43,-77.5C280.1,-77.5 241.5,-264.82 359.13,-275.06\"/>\n",
       "<polygon fill=\"black\" stroke=\"black\" points=\"359.29,-278.57 369.43,-275.5 359.59,-271.58 359.29,-278.57\"/>\n",
       "</g>\n",
       "<!-- Track&#45;&gt;Album -->\n",
       "<g id=\"edge11\" class=\"edge\">\n",
       "<title>Track:AlbumId&#45;&gt;Album:AlbumId</title>\n",
       "<path fill=\"none\" stroke=\"black\" d=\"M452.43,-233.5C547.13,-233.5 568.79,-276.32 658.36,-279.33\"/>\n",
       "<polygon fill=\"black\" stroke=\"black\" points=\"658.37,-282.83 668.43,-279.5 658.49,-275.83 658.37,-282.83\"/>\n",
       "</g>\n",
       "<!-- Track&#45;&gt;Genre -->\n",
       "<g id=\"edge10\" class=\"edge\">\n",
       "<title>Track:GenreId&#45;&gt;Genre:GenreId</title>\n",
       "<path fill=\"none\" stroke=\"black\" d=\"M452.43,-190.5C559.13,-190.5 561.26,-81.64 661.42,-74.83\"/>\n",
       "<polygon fill=\"black\" stroke=\"black\" points=\"661.55,-78.33 671.43,-74.5 661.32,-71.33 661.55,-78.33\"/>\n",
       "</g>\n",
       "<!-- Track&#45;&gt;MediaType -->\n",
       "<g id=\"edge9\" class=\"edge\">\n",
       "<title>Track:MediaTypeId&#45;&gt;MediaType:MediaTypeId</title>\n",
       "<path fill=\"none\" stroke=\"black\" d=\"M452.43,-212.5C542.02,-212.5 561.95,-168.92 646.37,-165.69\"/>\n",
       "<polygon fill=\"black\" stroke=\"black\" points=\"646.5,-169.19 656.43,-165.5 646.36,-162.19 646.5,-169.19\"/>\n",
       "</g>\n",
       "</g>\n",
       "</svg>\n"
      ],
      "text/plain": [
       "<graphviz.sources.Source>"
      ]
     },
     "execution_count": null,
     "metadata": {},
     "output_type": "execute_result"
    }
   ],
   "source": [
    "diagram(db.tables)"
   ]
  },
  {
   "cell_type": "markdown",
   "metadata": {},
   "source": [
    "## export -"
   ]
  },
  {
   "cell_type": "code",
   "execution_count": null,
   "metadata": {},
   "outputs": [],
   "source": [
    "#| hide\n",
    "import nbdev; nbdev.nbdev_export()"
   ]
  },
  {
   "cell_type": "code",
   "execution_count": null,
   "metadata": {},
   "outputs": [],
   "source": []
  }
 ],
 "metadata": {
  "kernelspec": {
   "display_name": "python3",
   "language": "python",
   "name": "python3"
  }
 },
 "nbformat": 4,
 "nbformat_minor": 4
}
