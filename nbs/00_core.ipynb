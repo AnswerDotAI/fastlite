{
 "cells": [
  {
   "cell_type": "code",
   "execution_count": null,
   "metadata": {},
   "outputs": [],
   "source": [
    "#| default_exp core"
   ]
  },
  {
   "cell_type": "markdown",
   "metadata": {},
   "source": [
    "# Source\n",
    "\n",
    "> Source code for fastlite"
   ]
  },
  {
   "cell_type": "markdown",
   "metadata": {},
   "source": [
    "## Metadata"
   ]
  },
  {
   "cell_type": "code",
   "execution_count": null,
   "metadata": {},
   "outputs": [],
   "source": [
    "#| export\n",
    "from dataclasses import dataclass, field, make_dataclass, fields, Field, is_dataclass, MISSING\n",
    "from typing import Any,Union,Optional, get_args\n",
    "from enum import Enum\n",
    "from inspect import get_annotations\n",
    "\n",
    "from fastcore.utils import *\n",
    "from fastcore.xml import highlight\n",
    "from fastcore.xtras import hl_md, dataclass_src\n",
    "from apswutils.db import *\n",
    "from apswutils.utils import rows_from_file,TypeTracker,Format\n",
    "from apswutils.db import NotFoundError\n",
    "import types\n",
    "\n",
    "try: from graphviz import Source\n",
    "except ImportError: pass"
   ]
  },
  {
   "cell_type": "code",
   "execution_count": null,
   "metadata": {},
   "outputs": [],
   "source": [
    "from IPython.display import Markdown\n",
    "from fastcore.test import test_fail, test_eq\n",
    "from fastcore.net import urlsave\n",
    "import logging"
   ]
  },
  {
   "cell_type": "code",
   "execution_count": null,
   "metadata": {},
   "outputs": [],
   "source": [
    "url = 'https://github.com/lerocha/chinook-database/raw/master/ChinookDatabase/DataSources/Chinook_Sqlite.sqlite'\n",
    "path = Path('chinook.sqlite')\n",
    "if not path.exists(): urlsave(url, path)"
   ]
  },
  {
   "cell_type": "code",
   "execution_count": null,
   "metadata": {},
   "outputs": [],
   "source": [
    "logging.getLogger('apsw').setLevel(logging.ERROR)\n",
    "db = Database(\"chinook.sqlite\")"
   ]
  },
  {
   "cell_type": "code",
   "execution_count": null,
   "metadata": {},
   "outputs": [],
   "source": [
    "#| exports\n",
    "class _Getter:\n",
    "    \"Abstract class with dynamic attributes providing access to DB objects\"\n",
    "    def __init__(self, db): self.db = db\n",
    "    # NB: Define `__dir__` in subclass to get list of objects\n",
    "    def __repr__(self): return \", \".join(dir(self))\n",
    "    def __contains__(self, s): return (s if isinstance(s,str) else s.name) in dir(self)\n",
    "    def __iter__(self): return iter(self[dir(self)])\n",
    "    def __getitem__(self, idxs):\n",
    "        if isinstance(idxs,str): return self.db.table(idxs)\n",
    "        return [self.db.table(o) for o in idxs]\n",
    "    def __getattr__(self, k):\n",
    "        if k[0]=='_': raise AttributeError\n",
    "        return self.db[k]\n",
    "\n",
    "class _TablesGetter(_Getter):\n",
    "    def __dir__(self): return [o for o in self.db.table_names() if not o.startswith('sqlite_')]\n",
    "\n",
    "@patch(as_prop=True)\n",
    "def t(self:Database): return _TablesGetter(self)"
   ]
  },
  {
   "cell_type": "markdown",
   "metadata": {},
   "source": [
    "By returning a `_TablesGetter` we get a repr and auto-complete that shows all tables in the DB."
   ]
  },
  {
   "cell_type": "code",
   "execution_count": null,
   "metadata": {},
   "outputs": [
    {
     "data": {
      "text/plain": [
       "Album, Artist, Customer, Employee, Genre, Invoice, InvoiceLine, MediaType, Playlist, PlaylistTrack, Track, pet_food"
      ]
     },
     "execution_count": null,
     "metadata": {},
     "output_type": "execute_result"
    }
   ],
   "source": [
    "dt = db.t\n",
    "dt"
   ]
  },
  {
   "cell_type": "code",
   "execution_count": null,
   "metadata": {},
   "outputs": [
    {
     "data": {
      "text/plain": [
       "<Table Artist (ArtistId, Name)>"
      ]
     },
     "execution_count": null,
     "metadata": {},
     "output_type": "execute_result"
    }
   ],
   "source": [
    "artist = dt.Artist\n",
    "artist"
   ]
  },
  {
   "cell_type": "markdown",
   "metadata": {},
   "source": [
    "This also can be used to get multiple tables at once."
   ]
  },
  {
   "cell_type": "code",
   "execution_count": null,
   "metadata": {},
   "outputs": [
    {
     "data": {
      "text/plain": [
       "[<Table Album (AlbumId, Title, ArtistId)>, <Table Artist (ArtistId, Name)>]"
      ]
     },
     "execution_count": null,
     "metadata": {},
     "output_type": "execute_result"
    }
   ],
   "source": [
    "dt['Album','Artist']"
   ]
  },
  {
   "cell_type": "markdown",
   "metadata": {},
   "source": [
    "You can iterate through it:"
   ]
  },
  {
   "cell_type": "code",
   "execution_count": null,
   "metadata": {},
   "outputs": [
    {
     "name": "stdout",
     "output_type": "stream",
     "text": [
      "<Table Album (AlbumId, Title, ArtistId)>\n",
      "<Table Artist (ArtistId, Name)>\n"
     ]
    }
   ],
   "source": [
    "for tbl in dt:\n",
    "    if tbl.name[0]=='A': print(tbl)"
   ]
  },
  {
   "cell_type": "code",
   "execution_count": null,
   "metadata": {},
   "outputs": [],
   "source": [
    "assert 'Artist' in dt\n",
    "assert artist in dt\n",
    "assert 'foo' not in dt"
   ]
  },
  {
   "cell_type": "code",
   "execution_count": null,
   "metadata": {},
   "outputs": [],
   "source": [
    "#| exports\n",
    "class _Col:\n",
    "    def __init__(self, t, c): self.t,self.c = t,c\n",
    "    def __str__(self):  return f'\"{self.t}\".\"{self.c}\"'\n",
    "    def __repr__(self):  return self.c\n",
    "    def __iter__(self): return iter(self.c)\n",
    "\n",
    "class _ColsGetter:\n",
    "    def __init__(self, tbl): self.tbl = tbl\n",
    "    def __dir__(self): return map(repr, self())\n",
    "    def __call__(self): return [_Col(self.tbl.name,o.name) for o in self.tbl.columns]\n",
    "    def __contains__(self, s): return (s if isinstance(s,str) else s.c) in self.tbl.columns_dict\n",
    "    def __repr__(self): return \", \".join(dir(self))\n",
    "\n",
    "    def __getattr__(self, k):\n",
    "        if k[0]=='_': raise AttributeError\n",
    "        return _Col(self.tbl.name, k)\n",
    "\n",
    "@patch(as_prop=True)\n",
    "def c(self:Table): return _ColsGetter(self)\n",
    "\n",
    "@patch(as_prop=True)\n",
    "def c(self:View): return _ColsGetter(self)"
   ]
  },
  {
   "cell_type": "markdown",
   "metadata": {},
   "source": [
    "Column auto-complete and repr are much the same as tables."
   ]
  },
  {
   "cell_type": "code",
   "execution_count": null,
   "metadata": {},
   "outputs": [
    {
     "data": {
      "text/plain": [
       "ArtistId, Name"
      ]
     },
     "execution_count": null,
     "metadata": {},
     "output_type": "execute_result"
    }
   ],
   "source": [
    "ac = artist.c\n",
    "ac"
   ]
  },
  {
   "cell_type": "markdown",
   "metadata": {},
   "source": [
    "Columns stringify in a format suitable for including in SQL statements."
   ]
  },
  {
   "cell_type": "code",
   "execution_count": null,
   "metadata": {},
   "outputs": [
    {
     "name": "stdout",
     "output_type": "stream",
     "text": [
      "select \"Artist\".\"Name\" ...\n"
     ]
    }
   ],
   "source": [
    "print(f\"select {ac.Name} ...\")"
   ]
  },
  {
   "cell_type": "code",
   "execution_count": null,
   "metadata": {},
   "outputs": [],
   "source": [
    "#| exports\n",
    "@patch\n",
    "def __str__(self:Table): return f'\"{self.name}\"'\n",
    "\n",
    "@patch\n",
    "def __str__(self:View): return f'\"{self.name}\"'"
   ]
  },
  {
   "cell_type": "markdown",
   "metadata": {},
   "source": [
    "Tables and views do the same."
   ]
  },
  {
   "cell_type": "code",
   "execution_count": null,
   "metadata": {},
   "outputs": [
    {
     "name": "stdout",
     "output_type": "stream",
     "text": [
      "select \"Artist\".\"Name\" from \"Artist\"\n"
     ]
    }
   ],
   "source": [
    "print(f\"select {ac.Name} from {artist}\")"
   ]
  },
  {
   "cell_type": "code",
   "execution_count": null,
   "metadata": {},
   "outputs": [],
   "source": [
    "assert 'Name' in ac\n",
    "assert ac.Name in ac\n",
    "assert 'foo' not in ac"
   ]
  },
  {
   "cell_type": "markdown",
   "metadata": {},
   "source": [
    "## Queries and views"
   ]
  },
  {
   "cell_type": "code",
   "execution_count": null,
   "metadata": {},
   "outputs": [],
   "source": [
    "#| exports\n",
    "@patch\n",
    "def q(self:Database, sql: str, params=None):\n",
    "    return list(self.query(sql, params=params))"
   ]
  },
  {
   "cell_type": "markdown",
   "metadata": {},
   "source": [
    "This is a minor shortcut for interactive use."
   ]
  },
  {
   "cell_type": "code",
   "execution_count": null,
   "metadata": {},
   "outputs": [
    {
     "data": {
      "text/plain": [
       "[{'ArtistId': 1, 'Name': 'AC/DC'}]"
      ]
     },
     "execution_count": null,
     "metadata": {},
     "output_type": "execute_result"
    }
   ],
   "source": [
    "acdc = db.q(f\"select * from {artist} where {ac.Name} like 'AC/%'\")\n",
    "acdc"
   ]
  },
  {
   "cell_type": "code",
   "execution_count": null,
   "metadata": {},
   "outputs": [],
   "source": [
    "#| exports\n",
    "def _get_flds(tbl): \n",
    "    return [(k, v|None, field(default=tbl.default_values.get(k,None)))\n",
    "            for k,v in tbl.columns_dict.items()]\n",
    "\n",
    "def _dataclass(self:Table, store=True, suf='')->type:\n",
    "    \"Create a `dataclass` with the types and defaults of this table\"\n",
    "    res = make_dataclass(self.name.title()+suf, _get_flds(self))\n",
    "    flexiclass(res)\n",
    "    if store: self.cls = res\n",
    "    return res\n",
    "\n",
    "Table.dataclass = _dataclass"
   ]
  },
  {
   "cell_type": "code",
   "execution_count": null,
   "metadata": {},
   "outputs": [
    {
     "data": {
      "text/plain": [
       "Artist(ArtistId=1, Name='AC/DC')"
      ]
     },
     "execution_count": null,
     "metadata": {},
     "output_type": "execute_result"
    }
   ],
   "source": [
    "artist_dc = artist.dataclass()\n",
    "art1_obj = artist_dc(**acdc[0])\n",
    "art1_obj"
   ]
  },
  {
   "cell_type": "code",
   "execution_count": null,
   "metadata": {},
   "outputs": [
    {
     "data": {
      "text/plain": [
       "__main__.Artist"
      ]
     },
     "execution_count": null,
     "metadata": {},
     "output_type": "execute_result"
    }
   ],
   "source": [
    "artist.cls"
   ]
  },
  {
   "cell_type": "markdown",
   "metadata": {},
   "source": [
    "You can get the definition of the dataclass using fastcore's `dataclass_src`:"
   ]
  },
  {
   "cell_type": "code",
   "execution_count": null,
   "metadata": {},
   "outputs": [
    {
     "data": {
      "text/markdown": [
       "```python\n",
       "@dataclass\n",
       "class Artist:\n",
       "    ArtistId: int | None = None\n",
       "    Name: str | None = None\n",
       "\n",
       "```"
      ],
      "text/plain": [
       "<IPython.core.display.Markdown object>"
      ]
     },
     "execution_count": null,
     "metadata": {},
     "output_type": "execute_result"
    }
   ],
   "source": [
    "src = dataclass_src(artist_dc)\n",
    "hl_md(src, 'python')"
   ]
  },
  {
   "cell_type": "code",
   "execution_count": null,
   "metadata": {},
   "outputs": [],
   "source": [
    "#| exports\n",
    "def all_dcs(db, with_views=False, store=True, suf=''):\n",
    "    \"dataclasses for all objects in `db`\"\n",
    "    return [o.dataclass(store=store, suf=suf) for o in list(db.t) + (db.views if with_views else [])]"
   ]
  },
  {
   "cell_type": "code",
   "execution_count": null,
   "metadata": {},
   "outputs": [],
   "source": [
    "#| exports\n",
    "def create_mod(db, mod_fn, with_views=False, store=True, suf=''):\n",
    "    \"Create module for dataclasses for `db`\"\n",
    "    mod_fn = str(mod_fn)\n",
    "    if not mod_fn.endswith('.py'): mod_fn+='.py'\n",
    "    dcs = all_dcs(db, with_views, store=store, suf=suf)\n",
    "    strlist = ', '.join([f'\"{o.__name__}\"' for o in dcs])\n",
    "    with open(mod_fn, 'w') as f:\n",
    "        print(f'__all__ = [{strlist}]', file=f)\n",
    "        print('from dataclasses import dataclass', file=f)\n",
    "        for o in dcs: print(dataclass_src(o), file=f)"
   ]
  },
  {
   "cell_type": "code",
   "execution_count": null,
   "metadata": {},
   "outputs": [],
   "source": [
    "create_mod(db, 'db_dc')"
   ]
  },
  {
   "cell_type": "code",
   "execution_count": null,
   "metadata": {},
   "outputs": [],
   "source": [
    "#| export\n",
    "@patch\n",
    "def link_dcs(self:Database, mod):\n",
    "    \"Set the internal dataclass type links for tables using `mod` (created via `create_mod`)\"\n",
    "    for o in mod.__all__: self.t[o.lower()].cls = getattr(mod, o)"
   ]
  },
  {
   "cell_type": "code",
   "execution_count": null,
   "metadata": {},
   "outputs": [
    {
     "data": {
      "text/plain": [
       "Track(TrackId=1, Name='For Those About To Rock (We Salute You)', AlbumId=1, MediaTypeId=1, GenreId=1, Composer='Angus Young, Malcolm Young, Brian Johnson', Milliseconds=343719, Bytes=11170334, UnitPrice=0.99)"
      ]
     },
     "execution_count": null,
     "metadata": {},
     "output_type": "execute_result"
    }
   ],
   "source": [
    "#| eval: false\n",
    "from db_dc import *\n",
    "Track(**dt.Track.get(1))"
   ]
  },
  {
   "cell_type": "code",
   "execution_count": null,
   "metadata": {},
   "outputs": [],
   "source": [
    "#| exports\n",
    "@patch\n",
    "def __call__(\n",
    "    self:(Table|View),\n",
    "    where:str|None=None,  # SQL where fragment to use, for example `id > ?`\n",
    "    where_args: Iterable|dict|NoneType=None, # Parameters to use with `where`; iterable for `id>?`, or dict for `id>:id`\n",
    "    order_by: str|None=None, # Column or fragment of SQL to order by\n",
    "    limit:int|None=None, # Number of rows to limit to\n",
    "    offset:int|None=None, # SQL offset\n",
    "    select:str = \"*\", # Comma-separated list of columns to select\n",
    "    with_pk:bool=False, # Return tuple of (pk,row)?\n",
    "    as_cls:bool=True, # Convert returned dict to stored dataclass?\n",
    "    xtra:dict|None=None, # Extra constraints\n",
    "    **kwargs)->list:\n",
    "    \"Shortcut for `rows_where` or `pks_and_rows_where`, depending on `with_pk`\"\n",
    "    f = getattr(self, 'pks_and_rows_where' if with_pk else 'rows_where')\n",
    "    if not xtra: xtra = getattr(self, 'xtra_id', {})\n",
    "    if xtra:\n",
    "        xw = ' and '.join(f\"[{k}] = {v!r}\" for k,v in xtra.items())\n",
    "        where = f'{xw} and {where}' if where else xw\n",
    "    res = f(where=where, where_args=where_args, order_by=order_by, limit=limit, offset=offset, select=select, **kwargs)\n",
    "    if as_cls and hasattr(self,'cls'):\n",
    "        if with_pk: res = ((k,self.cls(**v)) for k,v in res)\n",
    "        else: res = (self.cls(**o) for o in res)\n",
    "    return list(res)"
   ]
  },
  {
   "cell_type": "markdown",
   "metadata": {},
   "source": [
    "This calls either `rows_where` (if `with_pk`) or `with_pk` (otherwise). If `dataclass(store=True)` has been called, then if `as_cls` rows will be returned as dataclass objects."
   ]
  },
  {
   "cell_type": "code",
   "execution_count": null,
   "metadata": {},
   "outputs": [
    {
     "data": {
      "text/plain": [
       "[Artist(ArtistId=1, Name='AC/DC'), Artist(ArtistId=2, Name='Accept')]"
      ]
     },
     "execution_count": null,
     "metadata": {},
     "output_type": "execute_result"
    }
   ],
   "source": [
    "artist(limit=2)"
   ]
  },
  {
   "cell_type": "markdown",
   "metadata": {},
   "source": [
    "If `with_pk` then tuples are returns with PKs 1st."
   ]
  },
  {
   "cell_type": "code",
   "execution_count": null,
   "metadata": {},
   "outputs": [
    {
     "data": {
      "text/plain": [
       "[(1, Artist(ArtistId=1, Name='AC/DC')), (2, Artist(ArtistId=2, Name='Accept'))]"
      ]
     },
     "execution_count": null,
     "metadata": {},
     "output_type": "execute_result"
    }
   ],
   "source": [
    "artist(with_pk=True, limit=2)"
   ]
  },
  {
   "cell_type": "code",
   "execution_count": null,
   "metadata": {},
   "outputs": [
    {
     "data": {
      "text/plain": [
       "{'ArtistId': 1, 'Name': 'AC/DC'}"
      ]
     },
     "execution_count": null,
     "metadata": {},
     "output_type": "execute_result"
    }
   ],
   "source": [
    "artist.get(1)"
   ]
  },
  {
   "cell_type": "code",
   "execution_count": null,
   "metadata": {},
   "outputs": [],
   "source": [
    "#| exports\n",
    "@patch\n",
    "def selectone(\n",
    "    self:(Table|View),\n",
    "    where:str|None=None,  # SQL where fragment to use, for example `id > ?`\n",
    "    where_args: Iterable|dict|NoneType=None, # Parameters to use with `where`; iterable for `id>?`, or dict for `id>:id`\n",
    "    select:str = \"*\", # Comma-separated list of columns to select\n",
    "    as_cls:bool=True, # Convert returned dict to stored dataclass?\n",
    "    xtra:dict|None=None, # Extra constraints\n",
    "    **kwargs)->list:\n",
    "    \"Shortcut for `__call__` that returns exactly one item\"\n",
    "    res = self(where=where, where_args=where_args, select=select, as_cls=as_cls, xtra=xtra, limit=2)\n",
    "    if len(res)==0: raise NotFoundError\n",
    "    elif len(res) > 1: raise ValueError(f\"Not unique: {len(res)} results\")\n",
    "    return res[0]"
   ]
  },
  {
   "cell_type": "code",
   "execution_count": null,
   "metadata": {},
   "outputs": [
    {
     "data": {
      "text/plain": [
       "Artist(ArtistId=1, Name='AC/DC')"
      ]
     },
     "execution_count": null,
     "metadata": {},
     "output_type": "execute_result"
    }
   ],
   "source": [
    "artist.selectone('Name=?', ('AC/DC',))"
   ]
  },
  {
   "cell_type": "code",
   "execution_count": null,
   "metadata": {},
   "outputs": [],
   "source": [
    "try: artist.selectone('Name like ?', ('%a%',))\n",
    "except ValueError: pass\n",
    "else: raise Exception(\"Failed to get non unique exception\")"
   ]
  },
  {
   "cell_type": "code",
   "execution_count": null,
   "metadata": {},
   "outputs": [],
   "source": [
    "try: artist.selectone('Name=?', ('i do not exist',))\n",
    "except NotFoundError: pass\n",
    "else: raise Exception(\"Failed to get NotFoundError\")"
   ]
  },
  {
   "cell_type": "code",
   "execution_count": null,
   "metadata": {},
   "outputs": [
    {
     "data": {
      "text/plain": [
       "(1, 'AC/DC')"
      ]
     },
     "execution_count": null,
     "metadata": {},
     "output_type": "execute_result"
    }
   ],
   "source": [
    "db.selectone('select * from artist where Name=?', ('AC/DC',))"
   ]
  },
  {
   "cell_type": "code",
   "execution_count": null,
   "metadata": {},
   "outputs": [],
   "source": [
    "#| exports\n",
    "@patch\n",
    "def set_classes(self:Database, glb):\n",
    "    \"Add set all table dataclasses using types in namespace `glb`\"\n",
    "    for tbl in self.t: tbl.cls = glb[tbl.name.title()]"
   ]
  },
  {
   "cell_type": "code",
   "execution_count": null,
   "metadata": {},
   "outputs": [
    {
     "data": {
      "text/plain": [
       "Album, Artist, Customer, Employee, Genre, Invoice, InvoiceLine, MediaType, Playlist, PlaylistTrack, Track, cat, pet_food"
      ]
     },
     "execution_count": null,
     "metadata": {},
     "output_type": "execute_result"
    }
   ],
   "source": [
    "db.t"
   ]
  },
  {
   "cell_type": "code",
   "execution_count": null,
   "metadata": {},
   "outputs": [],
   "source": [
    "#| exports\n",
    "@patch\n",
    "def get_tables(self:Database, glb):\n",
    "    \"Add objects for all table objects to namespace `glb`\"\n",
    "    for tbl in self.t: glb[tbl.name.lower()+'s'] = tbl"
   ]
  },
  {
   "cell_type": "code",
   "execution_count": null,
   "metadata": {},
   "outputs": [],
   "source": [
    "#| eval: false\n",
    "db.set_classes(globals())\n",
    "db.get_tables(globals())\n",
    "\n",
    "albums(limit=1)"
   ]
  },
  {
   "cell_type": "code",
   "execution_count": null,
   "metadata": {},
   "outputs": [
    {
     "data": {
      "text/markdown": [
       "```sql\n",
       "select \"Album\".*\n",
       "from \"Album\" join \"Artist\" using (ArtistId)\n",
       "where \"Artist\".\"Name\" like 'AC/%'\n",
       "```"
      ],
      "text/plain": [
       "<IPython.core.display.Markdown object>"
      ]
     },
     "execution_count": null,
     "metadata": {},
     "output_type": "execute_result"
    }
   ],
   "source": [
    "album = dt.Album\n",
    "acca_sql = f\"\"\"select {album}.*\n",
    "from {album} join {artist} using (ArtistId)\n",
    "where {ac.Name} like 'AC/%'\"\"\"\n",
    "\n",
    "hl_md(acca_sql, 'sql')"
   ]
  },
  {
   "cell_type": "code",
   "execution_count": null,
   "metadata": {},
   "outputs": [
    {
     "data": {
      "text/plain": [
       "[{'AlbumId': 1,\n",
       "  'Title': 'For Those About To Rock We Salute You',\n",
       "  'ArtistId': 1},\n",
       " {'AlbumId': 4, 'Title': 'Let There Be Rock', 'ArtistId': 1}]"
      ]
     },
     "execution_count": null,
     "metadata": {},
     "output_type": "execute_result"
    }
   ],
   "source": [
    "db.q(acca_sql)"
   ]
  },
  {
   "cell_type": "code",
   "execution_count": null,
   "metadata": {},
   "outputs": [
    {
     "data": {
      "text/plain": [
       "<Database <apsw.Connection object \"/Users/jhoward/aai-ws/fastlite/nbs/chinook.sqlite\">>"
      ]
     },
     "execution_count": null,
     "metadata": {},
     "output_type": "execute_result"
    }
   ],
   "source": [
    "db.create_view(\"AccaDaccaAlbums\", acca_sql, replace=True)"
   ]
  },
  {
   "cell_type": "code",
   "execution_count": null,
   "metadata": {},
   "outputs": [],
   "source": [
    "#| exports\n",
    "class _ViewsGetter(_Getter):\n",
    "    def __dir__(self): return self.db.view_names()\n",
    "\n",
    "@patch(as_prop=True)\n",
    "def v(self:Database): return _ViewsGetter(self)"
   ]
  },
  {
   "cell_type": "code",
   "execution_count": null,
   "metadata": {},
   "outputs": [
    {
     "data": {
      "text/plain": [
       "AccaDaccaAlbums"
      ]
     },
     "execution_count": null,
     "metadata": {},
     "output_type": "execute_result"
    }
   ],
   "source": [
    "dv = db.v\n",
    "dv"
   ]
  },
  {
   "cell_type": "code",
   "execution_count": null,
   "metadata": {},
   "outputs": [
    {
     "data": {
      "text/plain": [
       "[{'AlbumId': 1,\n",
       "  'Title': 'For Those About To Rock We Salute You',\n",
       "  'ArtistId': 1},\n",
       " {'AlbumId': 4, 'Title': 'Let There Be Rock', 'ArtistId': 1}]"
      ]
     },
     "execution_count": null,
     "metadata": {},
     "output_type": "execute_result"
    }
   ],
   "source": [
    "dv.AccaDaccaAlbums()"
   ]
  },
  {
   "cell_type": "code",
   "execution_count": null,
   "metadata": {},
   "outputs": [],
   "source": [
    "#|exports\n",
    "def _parse_typ(t): return t if not (_args:= get_args(t)) else first(_args, bool)  "
   ]
  },
  {
   "cell_type": "code",
   "execution_count": null,
   "metadata": {},
   "outputs": [
    {
     "data": {
      "text/plain": [
       "int"
      ]
     },
     "execution_count": null,
     "metadata": {},
     "output_type": "execute_result"
    }
   ],
   "source": [
    "_parse_typ(Union[int, None])"
   ]
  },
  {
   "cell_type": "code",
   "execution_count": null,
   "metadata": {},
   "outputs": [],
   "source": [
    "#|export\n",
    "def _is_enum(o): return isinstance(o, type) and issubclass(o, Enum)\n",
    "def _enum_types(e): return {type(v.value) for v in e}\n",
    "\n",
    "def get_typ(t):\n",
    "    \"Get the underlying type.\"\n",
    "    t = _parse_typ(t) # incase Union[Enum,None]\n",
    "    if _is_enum(t) and len(types:=_enum_types(t)) == 1: return first(types)\n",
    "    return t"
   ]
  },
  {
   "cell_type": "code",
   "execution_count": null,
   "metadata": {},
   "outputs": [
    {
     "data": {
      "text/plain": [
       "int"
      ]
     },
     "execution_count": null,
     "metadata": {},
     "output_type": "execute_result"
    }
   ],
   "source": [
    "get_typ(Union[int, None])"
   ]
  },
  {
   "cell_type": "code",
   "execution_count": null,
   "metadata": {},
   "outputs": [
    {
     "data": {
      "text/plain": [
       "int"
      ]
     },
     "execution_count": null,
     "metadata": {},
     "output_type": "execute_result"
    }
   ],
   "source": [
    "get_typ(int)"
   ]
  },
  {
   "cell_type": "markdown",
   "metadata": {},
   "source": [
    "If you have an `Enum` where all the fields are the same type, then `_get_typ` will return that type."
   ]
  },
  {
   "cell_type": "code",
   "execution_count": null,
   "metadata": {},
   "outputs": [],
   "source": [
    "class _Test(Enum): foo='val1'; bar=2\n",
    "class _Test2(Enum): foo='val3'; bar='val4'"
   ]
  },
  {
   "cell_type": "code",
   "execution_count": null,
   "metadata": {},
   "outputs": [
    {
     "data": {
      "text/plain": [
       "<enum '_Test'>"
      ]
     },
     "execution_count": null,
     "metadata": {},
     "output_type": "execute_result"
    }
   ],
   "source": [
    "# fields are not the same type\n",
    "get_typ(_Test)"
   ]
  },
  {
   "cell_type": "code",
   "execution_count": null,
   "metadata": {},
   "outputs": [
    {
     "data": {
      "text/plain": [
       "str"
      ]
     },
     "execution_count": null,
     "metadata": {},
     "output_type": "execute_result"
    }
   ],
   "source": [
    "# fields are all of type `str`\n",
    "get_typ(_Test2)"
   ]
  },
  {
   "cell_type": "raw",
   "metadata": {},
   "source": [
    "#|hide\n",
    "test_eq(get_typ(int), int)\n",
    "test_eq(get_typ(Union[int, None]), int)\n",
    "assert get_typ(_Test) != str\n",
    "test_eq(get_typ(_Test2), str)\n",
    "test_eq(get_typ(Union[_Test2, None]), str)\n",
    "test_eq(get_typ(_Test2|None), str)"
   ]
  },
  {
   "cell_type": "code",
   "execution_count": null,
   "metadata": {},
   "outputs": [],
   "source": [
    "#| export\n",
    "@patch\n",
    "def create(\n",
    "    self: Database,\n",
    "    cls=None,  # Dataclass to create table from\n",
    "    name=None,  # Name of table to create\n",
    "    pk='id',  # Column(s) to use as a primary key\n",
    "    foreign_keys=None,  # Foreign key definitions\n",
    "    defaults=None,  # Database table defaults\n",
    "    column_order=None,  # Which columns should come first\n",
    "    not_null=None,  # Columns that should be created as ``NOT NULL``\n",
    "    hash_id=None,  # Column to be used as a primary key using hash\n",
    "    hash_id_columns=None,  # Columns used when calculating hash\n",
    "    extracts=None,  # Columns to be extracted during inserts\n",
    "    if_not_exists=False,  # Use `CREATE TABLE IF NOT EXISTS`\n",
    "    replace=False,  # Drop and replace table if it already exists\n",
    "    ignore=True,  # Silently do nothing if table already exists\n",
    "    transform=False,  # If table exists transform it to fit schema\n",
    "    strict=False,  # Apply STRICT mode to table\n",
    "):\n",
    "    \"Create table from `cls`, default name to snake-case version of class name\"\n",
    "    flexiclass(cls)\n",
    "    if name is None: name = camel2snake(cls.__name__)\n",
    "    typs = {o.name: get_typ(o.type) for o in fields(cls)}\n",
    "    res = self.create_table(\n",
    "        name, typs, defaults=defaults,\n",
    "        pk=pk, foreign_keys=foreign_keys, column_order=column_order, not_null=not_null,\n",
    "        hash_id=hash_id, hash_id_columns=hash_id_columns, extracts=extracts, transform=transform,\n",
    "        if_not_exists=if_not_exists, replace=replace, ignore=ignore, strict=strict)\n",
    "    res.cls = cls\n",
    "    return res"
   ]
  },
  {
   "cell_type": "markdown",
   "metadata": {},
   "source": [
    "The class you pass to `create` is converted to a dataclass where any fields missing a default are defaulted to `None`."
   ]
  },
  {
   "cell_type": "code",
   "execution_count": null,
   "metadata": {},
   "outputs": [
    {
     "data": {
      "text/plain": [
       "Cat(id=1, name=UNSET, age=UNSET, city='Unknown')"
      ]
     },
     "execution_count": null,
     "metadata": {},
     "output_type": "execute_result"
    }
   ],
   "source": [
    "class Nm(Enum): fn='meow'; ln='prr' \n",
    "            \n",
    "class Cat: id: int; name:Nm|None; age: int|None; city: str = \"Unknown\"\n",
    "cats = db.create(Cat)\n",
    "Cat(1)"
   ]
  },
  {
   "cell_type": "code",
   "execution_count": null,
   "metadata": {},
   "outputs": [
    {
     "name": "stdout",
     "output_type": "stream",
     "text": [
      "CREATE TABLE [cat] (\n",
      "   [id] INTEGER PRIMARY KEY,\n",
      "   [name] TEXT,\n",
      "   [weight] FLOAT\n",
      ")\n"
     ]
    }
   ],
   "source": [
    "print(cats.schema)"
   ]
  },
  {
   "cell_type": "code",
   "execution_count": null,
   "metadata": {},
   "outputs": [
    {
     "data": {
      "text/plain": [
       "<Table cat (id, name, weight)>"
      ]
     },
     "execution_count": null,
     "metadata": {},
     "output_type": "execute_result"
    }
   ],
   "source": [
    "db.create(Cat)"
   ]
  },
  {
   "cell_type": "markdown",
   "metadata": {},
   "source": [
    "To transform a table after creation, use the `.create()` method again, this time with the `transform` keyword set to `True`.\n"
   ]
  },
  {
   "cell_type": "code",
   "execution_count": null,
   "metadata": {},
   "outputs": [
    {
     "data": {
      "text/plain": [
       "<Table cat (id, name, age, city, breed)>"
      ]
     },
     "execution_count": null,
     "metadata": {},
     "output_type": "execute_result"
    }
   ],
   "source": [
    "class Cat: id: int; name: str; age: int; city: str = \"Unknown\"; breed: str = \"Unknown\"\n",
    "cats = db.create(Cat, transform=True)\n",
    "cats"
   ]
  },
  {
   "cell_type": "code",
   "execution_count": null,
   "metadata": {},
   "outputs": [
    {
     "data": {
      "text/plain": [
       "Cat(id=1, name=UNSET, age=UNSET, city='Unknown', breed='Unknown')"
      ]
     },
     "execution_count": null,
     "metadata": {},
     "output_type": "execute_result"
    }
   ],
   "source": [
    "Cat(1)"
   ]
  },
  {
   "cell_type": "code",
   "execution_count": null,
   "metadata": {},
   "outputs": [
    {
     "name": "stdout",
     "output_type": "stream",
     "text": [
      "CREATE TABLE \"cat\" (\n",
      "   [id] INTEGER PRIMARY KEY,\n",
      "   [name] TEXT,\n",
      "   [age] INTEGER,\n",
      "   [city] TEXT,\n",
      "   [breed] TEXT\n",
      ")\n"
     ]
    }
   ],
   "source": [
    "print(cats.schema)"
   ]
  },
  {
   "cell_type": "code",
   "execution_count": null,
   "metadata": {},
   "outputs": [],
   "source": [
    "db.t.cat.drop()"
   ]
  },
  {
   "cell_type": "code",
   "execution_count": null,
   "metadata": {},
   "outputs": [],
   "source": [
    "#| export\n",
    "@patch\n",
    "def import_file(self:Database, table_name, file, format=None, pk=None, alter=False):\n",
    "    \"Import path or handle `file` to new table `table_name`\"\n",
    "    if isinstance(file, str): file = file.encode()\n",
    "    if isinstance(file, bytes): file = io.BytesIO(file)\n",
    "    with maybe_open(file) as fp: rows, format_used = rows_from_file(fp, format=format)\n",
    "    tracker = TypeTracker()\n",
    "    rows = tracker.wrap(rows)\n",
    "    tbl = self[table_name]\n",
    "    tbl.insert_all(rows, alter=alter)\n",
    "    tbl.transform(types=tracker.types)\n",
    "    if pk: tbl.transform(pk=pk)\n",
    "    return tbl"
   ]
  },
  {
   "cell_type": "markdown",
   "metadata": {},
   "source": [
    "This uses [`sqlite_utils.utils.rows_from_file`](https://sqlite-utils.datasette.io/en/stable/reference.html#sqlite-utils-utils-rows-from-file) to load the file."
   ]
  },
  {
   "cell_type": "code",
   "execution_count": null,
   "metadata": {},
   "outputs": [
    {
     "name": "stdout",
     "output_type": "stream",
     "text": [
      "[{'id': 1, 'name': 'Alice', 'age': 30, 'city': None}, {'id': 2, 'name': 'Bob', 'age': 25, 'city': None}, {'id': 3, 'name': 'Charlie', 'age': 35, 'city': None}, {'id': 4, 'name': 'David', 'age': 40, 'city': None}, {'id': 5, 'name': 'Eve', 'age': 45, 'city': 'New York'}]\n"
     ]
    }
   ],
   "source": [
    "db = Database(\":memory:\")\n",
    "csv1 = \"id,name,age\\n1,Alice,30\\n2,Bob,25\"\n",
    "csv2 = \"id,name,age\\n3,Charlie,35\\n4,David,40\"\n",
    "csv3 = \"id,name,age,city\\n5,Eve,45,New York\"\n",
    "\n",
    "# import file to new table\n",
    "tbl = db.import_file(\"people\", csv1)\n",
    "assert len(tbl()) == 2\n",
    "\n",
    "# import file to existing table (same schema)\n",
    "tbl = db.import_file(\"people\", csv2)\n",
    "assert len(tbl()) == 4\n",
    "\n",
    "# import file to existing table (schema change fails)\n",
    "test_fail(lambda: db.import_file(\"people\", csv3),contains='city')\n",
    "\n",
    "# import file to existing table (schema change succeeds)\n",
    "assert 'city' not in tbl.c\n",
    "tbl = db.import_file(\"people\", csv3, alter=True)\n",
    "assert 'city' in tbl.c\n",
    "\n",
    "print(tbl())\n",
    "tbl.drop()"
   ]
  },
  {
   "cell_type": "markdown",
   "metadata": {},
   "source": [
    "## Database diagrams"
   ]
  },
  {
   "cell_type": "markdown",
   "metadata": {},
   "source": [
    "(Requires graphviz.)"
   ]
  },
  {
   "cell_type": "code",
   "execution_count": null,
   "metadata": {},
   "outputs": [
    {
     "data": {
      "text/plain": [
       "ForeignKey(table='Album', column='ArtistId', other_table='Artist', other_column='ArtistId')"
      ]
     },
     "execution_count": null,
     "metadata": {},
     "output_type": "execute_result"
    }
   ],
   "source": [
    "fk = album.foreign_keys[0]\n",
    "fk"
   ]
  },
  {
   "cell_type": "code",
   "execution_count": null,
   "metadata": {},
   "outputs": [],
   "source": [
    "#| exports\n",
    "def _edge(tbl):\n",
    "    return \"\\n\".join(f\"{fk.table}:{fk.column} -> {fk.other_table}:{fk.other_column};\"\n",
    "                     for fk in tbl.foreign_keys)\n",
    "\n",
    "def _row(col):\n",
    "    xtra = \" 🔑\" if col.is_pk else \"\"\n",
    "    bg = ' bgcolor=\"#ffebcd\"' if col.is_pk else \"\"\n",
    "    return f'    <tr><td port=\"{col.name}\"{bg}>{col.name}{xtra}</td></tr>'\n",
    "\n",
    "def _tnode(tbl):\n",
    "    rows = \"\\n\".join(_row(o) for o in tbl.columns)\n",
    "    res = f\"\"\"<table cellborder=\"1\" cellspacing=\"0\">\n",
    "    <tr><td bgcolor=\"lightgray\">{tbl.name}</td></tr>\n",
    "{rows}\n",
    "  </table>\"\"\"\n",
    "    return f\"{tbl.name} [label=<{res}>];\\n\""
   ]
  },
  {
   "cell_type": "code",
   "execution_count": null,
   "metadata": {},
   "outputs": [],
   "source": [
    "#| exports\n",
    "def diagram(tbls, ratio=0.7, size=\"10\", neato=False, render=True):\n",
    "    layout = \"\\nlayout=neato;\\noverlap=prism;\\noverlap_scaling=0.5;\"\"\" if neato else \"\"\n",
    "    edges  = \"\\n\".join(map(_edge,  tbls))\n",
    "    tnodes = \"\\n\".join(map(_tnode, tbls))\n",
    "    \n",
    "    res = f\"\"\"digraph G {{\n",
    "rankdir=LR;{layout}\n",
    "size=\"{size}\";\n",
    "ratio={ratio};\n",
    "node [shape=plaintext]\n",
    "\n",
    "{tnodes}\n",
    "\n",
    "{edges}\n",
    "}}\n",
    "\"\"\"\n",
    "    return Source(res) if render else res"
   ]
  },
  {
   "cell_type": "code",
   "execution_count": null,
   "metadata": {},
   "outputs": [],
   "source": [
    "db = Database(\"chinook.sqlite\")"
   ]
  },
  {
   "cell_type": "code",
   "execution_count": null,
   "metadata": {},
   "outputs": [
    {
     "data": {
      "image/svg+xml": [
       "<?xml version=\"1.0\" encoding=\"UTF-8\" standalone=\"no\"?>\n",
       "<!DOCTYPE svg PUBLIC \"-//W3C//DTD SVG 1.1//EN\"\n",
       " \"http://www.w3.org/Graphics/SVG/1.1/DTD/svg11.dtd\">\n",
       "<!-- Generated by graphviz version 12.2.1 (20241206.2353)\n",
       " -->\n",
       "<!-- Title: G Pages: 1 -->\n",
       "<svg width=\"720pt\" height=\"505pt\"\n",
       " viewBox=\"0.00 0.00 720.00 505.32\" xmlns=\"http://www.w3.org/2000/svg\" xmlns:xlink=\"http://www.w3.org/1999/xlink\">\n",
       "<g id=\"graph0\" class=\"graph\" transform=\"scale(0.54799 0.54799) rotate(0) translate(4 918.12)\">\n",
       "<title>G</title>\n",
       "<polygon fill=\"white\" stroke=\"none\" points=\"-4,4 -4,-918.12 1309.89,-918.12 1309.89,4 -4,4\"/>\n",
       "<!-- Album -->\n",
       "<g id=\"node1\" class=\"node\">\n",
       "<title>Album</title>\n",
       "<polygon fill=\"lightgray\" stroke=\"none\" points=\"808.14,-310.5 808.14,-333 881.64,-333 881.64,-310.5 808.14,-310.5\"/>\n",
       "<polygon fill=\"none\" stroke=\"black\" points=\"808.14,-310.5 808.14,-333 881.64,-333 881.64,-310.5 808.14,-310.5\"/>\n",
       "<text text-anchor=\"start\" x=\"825.77\" y=\"-316.7\" font-family=\"Times,serif\" font-size=\"14.00\">Album</text>\n",
       "<polygon fill=\"#ffebcd\" stroke=\"none\" points=\"808.14,-285.75 808.14,-310.5 881.64,-310.5 881.64,-285.75 808.14,-285.75\"/>\n",
       "<polygon fill=\"none\" stroke=\"black\" points=\"808.14,-285.75 808.14,-310.5 881.64,-310.5 881.64,-285.75 808.14,-285.75\"/>\n",
       "<text text-anchor=\"start\" x=\"811.14\" y=\"-294.2\" font-family=\"Times,serif\" font-size=\"14.00\">AlbumId 🔑</text>\n",
       "<polygon fill=\"none\" stroke=\"black\" points=\"808.14,-263.25 808.14,-285.75 881.64,-285.75 881.64,-263.25 808.14,-263.25\"/>\n",
       "<text text-anchor=\"start\" x=\"832.14\" y=\"-269.45\" font-family=\"Times,serif\" font-size=\"14.00\">Title</text>\n",
       "<polygon fill=\"none\" stroke=\"black\" points=\"808.14,-240.75 808.14,-263.25 881.64,-263.25 881.64,-240.75 808.14,-240.75\"/>\n",
       "<text text-anchor=\"start\" x=\"823.89\" y=\"-246.95\" font-family=\"Times,serif\" font-size=\"14.00\">ArtistId</text>\n",
       "<polygon fill=\"none\" stroke=\"black\" points=\"807.14,-239.75 807.14,-334 882.64,-334 882.64,-239.75 807.14,-239.75\"/>\n",
       "</g>\n",
       "<!-- Artist -->\n",
       "<g id=\"node2\" class=\"node\">\n",
       "<title>Artist</title>\n",
       "<polygon fill=\"lightgray\" stroke=\"none\" points=\"1148.89,-197.25 1148.89,-219.75 1214.89,-219.75 1214.89,-197.25 1148.89,-197.25\"/>\n",
       "<polygon fill=\"none\" stroke=\"black\" points=\"1148.89,-197.25 1148.89,-219.75 1214.89,-219.75 1214.89,-197.25 1148.89,-197.25\"/>\n",
       "<text text-anchor=\"start\" x=\"1166.52\" y=\"-203.45\" font-family=\"Times,serif\" font-size=\"14.00\">Artist</text>\n",
       "<polygon fill=\"#ffebcd\" stroke=\"none\" points=\"1148.89,-172.5 1148.89,-197.25 1214.89,-197.25 1214.89,-172.5 1148.89,-172.5\"/>\n",
       "<polygon fill=\"none\" stroke=\"black\" points=\"1148.89,-172.5 1148.89,-197.25 1214.89,-197.25 1214.89,-172.5 1148.89,-172.5\"/>\n",
       "<text text-anchor=\"start\" x=\"1151.89\" y=\"-180.95\" font-family=\"Times,serif\" font-size=\"14.00\">ArtistId 🔑</text>\n",
       "<polygon fill=\"none\" stroke=\"black\" points=\"1148.89,-150 1148.89,-172.5 1214.89,-172.5 1214.89,-150 1148.89,-150\"/>\n",
       "<text text-anchor=\"start\" x=\"1165.39\" y=\"-156.2\" font-family=\"Times,serif\" font-size=\"14.00\">Name</text>\n",
       "<polygon fill=\"none\" stroke=\"black\" points=\"1147.89,-149 1147.89,-220.75 1215.89,-220.75 1215.89,-149 1147.89,-149\"/>\n",
       "</g>\n",
       "<!-- Album&#45;&gt;Artist -->\n",
       "<g id=\"edge1\" class=\"edge\">\n",
       "<title>Album:ArtistId&#45;&gt;Artist:ArtistId</title>\n",
       "<path fill=\"none\" stroke=\"black\" d=\"M882.64,-252C1000.33,-252 1024.76,-189.13 1136.44,-185.08\"/>\n",
       "<polygon fill=\"black\" stroke=\"black\" points=\"1136.44,-188.58 1146.38,-184.9 1136.32,-181.58 1136.44,-188.58\"/>\n",
       "</g>\n",
       "<!-- Customer -->\n",
       "<g id=\"node3\" class=\"node\">\n",
       "<title>Customer</title>\n",
       "<polygon fill=\"lightgray\" stroke=\"none\" points=\"800.64,-791 800.64,-813.5 889.14,-813.5 889.14,-791 800.64,-791\"/>\n",
       "<polygon fill=\"none\" stroke=\"black\" points=\"800.64,-791 800.64,-813.5 889.14,-813.5 889.14,-791 800.64,-791\"/>\n",
       "<text text-anchor=\"start\" x=\"818.27\" y=\"-797.2\" font-family=\"Times,serif\" font-size=\"14.00\">Customer</text>\n",
       "<polygon fill=\"#ffebcd\" stroke=\"none\" points=\"800.64,-766.25 800.64,-791 889.14,-791 889.14,-766.25 800.64,-766.25\"/>\n",
       "<polygon fill=\"none\" stroke=\"black\" points=\"800.64,-766.25 800.64,-791 889.14,-791 889.14,-766.25 800.64,-766.25\"/>\n",
       "<text text-anchor=\"start\" x=\"803.64\" y=\"-774.7\" font-family=\"Times,serif\" font-size=\"14.00\">CustomerId 🔑</text>\n",
       "<polygon fill=\"none\" stroke=\"black\" points=\"800.64,-743.75 800.64,-766.25 889.14,-766.25 889.14,-743.75 800.64,-743.75\"/>\n",
       "<text text-anchor=\"start\" x=\"816.02\" y=\"-749.95\" font-family=\"Times,serif\" font-size=\"14.00\">FirstName</text>\n",
       "<polygon fill=\"none\" stroke=\"black\" points=\"800.64,-721.25 800.64,-743.75 889.14,-743.75 889.14,-721.25 800.64,-721.25\"/>\n",
       "<text text-anchor=\"start\" x=\"816.77\" y=\"-727.45\" font-family=\"Times,serif\" font-size=\"14.00\">LastName</text>\n",
       "<polygon fill=\"none\" stroke=\"black\" points=\"800.64,-698.75 800.64,-721.25 889.14,-721.25 889.14,-698.75 800.64,-698.75\"/>\n",
       "<text text-anchor=\"start\" x=\"818.27\" y=\"-704.95\" font-family=\"Times,serif\" font-size=\"14.00\">Company</text>\n",
       "<polygon fill=\"none\" stroke=\"black\" points=\"800.64,-676.25 800.64,-698.75 889.14,-698.75 889.14,-676.25 800.64,-676.25\"/>\n",
       "<text text-anchor=\"start\" x=\"822.77\" y=\"-682.45\" font-family=\"Times,serif\" font-size=\"14.00\">Address</text>\n",
       "<polygon fill=\"none\" stroke=\"black\" points=\"800.64,-653.75 800.64,-676.25 889.14,-676.25 889.14,-653.75 800.64,-653.75\"/>\n",
       "<text text-anchor=\"start\" x=\"833.27\" y=\"-659.95\" font-family=\"Times,serif\" font-size=\"14.00\">City</text>\n",
       "<polygon fill=\"none\" stroke=\"black\" points=\"800.64,-631.25 800.64,-653.75 889.14,-653.75 889.14,-631.25 800.64,-631.25\"/>\n",
       "<text text-anchor=\"start\" x=\"831.39\" y=\"-637.45\" font-family=\"Times,serif\" font-size=\"14.00\">State</text>\n",
       "<polygon fill=\"none\" stroke=\"black\" points=\"800.64,-608.75 800.64,-631.25 889.14,-631.25 889.14,-608.75 800.64,-608.75\"/>\n",
       "<text text-anchor=\"start\" x=\"822.77\" y=\"-614.95\" font-family=\"Times,serif\" font-size=\"14.00\">Country</text>\n",
       "<polygon fill=\"none\" stroke=\"black\" points=\"800.64,-586.25 800.64,-608.75 889.14,-608.75 889.14,-586.25 800.64,-586.25\"/>\n",
       "<text text-anchor=\"start\" x=\"814.14\" y=\"-592.45\" font-family=\"Times,serif\" font-size=\"14.00\">PostalCode</text>\n",
       "<polygon fill=\"none\" stroke=\"black\" points=\"800.64,-563.75 800.64,-586.25 889.14,-586.25 889.14,-563.75 800.64,-563.75\"/>\n",
       "<text text-anchor=\"start\" x=\"828.02\" y=\"-569.95\" font-family=\"Times,serif\" font-size=\"14.00\">Phone</text>\n",
       "<polygon fill=\"none\" stroke=\"black\" points=\"800.64,-541.25 800.64,-563.75 889.14,-563.75 889.14,-541.25 800.64,-541.25\"/>\n",
       "<text text-anchor=\"start\" x=\"834.77\" y=\"-547.45\" font-family=\"Times,serif\" font-size=\"14.00\">Fax</text>\n",
       "<polygon fill=\"none\" stroke=\"black\" points=\"800.64,-518.75 800.64,-541.25 889.14,-541.25 889.14,-518.75 800.64,-518.75\"/>\n",
       "<text text-anchor=\"start\" x=\"828.39\" y=\"-524.95\" font-family=\"Times,serif\" font-size=\"14.00\">Email</text>\n",
       "<polygon fill=\"none\" stroke=\"black\" points=\"800.64,-496.25 800.64,-518.75 889.14,-518.75 889.14,-496.25 800.64,-496.25\"/>\n",
       "<text text-anchor=\"start\" x=\"807.02\" y=\"-502.45\" font-family=\"Times,serif\" font-size=\"14.00\">SupportRepId</text>\n",
       "<polygon fill=\"none\" stroke=\"black\" points=\"799.64,-495.25 799.64,-814.5 890.14,-814.5 890.14,-495.25 799.64,-495.25\"/>\n",
       "</g>\n",
       "<!-- Employee -->\n",
       "<g id=\"node4\" class=\"node\">\n",
       "<title>Employee</title>\n",
       "<polygon fill=\"lightgray\" stroke=\"none\" points=\"1136.52,-587.5 1136.52,-610 1227.27,-610 1227.27,-587.5 1136.52,-587.5\"/>\n",
       "<polygon fill=\"none\" stroke=\"black\" points=\"1136.52,-587.5 1136.52,-610 1227.27,-610 1227.27,-587.5 1136.52,-587.5\"/>\n",
       "<text text-anchor=\"start\" x=\"1154.14\" y=\"-593.7\" font-family=\"Times,serif\" font-size=\"14.00\">Employee</text>\n",
       "<polygon fill=\"#ffebcd\" stroke=\"none\" points=\"1136.52,-562.75 1136.52,-587.5 1227.27,-587.5 1227.27,-562.75 1136.52,-562.75\"/>\n",
       "<polygon fill=\"none\" stroke=\"black\" points=\"1136.52,-562.75 1136.52,-587.5 1227.27,-587.5 1227.27,-562.75 1136.52,-562.75\"/>\n",
       "<text text-anchor=\"start\" x=\"1139.52\" y=\"-571.2\" font-family=\"Times,serif\" font-size=\"14.00\">EmployeeId 🔑</text>\n",
       "<polygon fill=\"none\" stroke=\"black\" points=\"1136.52,-540.25 1136.52,-562.75 1227.27,-562.75 1227.27,-540.25 1136.52,-540.25\"/>\n",
       "<text text-anchor=\"start\" x=\"1153.77\" y=\"-546.45\" font-family=\"Times,serif\" font-size=\"14.00\">LastName</text>\n",
       "<polygon fill=\"none\" stroke=\"black\" points=\"1136.52,-517.75 1136.52,-540.25 1227.27,-540.25 1227.27,-517.75 1136.52,-517.75\"/>\n",
       "<text text-anchor=\"start\" x=\"1153.02\" y=\"-523.95\" font-family=\"Times,serif\" font-size=\"14.00\">FirstName</text>\n",
       "<polygon fill=\"none\" stroke=\"black\" points=\"1136.52,-495.25 1136.52,-517.75 1227.27,-517.75 1227.27,-495.25 1136.52,-495.25\"/>\n",
       "<text text-anchor=\"start\" x=\"1169.14\" y=\"-501.45\" font-family=\"Times,serif\" font-size=\"14.00\">Title</text>\n",
       "<polygon fill=\"none\" stroke=\"black\" points=\"1136.52,-472.75 1136.52,-495.25 1227.27,-495.25 1227.27,-472.75 1136.52,-472.75\"/>\n",
       "<text text-anchor=\"start\" x=\"1153.39\" y=\"-478.95\" font-family=\"Times,serif\" font-size=\"14.00\">ReportsTo</text>\n",
       "<polygon fill=\"none\" stroke=\"black\" points=\"1136.52,-450.25 1136.52,-472.75 1227.27,-472.75 1227.27,-450.25 1136.52,-450.25\"/>\n",
       "<text text-anchor=\"start\" x=\"1155.27\" y=\"-456.45\" font-family=\"Times,serif\" font-size=\"14.00\">BirthDate</text>\n",
       "<polygon fill=\"none\" stroke=\"black\" points=\"1136.52,-427.75 1136.52,-450.25 1227.27,-450.25 1227.27,-427.75 1136.52,-427.75\"/>\n",
       "<text text-anchor=\"start\" x=\"1157.14\" y=\"-433.95\" font-family=\"Times,serif\" font-size=\"14.00\">HireDate</text>\n",
       "<polygon fill=\"none\" stroke=\"black\" points=\"1136.52,-405.25 1136.52,-427.75 1227.27,-427.75 1227.27,-405.25 1136.52,-405.25\"/>\n",
       "<text text-anchor=\"start\" x=\"1159.77\" y=\"-411.45\" font-family=\"Times,serif\" font-size=\"14.00\">Address</text>\n",
       "<polygon fill=\"none\" stroke=\"black\" points=\"1136.52,-382.75 1136.52,-405.25 1227.27,-405.25 1227.27,-382.75 1136.52,-382.75\"/>\n",
       "<text text-anchor=\"start\" x=\"1170.27\" y=\"-388.95\" font-family=\"Times,serif\" font-size=\"14.00\">City</text>\n",
       "<polygon fill=\"none\" stroke=\"black\" points=\"1136.52,-360.25 1136.52,-382.75 1227.27,-382.75 1227.27,-360.25 1136.52,-360.25\"/>\n",
       "<text text-anchor=\"start\" x=\"1168.39\" y=\"-366.45\" font-family=\"Times,serif\" font-size=\"14.00\">State</text>\n",
       "<polygon fill=\"none\" stroke=\"black\" points=\"1136.52,-337.75 1136.52,-360.25 1227.27,-360.25 1227.27,-337.75 1136.52,-337.75\"/>\n",
       "<text text-anchor=\"start\" x=\"1159.77\" y=\"-343.95\" font-family=\"Times,serif\" font-size=\"14.00\">Country</text>\n",
       "<polygon fill=\"none\" stroke=\"black\" points=\"1136.52,-315.25 1136.52,-337.75 1227.27,-337.75 1227.27,-315.25 1136.52,-315.25\"/>\n",
       "<text text-anchor=\"start\" x=\"1151.14\" y=\"-321.45\" font-family=\"Times,serif\" font-size=\"14.00\">PostalCode</text>\n",
       "<polygon fill=\"none\" stroke=\"black\" points=\"1136.52,-292.75 1136.52,-315.25 1227.27,-315.25 1227.27,-292.75 1136.52,-292.75\"/>\n",
       "<text text-anchor=\"start\" x=\"1165.02\" y=\"-298.95\" font-family=\"Times,serif\" font-size=\"14.00\">Phone</text>\n",
       "<polygon fill=\"none\" stroke=\"black\" points=\"1136.52,-270.25 1136.52,-292.75 1227.27,-292.75 1227.27,-270.25 1136.52,-270.25\"/>\n",
       "<text text-anchor=\"start\" x=\"1171.77\" y=\"-276.45\" font-family=\"Times,serif\" font-size=\"14.00\">Fax</text>\n",
       "<polygon fill=\"none\" stroke=\"black\" points=\"1136.52,-247.75 1136.52,-270.25 1227.27,-270.25 1227.27,-247.75 1136.52,-247.75\"/>\n",
       "<text text-anchor=\"start\" x=\"1165.39\" y=\"-253.95\" font-family=\"Times,serif\" font-size=\"14.00\">Email</text>\n",
       "<polygon fill=\"none\" stroke=\"black\" points=\"1135.52,-246.75 1135.52,-611 1228.27,-611 1228.27,-246.75 1135.52,-246.75\"/>\n",
       "</g>\n",
       "<!-- Customer&#45;&gt;Employee -->\n",
       "<g id=\"edge2\" class=\"edge\">\n",
       "<title>Customer:SupportRepId&#45;&gt;Employee:EmployeeId</title>\n",
       "<path fill=\"none\" stroke=\"black\" d=\"M890.14,-507.5C999.4,-507.5 1020.98,-570.58 1124.24,-574.89\"/>\n",
       "<polygon fill=\"black\" stroke=\"black\" points=\"1123.93,-578.39 1134,-575.09 1124.08,-571.39 1123.93,-578.39\"/>\n",
       "</g>\n",
       "<!-- Employee&#45;&gt;Employee -->\n",
       "<g id=\"edge3\" class=\"edge\">\n",
       "<title>Employee:ReportsTo&#45;&gt;Employee:EmployeeId</title>\n",
       "<path fill=\"none\" stroke=\"black\" d=\"M1136.77,-480.32C1059.72,-476.7 959.02,-484.64 959.02,-529.56 959.02,-572.29 1050.12,-581.56 1125.32,-579.25\"/>\n",
       "<polygon fill=\"black\" stroke=\"black\" points=\"1125.4,-582.75 1135.25,-578.86 1125.12,-575.75 1125.4,-582.75\"/>\n",
       "</g>\n",
       "<!-- Genre -->\n",
       "<g id=\"node5\" class=\"node\">\n",
       "<title>Genre</title>\n",
       "<polygon fill=\"lightgray\" stroke=\"none\" points=\"810.77,-92.25 810.77,-114.75 879.02,-114.75 879.02,-92.25 810.77,-92.25\"/>\n",
       "<polygon fill=\"none\" stroke=\"black\" points=\"810.77,-92.25 810.77,-114.75 879.02,-114.75 879.02,-92.25 810.77,-92.25\"/>\n",
       "<text text-anchor=\"start\" x=\"828.39\" y=\"-98.45\" font-family=\"Times,serif\" font-size=\"14.00\">Genre</text>\n",
       "<polygon fill=\"#ffebcd\" stroke=\"none\" points=\"810.77,-67.5 810.77,-92.25 879.02,-92.25 879.02,-67.5 810.77,-67.5\"/>\n",
       "<polygon fill=\"none\" stroke=\"black\" points=\"810.77,-67.5 810.77,-92.25 879.02,-92.25 879.02,-67.5 810.77,-67.5\"/>\n",
       "<text text-anchor=\"start\" x=\"813.77\" y=\"-75.95\" font-family=\"Times,serif\" font-size=\"14.00\">GenreId 🔑</text>\n",
       "<polygon fill=\"none\" stroke=\"black\" points=\"810.77,-45 810.77,-67.5 879.02,-67.5 879.02,-45 810.77,-45\"/>\n",
       "<text text-anchor=\"start\" x=\"828.39\" y=\"-51.2\" font-family=\"Times,serif\" font-size=\"14.00\">Name</text>\n",
       "<polygon fill=\"none\" stroke=\"black\" points=\"809.77,-44 809.77,-115.75 880.02,-115.75 880.02,-44 809.77,-44\"/>\n",
       "</g>\n",
       "<!-- Invoice -->\n",
       "<g id=\"node6\" class=\"node\">\n",
       "<title>Invoice</title>\n",
       "<polygon fill=\"lightgray\" stroke=\"none\" points=\"438.39,-596 438.39,-618.5 543.39,-618.5 543.39,-596 438.39,-596\"/>\n",
       "<polygon fill=\"none\" stroke=\"black\" points=\"438.39,-596 438.39,-618.5 543.39,-618.5 543.39,-596 438.39,-596\"/>\n",
       "<text text-anchor=\"start\" x=\"470.64\" y=\"-602.2\" font-family=\"Times,serif\" font-size=\"14.00\">Invoice</text>\n",
       "<polygon fill=\"#ffebcd\" stroke=\"none\" points=\"438.39,-571.25 438.39,-596 543.39,-596 543.39,-571.25 438.39,-571.25\"/>\n",
       "<polygon fill=\"none\" stroke=\"black\" points=\"438.39,-571.25 438.39,-596 543.39,-596 543.39,-571.25 438.39,-571.25\"/>\n",
       "<text text-anchor=\"start\" x=\"456.02\" y=\"-579.7\" font-family=\"Times,serif\" font-size=\"14.00\">InvoiceId 🔑</text>\n",
       "<polygon fill=\"none\" stroke=\"black\" points=\"438.39,-548.75 438.39,-571.25 543.39,-571.25 543.39,-548.75 438.39,-548.75\"/>\n",
       "<text text-anchor=\"start\" x=\"458.64\" y=\"-554.95\" font-family=\"Times,serif\" font-size=\"14.00\">CustomerId</text>\n",
       "<polygon fill=\"none\" stroke=\"black\" points=\"438.39,-526.25 438.39,-548.75 543.39,-548.75 543.39,-526.25 438.39,-526.25\"/>\n",
       "<text text-anchor=\"start\" x=\"457.89\" y=\"-532.45\" font-family=\"Times,serif\" font-size=\"14.00\">InvoiceDate</text>\n",
       "<polygon fill=\"none\" stroke=\"black\" points=\"438.39,-503.75 438.39,-526.25 543.39,-526.25 543.39,-503.75 438.39,-503.75\"/>\n",
       "<text text-anchor=\"start\" x=\"450.02\" y=\"-509.95\" font-family=\"Times,serif\" font-size=\"14.00\">BillingAddress</text>\n",
       "<polygon fill=\"none\" stroke=\"black\" points=\"438.39,-481.25 438.39,-503.75 543.39,-503.75 543.39,-481.25 438.39,-481.25\"/>\n",
       "<text text-anchor=\"start\" x=\"460.52\" y=\"-487.45\" font-family=\"Times,serif\" font-size=\"14.00\">BillingCity</text>\n",
       "<polygon fill=\"none\" stroke=\"black\" points=\"438.39,-458.75 438.39,-481.25 543.39,-481.25 543.39,-458.75 438.39,-458.75\"/>\n",
       "<text text-anchor=\"start\" x=\"458.64\" y=\"-464.95\" font-family=\"Times,serif\" font-size=\"14.00\">BillingState</text>\n",
       "<polygon fill=\"none\" stroke=\"black\" points=\"438.39,-436.25 438.39,-458.75 543.39,-458.75 543.39,-436.25 438.39,-436.25\"/>\n",
       "<text text-anchor=\"start\" x=\"450.02\" y=\"-442.45\" font-family=\"Times,serif\" font-size=\"14.00\">BillingCountry</text>\n",
       "<polygon fill=\"none\" stroke=\"black\" points=\"438.39,-413.75 438.39,-436.25 543.39,-436.25 543.39,-413.75 438.39,-413.75\"/>\n",
       "<text text-anchor=\"start\" x=\"441.39\" y=\"-419.95\" font-family=\"Times,serif\" font-size=\"14.00\">BillingPostalCode</text>\n",
       "<polygon fill=\"none\" stroke=\"black\" points=\"438.39,-391.25 438.39,-413.75 543.39,-413.75 543.39,-391.25 438.39,-391.25\"/>\n",
       "<text text-anchor=\"start\" x=\"476.64\" y=\"-397.45\" font-family=\"Times,serif\" font-size=\"14.00\">Total</text>\n",
       "<polygon fill=\"none\" stroke=\"black\" points=\"437.39,-390.25 437.39,-619.5 544.39,-619.5 544.39,-390.25 437.39,-390.25\"/>\n",
       "</g>\n",
       "<!-- Invoice&#45;&gt;Customer -->\n",
       "<g id=\"edge4\" class=\"edge\">\n",
       "<title>Invoice:CustomerId&#45;&gt;Customer:CustomerId</title>\n",
       "<path fill=\"none\" stroke=\"black\" d=\"M544.39,-560C689.82,-560 652.43,-767.25 788.22,-778.18\"/>\n",
       "<polygon fill=\"black\" stroke=\"black\" points=\"788,-781.67 798.13,-778.57 788.28,-774.68 788,-781.67\"/>\n",
       "</g>\n",
       "<!-- InvoiceLine -->\n",
       "<g id=\"node7\" class=\"node\">\n",
       "<title>InvoiceLine</title>\n",
       "<polygon fill=\"lightgray\" stroke=\"none\" points=\"84.64,-460 84.64,-482.5 185.14,-482.5 185.14,-460 84.64,-460\"/>\n",
       "<polygon fill=\"none\" stroke=\"black\" points=\"84.64,-460 84.64,-482.5 185.14,-482.5 185.14,-460 84.64,-460\"/>\n",
       "<text text-anchor=\"start\" x=\"102.27\" y=\"-466.2\" font-family=\"Times,serif\" font-size=\"14.00\">InvoiceLine</text>\n",
       "<polygon fill=\"#ffebcd\" stroke=\"none\" points=\"84.64,-435.25 84.64,-460 185.14,-460 185.14,-435.25 84.64,-435.25\"/>\n",
       "<polygon fill=\"none\" stroke=\"black\" points=\"84.64,-435.25 84.64,-460 185.14,-460 185.14,-435.25 84.64,-435.25\"/>\n",
       "<text text-anchor=\"start\" x=\"87.64\" y=\"-443.7\" font-family=\"Times,serif\" font-size=\"14.00\">InvoiceLineId 🔑</text>\n",
       "<polygon fill=\"none\" stroke=\"black\" points=\"84.64,-412.75 84.64,-435.25 185.14,-435.25 185.14,-412.75 84.64,-412.75\"/>\n",
       "<text text-anchor=\"start\" x=\"109.02\" y=\"-418.95\" font-family=\"Times,serif\" font-size=\"14.00\">InvoiceId</text>\n",
       "<polygon fill=\"none\" stroke=\"black\" points=\"84.64,-390.25 84.64,-412.75 185.14,-412.75 185.14,-390.25 84.64,-390.25\"/>\n",
       "<text text-anchor=\"start\" x=\"113.52\" y=\"-396.45\" font-family=\"Times,serif\" font-size=\"14.00\">TrackId</text>\n",
       "<polygon fill=\"none\" stroke=\"black\" points=\"84.64,-367.75 84.64,-390.25 185.14,-390.25 185.14,-367.75 84.64,-367.75\"/>\n",
       "<text text-anchor=\"start\" x=\"109.02\" y=\"-373.95\" font-family=\"Times,serif\" font-size=\"14.00\">UnitPrice</text>\n",
       "<polygon fill=\"none\" stroke=\"black\" points=\"84.64,-345.25 84.64,-367.75 185.14,-367.75 185.14,-345.25 84.64,-345.25\"/>\n",
       "<text text-anchor=\"start\" x=\"111.27\" y=\"-351.45\" font-family=\"Times,serif\" font-size=\"14.00\">Quantity</text>\n",
       "<polygon fill=\"none\" stroke=\"black\" points=\"83.64,-344.25 83.64,-483.5 186.14,-483.5 186.14,-344.25 83.64,-344.25\"/>\n",
       "</g>\n",
       "<!-- InvoiceLine&#45;&gt;Invoice -->\n",
       "<g id=\"edge6\" class=\"edge\">\n",
       "<title>InvoiceLine:InvoiceId&#45;&gt;Invoice:InvoiceId</title>\n",
       "<path fill=\"none\" stroke=\"black\" d=\"M186.14,-424C314.56,-424 305.75,-574.41 426.13,-583.22\"/>\n",
       "<polygon fill=\"black\" stroke=\"black\" points=\"425.76,-586.71 435.88,-583.57 426.01,-579.72 425.76,-586.71\"/>\n",
       "</g>\n",
       "<!-- Track -->\n",
       "<g id=\"node11\" class=\"node\">\n",
       "<title>Track</title>\n",
       "<polygon fill=\"lightgray\" stroke=\"none\" points=\"450.77,-308 450.77,-330.5 531.02,-330.5 531.02,-308 450.77,-308\"/>\n",
       "<polygon fill=\"none\" stroke=\"black\" points=\"450.77,-308 450.77,-330.5 531.02,-330.5 531.02,-308 450.77,-308\"/>\n",
       "<text text-anchor=\"start\" x=\"475.14\" y=\"-314.2\" font-family=\"Times,serif\" font-size=\"14.00\">Track</text>\n",
       "<polygon fill=\"#ffebcd\" stroke=\"none\" points=\"450.77,-283.25 450.77,-308 531.02,-308 531.02,-283.25 450.77,-283.25\"/>\n",
       "<polygon fill=\"none\" stroke=\"black\" points=\"450.77,-283.25 450.77,-308 531.02,-308 531.02,-283.25 450.77,-283.25\"/>\n",
       "<text text-anchor=\"start\" x=\"460.52\" y=\"-291.7\" font-family=\"Times,serif\" font-size=\"14.00\">TrackId 🔑</text>\n",
       "<polygon fill=\"none\" stroke=\"black\" points=\"450.77,-260.75 450.77,-283.25 531.02,-283.25 531.02,-260.75 450.77,-260.75\"/>\n",
       "<text text-anchor=\"start\" x=\"474.39\" y=\"-266.95\" font-family=\"Times,serif\" font-size=\"14.00\">Name</text>\n",
       "<polygon fill=\"none\" stroke=\"black\" points=\"450.77,-238.25 450.77,-260.75 531.02,-260.75 531.02,-238.25 450.77,-238.25\"/>\n",
       "<text text-anchor=\"start\" x=\"466.14\" y=\"-244.45\" font-family=\"Times,serif\" font-size=\"14.00\">AlbumId</text>\n",
       "<polygon fill=\"none\" stroke=\"black\" points=\"450.77,-215.75 450.77,-238.25 531.02,-238.25 531.02,-215.75 450.77,-215.75\"/>\n",
       "<text text-anchor=\"start\" x=\"453.77\" y=\"-221.95\" font-family=\"Times,serif\" font-size=\"14.00\">MediaTypeId</text>\n",
       "<polygon fill=\"none\" stroke=\"black\" points=\"450.77,-193.25 450.77,-215.75 531.02,-215.75 531.02,-193.25 450.77,-193.25\"/>\n",
       "<text text-anchor=\"start\" x=\"468.77\" y=\"-199.45\" font-family=\"Times,serif\" font-size=\"14.00\">GenreId</text>\n",
       "<polygon fill=\"none\" stroke=\"black\" points=\"450.77,-170.75 450.77,-193.25 531.02,-193.25 531.02,-170.75 450.77,-170.75\"/>\n",
       "<text text-anchor=\"start\" x=\"462.77\" y=\"-176.95\" font-family=\"Times,serif\" font-size=\"14.00\">Composer</text>\n",
       "<polygon fill=\"none\" stroke=\"black\" points=\"450.77,-148.25 450.77,-170.75 531.02,-170.75 531.02,-148.25 450.77,-148.25\"/>\n",
       "<text text-anchor=\"start\" x=\"455.64\" y=\"-154.45\" font-family=\"Times,serif\" font-size=\"14.00\">Milliseconds</text>\n",
       "<polygon fill=\"none\" stroke=\"black\" points=\"450.77,-125.75 450.77,-148.25 531.02,-148.25 531.02,-125.75 450.77,-125.75\"/>\n",
       "<text text-anchor=\"start\" x=\"475.52\" y=\"-131.95\" font-family=\"Times,serif\" font-size=\"14.00\">Bytes</text>\n",
       "<polygon fill=\"none\" stroke=\"black\" points=\"450.77,-103.25 450.77,-125.75 531.02,-125.75 531.02,-103.25 450.77,-103.25\"/>\n",
       "<text text-anchor=\"start\" x=\"465.02\" y=\"-109.45\" font-family=\"Times,serif\" font-size=\"14.00\">UnitPrice</text>\n",
       "<polygon fill=\"none\" stroke=\"black\" points=\"449.77,-102.25 449.77,-331.5 532.02,-331.5 532.02,-102.25 449.77,-102.25\"/>\n",
       "</g>\n",
       "<!-- InvoiceLine&#45;&gt;Track -->\n",
       "<g id=\"edge5\" class=\"edge\">\n",
       "<title>InvoiceLine:TrackId&#45;&gt;Track:TrackId</title>\n",
       "<path fill=\"none\" stroke=\"black\" d=\"M186.14,-401.5C308.46,-401.5 322.7,-302.14 438.26,-295.93\"/>\n",
       "<polygon fill=\"black\" stroke=\"black\" points=\"438.35,-299.43 448.25,-295.66 438.17,-292.43 438.35,-299.43\"/>\n",
       "</g>\n",
       "<!-- MediaType -->\n",
       "<g id=\"node8\" class=\"node\">\n",
       "<title>MediaType</title>\n",
       "<polygon fill=\"lightgray\" stroke=\"none\" points=\"795.77,-190.25 795.77,-212.75 894.02,-212.75 894.02,-190.25 795.77,-190.25\"/>\n",
       "<polygon fill=\"none\" stroke=\"black\" points=\"795.77,-190.25 795.77,-212.75 894.02,-212.75 894.02,-190.25 795.77,-190.25\"/>\n",
       "<text text-anchor=\"start\" x=\"813.39\" y=\"-196.45\" font-family=\"Times,serif\" font-size=\"14.00\">MediaType</text>\n",
       "<polygon fill=\"#ffebcd\" stroke=\"none\" points=\"795.77,-165.5 795.77,-190.25 894.02,-190.25 894.02,-165.5 795.77,-165.5\"/>\n",
       "<polygon fill=\"none\" stroke=\"black\" points=\"795.77,-165.5 795.77,-190.25 894.02,-190.25 894.02,-165.5 795.77,-165.5\"/>\n",
       "<text text-anchor=\"start\" x=\"798.77\" y=\"-173.95\" font-family=\"Times,serif\" font-size=\"14.00\">MediaTypeId 🔑</text>\n",
       "<polygon fill=\"none\" stroke=\"black\" points=\"795.77,-143 795.77,-165.5 894.02,-165.5 894.02,-143 795.77,-143\"/>\n",
       "<text text-anchor=\"start\" x=\"828.39\" y=\"-149.2\" font-family=\"Times,serif\" font-size=\"14.00\">Name</text>\n",
       "<polygon fill=\"none\" stroke=\"black\" points=\"794.77,-142 794.77,-213.75 895.02,-213.75 895.02,-142 794.77,-142\"/>\n",
       "</g>\n",
       "<!-- Playlist -->\n",
       "<g id=\"node9\" class=\"node\">\n",
       "<title>Playlist</title>\n",
       "<polygon fill=\"lightgray\" stroke=\"none\" points=\"453.02,-52.25 453.02,-74.75 528.77,-74.75 528.77,-52.25 453.02,-52.25\"/>\n",
       "<polygon fill=\"none\" stroke=\"black\" points=\"453.02,-52.25 453.02,-74.75 528.77,-74.75 528.77,-52.25 453.02,-52.25\"/>\n",
       "<text text-anchor=\"start\" x=\"470.64\" y=\"-58.45\" font-family=\"Times,serif\" font-size=\"14.00\">Playlist</text>\n",
       "<polygon fill=\"#ffebcd\" stroke=\"none\" points=\"453.02,-27.5 453.02,-52.25 528.77,-52.25 528.77,-27.5 453.02,-27.5\"/>\n",
       "<polygon fill=\"none\" stroke=\"black\" points=\"453.02,-27.5 453.02,-52.25 528.77,-52.25 528.77,-27.5 453.02,-27.5\"/>\n",
       "<text text-anchor=\"start\" x=\"456.02\" y=\"-35.95\" font-family=\"Times,serif\" font-size=\"14.00\">PlaylistId 🔑</text>\n",
       "<polygon fill=\"none\" stroke=\"black\" points=\"453.02,-5 453.02,-27.5 528.77,-27.5 528.77,-5 453.02,-5\"/>\n",
       "<text text-anchor=\"start\" x=\"474.39\" y=\"-11.2\" font-family=\"Times,serif\" font-size=\"14.00\">Name</text>\n",
       "<polygon fill=\"none\" stroke=\"black\" points=\"452.02,-4 452.02,-75.75 529.77,-75.75 529.77,-4 452.02,-4\"/>\n",
       "</g>\n",
       "<!-- PlaylistTrack -->\n",
       "<g id=\"node10\" class=\"node\">\n",
       "<title>PlaylistTrack</title>\n",
       "<polygon fill=\"lightgray\" stroke=\"none\" points=\"95.89,-226.38 95.89,-248.88 173.89,-248.88 173.89,-226.38 95.89,-226.38\"/>\n",
       "<polygon fill=\"none\" stroke=\"black\" points=\"95.89,-226.38 95.89,-248.88 173.89,-248.88 173.89,-226.38 95.89,-226.38\"/>\n",
       "<text text-anchor=\"start\" x=\"98.89\" y=\"-232.57\" font-family=\"Times,serif\" font-size=\"14.00\">PlaylistTrack</text>\n",
       "<polygon fill=\"#ffebcd\" stroke=\"none\" points=\"95.89,-201.62 95.89,-226.38 173.89,-226.38 173.89,-201.62 95.89,-201.62\"/>\n",
       "<polygon fill=\"none\" stroke=\"black\" points=\"95.89,-201.62 95.89,-226.38 173.89,-226.38 173.89,-201.62 95.89,-201.62\"/>\n",
       "<text text-anchor=\"start\" x=\"100.02\" y=\"-210.07\" font-family=\"Times,serif\" font-size=\"14.00\">PlaylistId 🔑</text>\n",
       "<polygon fill=\"#ffebcd\" stroke=\"none\" points=\"95.89,-176.88 95.89,-201.62 173.89,-201.62 173.89,-176.88 95.89,-176.88\"/>\n",
       "<polygon fill=\"none\" stroke=\"black\" points=\"95.89,-176.88 95.89,-201.62 173.89,-201.62 173.89,-176.88 95.89,-176.88\"/>\n",
       "<text text-anchor=\"start\" x=\"104.52\" y=\"-185.32\" font-family=\"Times,serif\" font-size=\"14.00\">TrackId 🔑</text>\n",
       "<polygon fill=\"none\" stroke=\"black\" points=\"94.89,-175.88 94.89,-249.88 174.89,-249.88 174.89,-175.88 94.89,-175.88\"/>\n",
       "</g>\n",
       "<!-- PlaylistTrack&#45;&gt;Playlist -->\n",
       "<g id=\"edge8\" class=\"edge\">\n",
       "<title>PlaylistTrack:PlaylistId&#45;&gt;Playlist:PlaylistId</title>\n",
       "<path fill=\"none\" stroke=\"black\" d=\"M174.89,-214C316.52,-214 307.17,-48.94 440.84,-40.23\"/>\n",
       "<polygon fill=\"black\" stroke=\"black\" points=\"440.62,-43.74 450.51,-39.92 440.4,-36.74 440.62,-43.74\"/>\n",
       "</g>\n",
       "<!-- PlaylistTrack&#45;&gt;Track -->\n",
       "<g id=\"edge7\" class=\"edge\">\n",
       "<title>PlaylistTrack:TrackId&#45;&gt;Track:TrackId</title>\n",
       "<path fill=\"none\" stroke=\"black\" d=\"M174.89,-189.25C302.05,-189.25 317.92,-289.48 438.55,-295.36\"/>\n",
       "<polygon fill=\"black\" stroke=\"black\" points=\"438.17,-298.85 448.25,-295.59 438.34,-291.85 438.17,-298.85\"/>\n",
       "</g>\n",
       "<!-- Track&#45;&gt;Album -->\n",
       "<g id=\"edge11\" class=\"edge\">\n",
       "<title>Track:AlbumId&#45;&gt;Album:AlbumId</title>\n",
       "<path fill=\"none\" stroke=\"black\" d=\"M532.02,-249.5C652.31,-249.5 681.2,-295.13 795.78,-297.99\"/>\n",
       "<polygon fill=\"black\" stroke=\"black\" points=\"795.59,-301.48 805.63,-298.11 795.67,-294.48 795.59,-301.48\"/>\n",
       "</g>\n",
       "<!-- Track&#45;&gt;Genre -->\n",
       "<g id=\"edge10\" class=\"edge\">\n",
       "<title>Track:GenreId&#45;&gt;Genre:GenreId</title>\n",
       "<path fill=\"none\" stroke=\"black\" d=\"M532.02,-204.5C663.49,-204.5 673.96,-86.83 798.58,-80.17\"/>\n",
       "<polygon fill=\"black\" stroke=\"black\" points=\"798.35,-83.68 808.25,-79.91 798.17,-76.68 798.35,-83.68\"/>\n",
       "</g>\n",
       "<!-- Track&#45;&gt;MediaType -->\n",
       "<g id=\"edge9\" class=\"edge\">\n",
       "<title>Track:MediaTypeId&#45;&gt;MediaType:MediaTypeId</title>\n",
       "<path fill=\"none\" stroke=\"black\" d=\"M532.02,-227C646.99,-227 674.25,-180.99 783.57,-178.02\"/>\n",
       "<polygon fill=\"black\" stroke=\"black\" points=\"783.3,-181.53 793.25,-177.9 783.21,-174.53 783.3,-181.53\"/>\n",
       "</g>\n",
       "<!-- sqlite_stat1 -->\n",
       "<g id=\"node12\" class=\"node\">\n",
       "<title>sqlite_stat1</title>\n",
       "<polygon fill=\"lightgray\" stroke=\"none\" points=\"101.14,-578.38 101.14,-600.88 168.64,-600.88 168.64,-578.38 101.14,-578.38\"/>\n",
       "<polygon fill=\"none\" stroke=\"black\" points=\"101.14,-578.38 101.14,-600.88 168.64,-600.88 168.64,-578.38 101.14,-578.38\"/>\n",
       "<text text-anchor=\"start\" x=\"104.14\" y=\"-584.58\" font-family=\"Times,serif\" font-size=\"14.00\">sqlite_stat1</text>\n",
       "<polygon fill=\"none\" stroke=\"black\" points=\"101.14,-555.88 101.14,-578.38 168.64,-578.38 168.64,-555.88 101.14,-555.88\"/>\n",
       "<text text-anchor=\"start\" x=\"127.77\" y=\"-562.08\" font-family=\"Times,serif\" font-size=\"14.00\">tbl</text>\n",
       "<polygon fill=\"none\" stroke=\"black\" points=\"101.14,-533.38 101.14,-555.88 168.64,-555.88 168.64,-533.38 101.14,-533.38\"/>\n",
       "<text text-anchor=\"start\" x=\"126.27\" y=\"-539.58\" font-family=\"Times,serif\" font-size=\"14.00\">idx</text>\n",
       "<polygon fill=\"none\" stroke=\"black\" points=\"101.14,-510.88 101.14,-533.38 168.64,-533.38 168.64,-510.88 101.14,-510.88\"/>\n",
       "<text text-anchor=\"start\" x=\"125.52\" y=\"-517.08\" font-family=\"Times,serif\" font-size=\"14.00\">stat</text>\n",
       "<polygon fill=\"none\" stroke=\"black\" points=\"100.14,-509.88 100.14,-601.88 169.64,-601.88 169.64,-509.88 100.14,-509.88\"/>\n",
       "</g>\n",
       "<!-- sqlite_stat4 -->\n",
       "<g id=\"node13\" class=\"node\">\n",
       "<title>sqlite_stat4</title>\n",
       "<polygon fill=\"lightgray\" stroke=\"none\" points=\"101.14,-764.12 101.14,-786.62 168.64,-786.62 168.64,-764.12 101.14,-764.12\"/>\n",
       "<polygon fill=\"none\" stroke=\"black\" points=\"101.14,-764.12 101.14,-786.62 168.64,-786.62 168.64,-764.12 101.14,-764.12\"/>\n",
       "<text text-anchor=\"start\" x=\"104.14\" y=\"-770.33\" font-family=\"Times,serif\" font-size=\"14.00\">sqlite_stat4</text>\n",
       "<polygon fill=\"none\" stroke=\"black\" points=\"101.14,-741.62 101.14,-764.12 168.64,-764.12 168.64,-741.62 101.14,-741.62\"/>\n",
       "<text text-anchor=\"start\" x=\"127.77\" y=\"-747.83\" font-family=\"Times,serif\" font-size=\"14.00\">tbl</text>\n",
       "<polygon fill=\"none\" stroke=\"black\" points=\"101.14,-719.12 101.14,-741.62 168.64,-741.62 168.64,-719.12 101.14,-719.12\"/>\n",
       "<text text-anchor=\"start\" x=\"126.27\" y=\"-725.33\" font-family=\"Times,serif\" font-size=\"14.00\">idx</text>\n",
       "<polygon fill=\"none\" stroke=\"black\" points=\"101.14,-696.62 101.14,-719.12 168.64,-719.12 168.64,-696.62 101.14,-696.62\"/>\n",
       "<text text-anchor=\"start\" x=\"125.14\" y=\"-702.83\" font-family=\"Times,serif\" font-size=\"14.00\">neq</text>\n",
       "<polygon fill=\"none\" stroke=\"black\" points=\"101.14,-674.12 101.14,-696.62 168.64,-696.62 168.64,-674.12 101.14,-674.12\"/>\n",
       "<text text-anchor=\"start\" x=\"127.77\" y=\"-680.33\" font-family=\"Times,serif\" font-size=\"14.00\">nlt</text>\n",
       "<polygon fill=\"none\" stroke=\"black\" points=\"101.14,-651.62 101.14,-674.12 168.64,-674.12 168.64,-651.62 101.14,-651.62\"/>\n",
       "<text text-anchor=\"start\" x=\"124.39\" y=\"-657.83\" font-family=\"Times,serif\" font-size=\"14.00\">ndlt</text>\n",
       "<polygon fill=\"none\" stroke=\"black\" points=\"101.14,-629.12 101.14,-651.62 168.64,-651.62 168.64,-629.12 101.14,-629.12\"/>\n",
       "<text text-anchor=\"start\" x=\"115.39\" y=\"-635.33\" font-family=\"Times,serif\" font-size=\"14.00\">sample</text>\n",
       "<polygon fill=\"none\" stroke=\"black\" points=\"100.14,-628.12 100.14,-787.62 169.64,-787.62 169.64,-628.12 100.14,-628.12\"/>\n",
       "</g>\n",
       "<!-- pet_food -->\n",
       "<g id=\"node14\" class=\"node\">\n",
       "<title>pet_food</title>\n",
       "<polygon fill=\"lightgray\" stroke=\"none\" points=\"107.89,-886.62 107.89,-909.12 161.89,-909.12 161.89,-886.62 107.89,-886.62\"/>\n",
       "<polygon fill=\"none\" stroke=\"black\" points=\"107.89,-886.62 107.89,-909.12 161.89,-909.12 161.89,-886.62 107.89,-886.62\"/>\n",
       "<text text-anchor=\"start\" x=\"110.89\" y=\"-892.83\" font-family=\"Times,serif\" font-size=\"14.00\">pet_food</text>\n",
       "<polygon fill=\"#ffebcd\" stroke=\"none\" points=\"107.89,-861.88 107.89,-886.62 161.89,-886.62 161.89,-861.88 107.89,-861.88\"/>\n",
       "<polygon fill=\"none\" stroke=\"black\" points=\"107.89,-861.88 107.89,-886.62 161.89,-886.62 161.89,-861.88 107.89,-861.88\"/>\n",
       "<text text-anchor=\"start\" x=\"112.77\" y=\"-870.33\" font-family=\"Times,serif\" font-size=\"14.00\">catid 🔑</text>\n",
       "<polygon fill=\"#ffebcd\" stroke=\"none\" points=\"107.89,-837.12 107.89,-861.88 161.89,-861.88 161.89,-837.12 107.89,-837.12\"/>\n",
       "<polygon fill=\"none\" stroke=\"black\" points=\"107.89,-837.12 107.89,-861.88 161.89,-861.88 161.89,-837.12 107.89,-837.12\"/>\n",
       "<text text-anchor=\"start\" x=\"113.52\" y=\"-845.58\" font-family=\"Times,serif\" font-size=\"14.00\">food 🔑</text>\n",
       "<polygon fill=\"none\" stroke=\"black\" points=\"107.89,-814.62 107.89,-837.12 161.89,-837.12 161.89,-814.62 107.89,-814.62\"/>\n",
       "<text text-anchor=\"start\" x=\"126.27\" y=\"-820.83\" font-family=\"Times,serif\" font-size=\"14.00\">qty</text>\n",
       "<polygon fill=\"none\" stroke=\"black\" points=\"106.89,-813.62 106.89,-910.12 162.89,-910.12 162.89,-813.62 106.89,-813.62\"/>\n",
       "</g>\n",
       "</g>\n",
       "</svg>\n"
      ],
      "text/plain": [
       "<graphviz.sources.Source>"
      ]
     },
     "execution_count": null,
     "metadata": {},
     "output_type": "execute_result"
    }
   ],
   "source": [
    "diagram(db.tables)"
   ]
  },
  {
   "cell_type": "markdown",
   "metadata": {},
   "source": [
    "## export -"
   ]
  },
  {
   "cell_type": "code",
   "execution_count": null,
   "metadata": {},
   "outputs": [],
   "source": [
    "#| hide\n",
    "import nbdev; nbdev.nbdev_export()"
   ]
  },
  {
   "cell_type": "code",
   "execution_count": null,
   "metadata": {},
   "outputs": [],
   "source": []
  }
 ],
 "metadata": {
  "kernelspec": {
   "display_name": "python3",
   "language": "python",
   "name": "python3"
  }
 },
 "nbformat": 4,
 "nbformat_minor": 4
}
