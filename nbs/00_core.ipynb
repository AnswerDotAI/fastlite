{
 "cells": [
  {
   "cell_type": "code",
   "execution_count": null,
   "metadata": {},
   "outputs": [],
   "source": [
    "#| default_exp core"
   ]
  },
  {
   "cell_type": "markdown",
   "metadata": {},
   "source": [
    "# Source\n",
    "\n",
    "> Source code for fastlite"
   ]
  },
  {
   "cell_type": "markdown",
   "metadata": {},
   "source": [
    "## Metadata"
   ]
  },
  {
   "cell_type": "code",
   "execution_count": null,
   "metadata": {},
   "outputs": [],
   "source": [
    "#| export\n",
    "from dataclasses import field, make_dataclass, fields, Field, is_dataclass, MISSING\n",
    "from typing import Any,Union,Optional\n",
    "\n",
    "from fastcore.utils import *\n",
    "from fastcore.xml import highlight\n",
    "from fastcore.xtras import hl_md, dataclass_src\n",
    "\n",
    "from sqlite_utils import Database\n",
    "from sqlite_utils.db import Table, View\n",
    "\n",
    "try: from graphviz import Source\n",
    "except ImportError: pass"
   ]
  },
  {
   "cell_type": "code",
   "execution_count": null,
   "metadata": {},
   "outputs": [],
   "source": [
    "from IPython.display import Markdown"
   ]
  },
  {
   "cell_type": "code",
   "execution_count": null,
   "metadata": {},
   "outputs": [],
   "source": [
    "db = Database(\"chinook.sqlite\")"
   ]
  },
  {
   "cell_type": "code",
   "execution_count": null,
   "metadata": {},
   "outputs": [],
   "source": [
    "#| exports\n",
    "class _Getter:\n",
    "    \"Abstract class with dynamic attributes providing access to DB objects\"\n",
    "    def __init__(self, db): self.db = db\n",
    "    # NB: Define `__dir__` in subclass to get list of objects\n",
    "    def __repr__(self): return \", \".join(dir(self))\n",
    "    def __contains__(self, s): return (s if isinstance(s,str) else s.name) in dir(self)\n",
    "    def __getitem__(self, idxs):\n",
    "        if isinstance(idxs,str): idxs = [idxs]\n",
    "        return [self.db.table(o) for o in idxs]\n",
    "    def __getattr__(self, k):\n",
    "        if k[0]=='_': raise AttributeError\n",
    "        return self.db[k]\n",
    "\n",
    "class _TablesGetter(_Getter):\n",
    "    def __dir__(self): return self.db.table_names()\n",
    "\n",
    "@patch(as_prop=True)\n",
    "def t(self:Database): return _TablesGetter(self)"
   ]
  },
  {
   "cell_type": "markdown",
   "metadata": {},
   "source": [
    "By returning a `_TablesGetter` we get a repr and auto-complete that shows all tables in the DB."
   ]
  },
  {
   "cell_type": "code",
   "execution_count": null,
   "metadata": {},
   "outputs": [
    {
     "data": {
      "text/plain": [
       "Album, Artist, Customer, Employee, Genre, Invoice, InvoiceLine, MediaType, Playlist, PlaylistTrack, Track"
      ]
     },
     "execution_count": null,
     "metadata": {},
     "output_type": "execute_result"
    }
   ],
   "source": [
    "dt = db.t\n",
    "dt"
   ]
  },
  {
   "cell_type": "code",
   "execution_count": null,
   "metadata": {},
   "outputs": [
    {
     "data": {
      "text/plain": [
       "<Table Artist (ArtistId, Name)>"
      ]
     },
     "execution_count": null,
     "metadata": {},
     "output_type": "execute_result"
    }
   ],
   "source": [
    "artist = dt.Artist\n",
    "artist"
   ]
  },
  {
   "cell_type": "markdown",
   "metadata": {},
   "source": [
    "This also can be used to get multiple tables at once."
   ]
  },
  {
   "cell_type": "code",
   "execution_count": null,
   "metadata": {},
   "outputs": [
    {
     "data": {
      "text/plain": [
       "[<Table Album (AlbumId, Title, ArtistId)>, <Table Artist (ArtistId, Name)>]"
      ]
     },
     "execution_count": null,
     "metadata": {},
     "output_type": "execute_result"
    }
   ],
   "source": [
    "dt['Album','Artist']"
   ]
  },
  {
   "cell_type": "code",
   "execution_count": null,
   "metadata": {},
   "outputs": [],
   "source": [
    "assert 'Artist' in dt\n",
    "assert artist in dt\n",
    "assert 'foo' not in dt"
   ]
  },
  {
   "cell_type": "code",
   "execution_count": null,
   "metadata": {},
   "outputs": [],
   "source": [
    "#| exports\n",
    "class _Col:\n",
    "    def __init__(self, t, c): self.t,self.c = t,c\n",
    "    def __str__(self):  return f'\"{self.t}\".\"{self.c}\"'\n",
    "    def __repr__(self):  return self.c\n",
    "\n",
    "class _ColsGetter:\n",
    "    def __init__(self, tbl): self.tbl = tbl\n",
    "    def __dir__(self): return map(repr, self())\n",
    "    def __call__(self): return [_Col(self.tbl.name,o.name) for o in self.tbl.columns]\n",
    "    def __contains__(self, s): return (s if isinstance(s,str) else s.c) in self.tbl.columns_dict\n",
    "    def __repr__(self): return \", \".join(dir(self))\n",
    "\n",
    "    def __getattr__(self, k):\n",
    "        if k[0]=='_': raise AttributeError\n",
    "        return _Col(self.tbl.name, k)\n",
    "\n",
    "@patch(as_prop=True)\n",
    "def c(self:Table): return _ColsGetter(self)\n",
    "\n",
    "@patch(as_prop=True)\n",
    "def c(self:View): return _ColsGetter(self)"
   ]
  },
  {
   "cell_type": "markdown",
   "metadata": {},
   "source": [
    "Column auto-complete and repr are much the same as tables."
   ]
  },
  {
   "cell_type": "code",
   "execution_count": null,
   "metadata": {},
   "outputs": [
    {
     "data": {
      "text/plain": [
       "ArtistId, Name"
      ]
     },
     "execution_count": null,
     "metadata": {},
     "output_type": "execute_result"
    }
   ],
   "source": [
    "ac = artist.c\n",
    "ac"
   ]
  },
  {
   "cell_type": "markdown",
   "metadata": {},
   "source": [
    "Columns stringify in a format suitable for including in SQL statements."
   ]
  },
  {
   "cell_type": "code",
   "execution_count": null,
   "metadata": {},
   "outputs": [
    {
     "name": "stdout",
     "output_type": "stream",
     "text": [
      "select \"Artist\".\"Name\" ...\n"
     ]
    }
   ],
   "source": [
    "print(f\"select {ac.Name} ...\")"
   ]
  },
  {
   "cell_type": "code",
   "execution_count": null,
   "metadata": {},
   "outputs": [],
   "source": [
    "#| exports\n",
    "@patch\n",
    "def __str__(self:Table): return f'\"{self.name}\"'\n",
    "\n",
    "@patch\n",
    "def __str__(self:View): return f'\"{self.name}\"'"
   ]
  },
  {
   "cell_type": "markdown",
   "metadata": {},
   "source": [
    "Tables and views do the same."
   ]
  },
  {
   "cell_type": "code",
   "execution_count": null,
   "metadata": {},
   "outputs": [
    {
     "name": "stdout",
     "output_type": "stream",
     "text": [
      "select \"Artist\".\"Name\" from \"Artist\"\n"
     ]
    }
   ],
   "source": [
    "print(f\"select {ac.Name} from {artist}\")"
   ]
  },
  {
   "cell_type": "code",
   "execution_count": null,
   "metadata": {},
   "outputs": [],
   "source": [
    "assert 'Name' in ac\n",
    "assert ac.Name in ac\n",
    "assert 'foo' not in ac"
   ]
  },
  {
   "cell_type": "markdown",
   "metadata": {},
   "source": [
    "## Queries and views"
   ]
  },
  {
   "cell_type": "code",
   "execution_count": null,
   "metadata": {},
   "outputs": [],
   "source": [
    "#| exports\n",
    "@patch\n",
    "def q(self:Database, sql: str, params = None)->list:\n",
    "    return list(self.query(sql, params=params))"
   ]
  },
  {
   "cell_type": "markdown",
   "metadata": {},
   "source": [
    "This is a minor shortcut for interactive use."
   ]
  },
  {
   "cell_type": "code",
   "execution_count": null,
   "metadata": {},
   "outputs": [
    {
     "data": {
      "text/plain": [
       "[{'ArtistId': 1, 'Name': 'AC/DC'}]"
      ]
     },
     "execution_count": null,
     "metadata": {},
     "output_type": "execute_result"
    }
   ],
   "source": [
    "acdc = db.q(f\"select * from {artist} where {ac.Name} like 'AC/%'\")\n",
    "acdc"
   ]
  },
  {
   "cell_type": "code",
   "execution_count": null,
   "metadata": {},
   "outputs": [],
   "source": [
    "#| exports\n",
    "def _get_flds(tbl): \n",
    "    return [(k, v|None, field(default=tbl.default_values.get(k,None)))\n",
    "            for k,v in tbl.columns_dict.items()]\n",
    "\n",
    "@patch\n",
    "def dataclass(self:Table, store=True, suf='')->type:\n",
    "    \"Create a `dataclass` with the types and defaults of this table\"\n",
    "    res = make_dataclass(self.name.title()+suf, _get_flds(self))\n",
    "    if store: self.cls = res\n",
    "    return res"
   ]
  },
  {
   "cell_type": "code",
   "execution_count": null,
   "metadata": {},
   "outputs": [
    {
     "data": {
      "text/plain": [
       "Artist(ArtistId=1, Name='AC/DC')"
      ]
     },
     "execution_count": null,
     "metadata": {},
     "output_type": "execute_result"
    }
   ],
   "source": [
    "artist_dc = artist.dataclass()\n",
    "art1_obj = artist_dc(**acdc[0])\n",
    "art1_obj"
   ]
  },
  {
   "cell_type": "markdown",
   "metadata": {},
   "source": [
    "You can get the definition of the dataclass using fastcore's `dataclass_src`:"
   ]
  },
  {
   "cell_type": "code",
   "execution_count": null,
   "metadata": {},
   "outputs": [
    {
     "data": {
      "text/markdown": [
       "```python\n",
       "@dataclass\n",
       "class Artist:\n",
       "    ArtistId: int | None = None\n",
       "    Name: str | None = None\n",
       "\n",
       "```"
      ],
      "text/plain": [
       "<IPython.core.display.Markdown object>"
      ]
     },
     "execution_count": null,
     "metadata": {},
     "output_type": "execute_result"
    }
   ],
   "source": [
    "src = dataclass_src(artist_dc)\n",
    "hl_md(src, 'python')"
   ]
  },
  {
   "cell_type": "code",
   "execution_count": null,
   "metadata": {},
   "outputs": [],
   "source": [
    "#| exports\n",
    "def all_dcs(db, with_views=False, store=True, suf=''):\n",
    "    \"dataclasses for all objects in `db`\"\n",
    "    return [o.dataclass(store=store, suf=suf) for o in db.tables + (db.views if with_views else [])]"
   ]
  },
  {
   "cell_type": "code",
   "execution_count": null,
   "metadata": {},
   "outputs": [],
   "source": [
    "#| exports\n",
    "def create_mod(db, mod_fn, with_views=False, store=True, suf=''):\n",
    "    \"Create module for dataclasses for `db`\"\n",
    "    mod_fn = str(mod_fn)\n",
    "    if not mod_fn.endswith('.py'): mod_fn+='.py'\n",
    "    with open(mod_fn, 'w') as f:\n",
    "        print('from dataclasses import dataclass', file=f)\n",
    "        print('from typing import Any,Union,Optional\\n', file=f)\n",
    "        for o in all_dcs(db, with_views, store=store, suf=suf): print(dataclass_src(o), file=f)"
   ]
  },
  {
   "cell_type": "code",
   "execution_count": null,
   "metadata": {},
   "outputs": [],
   "source": [
    "create_mod(db, 'db_dc')"
   ]
  },
  {
   "cell_type": "code",
   "execution_count": null,
   "metadata": {},
   "outputs": [
    {
     "data": {
      "text/plain": [
       "Track(TrackId=1, Name='For Those About To Rock (We Salute You)', AlbumId=1, MediaTypeId=1, GenreId=1, Composer='Angus Young, Malcolm Young, Brian Johnson', Milliseconds=343719, Bytes=11170334, UnitPrice=0.99)"
      ]
     },
     "execution_count": null,
     "metadata": {},
     "output_type": "execute_result"
    }
   ],
   "source": [
    "#| eval: false\n",
    "from db_dc import Track\n",
    "Track(**dt.Track.get(1))"
   ]
  },
  {
   "cell_type": "code",
   "execution_count": null,
   "metadata": {},
   "outputs": [],
   "source": [
    "#| exports\n",
    "@patch\n",
    "def __call__(\n",
    "    self:(Table|View), with_pk:bool=False, where:str|None=None,\n",
    "    where_args: Iterable|dict|NoneType=None, order_by: str|None=None,\n",
    "    limit:int|None=None, offset:int|None=None, as_cls:bool=True, **kwargs)->list:\n",
    "    \"Shortcut for `rows_where` or `pks_and_rows_where`, depending on `with_pk`\"\n",
    "    \n",
    "    f = getattr(self, 'pks_and_rows_where' if with_pk else 'rows_where')\n",
    "    res = f(where=where, where_args=where_args, order_by=order_by, limit=limit, offset=offset, **kwargs)\n",
    "    if as_cls and hasattr(self,'cls'):\n",
    "        if with_pk: res = ((k,self.cls(**v)) for k,v in res)\n",
    "        else: res = (self.cls(**o) for o in res)\n",
    "    return list(res)"
   ]
  },
  {
   "cell_type": "markdown",
   "metadata": {},
   "source": [
    "This calls either `rows_where` (if `with_pk`) or `with_pk` (otherwise). If `dataclass(store=True)` has been called, then if `as_cls` rows will be returned as dataclass objects."
   ]
  },
  {
   "cell_type": "code",
   "execution_count": null,
   "metadata": {},
   "outputs": [
    {
     "data": {
      "text/plain": [
       "[Artist_cls(ArtistId=1, Name='AC/DC'), Artist_cls(ArtistId=2, Name='Accept')]"
      ]
     },
     "execution_count": null,
     "metadata": {},
     "output_type": "execute_result"
    }
   ],
   "source": [
    "artist(limit=2)"
   ]
  },
  {
   "cell_type": "markdown",
   "metadata": {},
   "source": [
    "If `with_pk` then tuples are returns with PKs 1st."
   ]
  },
  {
   "cell_type": "code",
   "execution_count": null,
   "metadata": {},
   "outputs": [
    {
     "data": {
      "text/plain": [
       "[(1, Artist_cls(ArtistId=1, Name='AC/DC')),\n",
       " (2, Artist_cls(ArtistId=2, Name='Accept'))]"
      ]
     },
     "execution_count": null,
     "metadata": {},
     "output_type": "execute_result"
    }
   ],
   "source": [
    "artist(True, limit=2)"
   ]
  },
  {
   "cell_type": "code",
   "execution_count": null,
   "metadata": {},
   "outputs": [],
   "source": [
    "#| exports\n",
    "@patch\n",
    "def get(self:Table, pk_values: list|tuple|str|int, as_cls:bool=True)->Any:\n",
    "    res = self._orig_get(pk_values=pk_values)\n",
    "    if as_cls and hasattr(self,'cls'): res = self.cls(**res)\n",
    "    return res"
   ]
  },
  {
   "cell_type": "code",
   "execution_count": null,
   "metadata": {},
   "outputs": [
    {
     "data": {
      "text/plain": [
       "Artist_cls(ArtistId=1, Name='AC/DC')"
      ]
     },
     "execution_count": null,
     "metadata": {},
     "output_type": "execute_result"
    }
   ],
   "source": [
    "artist.get(1)"
   ]
  },
  {
   "cell_type": "code",
   "execution_count": null,
   "metadata": {},
   "outputs": [],
   "source": [
    "album = dt.Album\n",
    "\n",
    "acca_sql = f\"\"\"select {album}.*\n",
    "from {album} join {artist} using (ArtistId)\n",
    "where {ac.Name} like 'AC/%'\"\"\""
   ]
  },
  {
   "cell_type": "code",
   "execution_count": null,
   "metadata": {},
   "outputs": [
    {
     "data": {
      "text/markdown": [
       "```sql\n",
       "select \"Album\".*\n",
       "from \"Album\" join \"Artist\" using (ArtistId)\n",
       "where \"Artist\".\"Name\" like 'AC/%'\n",
       "```"
      ],
      "text/plain": [
       "<IPython.core.display.Markdown object>"
      ]
     },
     "execution_count": null,
     "metadata": {},
     "output_type": "execute_result"
    }
   ],
   "source": [
    "hl_md(acca_sql, 'sql')"
   ]
  },
  {
   "cell_type": "code",
   "execution_count": null,
   "metadata": {},
   "outputs": [
    {
     "data": {
      "text/plain": [
       "[{'AlbumId': 1,\n",
       "  'Title': 'For Those About To Rock We Salute You',\n",
       "  'ArtistId': 1},\n",
       " {'AlbumId': 4, 'Title': 'Let There Be Rock', 'ArtistId': 1}]"
      ]
     },
     "execution_count": null,
     "metadata": {},
     "output_type": "execute_result"
    }
   ],
   "source": [
    "db.q(acca_sql)"
   ]
  },
  {
   "cell_type": "code",
   "execution_count": null,
   "metadata": {},
   "outputs": [
    {
     "data": {
      "text/plain": [
       "<Database <sqlite3.Connection object>>"
      ]
     },
     "execution_count": null,
     "metadata": {},
     "output_type": "execute_result"
    }
   ],
   "source": [
    "db.create_view(\"AccaDaccaAlbums\", acca_sql, replace=True)"
   ]
  },
  {
   "cell_type": "code",
   "execution_count": null,
   "metadata": {},
   "outputs": [],
   "source": [
    "#| exports\n",
    "class _ViewsGetter(_Getter):\n",
    "    def __dir__(self): return self.db.view_names()\n",
    "\n",
    "@patch(as_prop=True)\n",
    "def v(self:Database): return _ViewsGetter(self)"
   ]
  },
  {
   "cell_type": "code",
   "execution_count": null,
   "metadata": {},
   "outputs": [
    {
     "data": {
      "text/plain": [
       "AccaDaccaAlbums"
      ]
     },
     "execution_count": null,
     "metadata": {},
     "output_type": "execute_result"
    }
   ],
   "source": [
    "dv = db.v\n",
    "dv"
   ]
  },
  {
   "cell_type": "code",
   "execution_count": null,
   "metadata": {},
   "outputs": [
    {
     "data": {
      "text/plain": [
       "[{'AlbumId': 1,\n",
       "  'Title': 'For Those About To Rock We Salute You',\n",
       "  'ArtistId': 1},\n",
       " {'AlbumId': 4, 'Title': 'Let There Be Rock', 'ArtistId': 1}]"
      ]
     },
     "execution_count": null,
     "metadata": {},
     "output_type": "execute_result"
    }
   ],
   "source": [
    "dv.AccaDaccaAlbums()"
   ]
  },
  {
   "cell_type": "markdown",
   "metadata": {},
   "source": [
    "## Database diagrams"
   ]
  },
  {
   "cell_type": "markdown",
   "metadata": {},
   "source": [
    "(Requires graphviz.)"
   ]
  },
  {
   "cell_type": "code",
   "execution_count": null,
   "metadata": {},
   "outputs": [
    {
     "data": {
      "text/plain": [
       "ForeignKey(table='Album', column='ArtistId', other_table='Artist', other_column='ArtistId')"
      ]
     },
     "execution_count": null,
     "metadata": {},
     "output_type": "execute_result"
    }
   ],
   "source": [
    "fk = album.foreign_keys[0]\n",
    "fk"
   ]
  },
  {
   "cell_type": "code",
   "execution_count": null,
   "metadata": {},
   "outputs": [],
   "source": [
    "#| exports\n",
    "def _edge(tbl):\n",
    "    return \"\\n\".join(f\"{fk.table}:{fk.column} -> {fk.other_table}:{fk.other_column};\"\n",
    "                     for fk in tbl.foreign_keys)\n",
    "\n",
    "def _row(col):\n",
    "    xtra = \" 🔑\" if col.is_pk else \"\"\n",
    "    bg = ' bgcolor=\"#ffebcd\"' if col.is_pk else \"\"\n",
    "    return f'    <tr><td port=\"{col.name}\"{bg}>{col.name}{xtra}</td></tr>'\n",
    "\n",
    "def _tnode(tbl):\n",
    "    rows = \"\\n\".join(_row(o) for o in tbl.columns)\n",
    "    res = f\"\"\"<table cellborder=\"1\" cellspacing=\"0\">\n",
    "    <tr><td bgcolor=\"lightgray\">{tbl.name}</td></tr>\n",
    "{rows}\n",
    "  </table>\"\"\"\n",
    "    return f\"{tbl.name} [label=<{res}>];\\n\""
   ]
  },
  {
   "cell_type": "code",
   "execution_count": null,
   "metadata": {},
   "outputs": [],
   "source": [
    "#| exports\n",
    "def diagram(tbls, ratio=0.7, size=\"10\", neato=False, render=True):\n",
    "    layout = \"\\nlayout=neato;\\noverlap=prism;\\noverlap_scaling=0.5;\"\"\" if neato else \"\"\n",
    "    edges  = \"\\n\".join(map(_edge,  tbls))\n",
    "    tnodes = \"\\n\".join(map(_tnode, tbls))\n",
    "    \n",
    "    res = f\"\"\"digraph G {{\n",
    "rankdir=LR;{layout}\n",
    "size=\"{size}\";\n",
    "ratio={ratio};\n",
    "node [shape=plaintext]\n",
    "\n",
    "{tnodes}\n",
    "\n",
    "{edges}\n",
    "}}\n",
    "\"\"\"\n",
    "    return Source(res) if render else res"
   ]
  },
  {
   "cell_type": "code",
   "execution_count": null,
   "metadata": {},
   "outputs": [
    {
     "data": {
      "image/svg+xml": [
       "<?xml version=\"1.0\" encoding=\"UTF-8\" standalone=\"no\"?>\n",
       "<!DOCTYPE svg PUBLIC \"-//W3C//DTD SVG 1.1//EN\"\n",
       " \"http://www.w3.org/Graphics/SVG/1.1/DTD/svg11.dtd\">\n",
       "<!-- Generated by graphviz version 11.0.0 (20240428.1522)\n",
       " -->\n",
       "<!-- Title: G Pages: 1 -->\n",
       "<svg width=\"720pt\" height=\"505pt\"\n",
       " viewBox=\"0.00 0.00 720.00 505.47\" xmlns=\"http://www.w3.org/2000/svg\" xmlns:xlink=\"http://www.w3.org/1999/xlink\">\n",
       "<g id=\"graph0\" class=\"graph\" transform=\"scale(0.611576 0.611576) rotate(0) translate(4 822.5)\">\n",
       "<title>G</title>\n",
       "<polygon fill=\"white\" stroke=\"none\" points=\"-4,4 -4,-822.5 1173.29,-822.5 1173.29,4 -4,4\"/>\n",
       "<!-- Album -->\n",
       "<g id=\"node1\" class=\"node\">\n",
       "<title>Album</title>\n",
       "<polygon fill=\"lightgray\" stroke=\"none\" points=\"719.54,-310.5 719.54,-333 793.04,-333 793.04,-310.5 719.54,-310.5\"/>\n",
       "<polygon fill=\"none\" stroke=\"black\" points=\"719.54,-310.5 719.54,-333 793.04,-333 793.04,-310.5 719.54,-310.5\"/>\n",
       "<text text-anchor=\"start\" x=\"737.16\" y=\"-316.7\" font-family=\"Times,serif\" font-size=\"14.00\">Album</text>\n",
       "<polygon fill=\"#ffebcd\" stroke=\"none\" points=\"719.54,-285.75 719.54,-310.5 793.04,-310.5 793.04,-285.75 719.54,-285.75\"/>\n",
       "<polygon fill=\"none\" stroke=\"black\" points=\"719.54,-285.75 719.54,-310.5 793.04,-310.5 793.04,-285.75 719.54,-285.75\"/>\n",
       "<text text-anchor=\"start\" x=\"722.54\" y=\"-294.2\" font-family=\"Times,serif\" font-size=\"14.00\">AlbumId 🔑</text>\n",
       "<polygon fill=\"none\" stroke=\"black\" points=\"719.54,-263.25 719.54,-285.75 793.04,-285.75 793.04,-263.25 719.54,-263.25\"/>\n",
       "<text text-anchor=\"start\" x=\"743.54\" y=\"-269.45\" font-family=\"Times,serif\" font-size=\"14.00\">Title</text>\n",
       "<polygon fill=\"none\" stroke=\"black\" points=\"719.54,-240.75 719.54,-263.25 793.04,-263.25 793.04,-240.75 719.54,-240.75\"/>\n",
       "<text text-anchor=\"start\" x=\"735.29\" y=\"-246.95\" font-family=\"Times,serif\" font-size=\"14.00\">ArtistId</text>\n",
       "<polygon fill=\"none\" stroke=\"black\" points=\"718.54,-239.75 718.54,-334 794.04,-334 794.04,-239.75 718.54,-239.75\"/>\n",
       "</g>\n",
       "<!-- Artist -->\n",
       "<g id=\"node2\" class=\"node\">\n",
       "<title>Artist</title>\n",
       "<polygon fill=\"lightgray\" stroke=\"none\" points=\"1025.29,-197.25 1025.29,-219.75 1091.29,-219.75 1091.29,-197.25 1025.29,-197.25\"/>\n",
       "<polygon fill=\"none\" stroke=\"black\" points=\"1025.29,-197.25 1025.29,-219.75 1091.29,-219.75 1091.29,-197.25 1025.29,-197.25\"/>\n",
       "<text text-anchor=\"start\" x=\"1042.91\" y=\"-203.45\" font-family=\"Times,serif\" font-size=\"14.00\">Artist</text>\n",
       "<polygon fill=\"#ffebcd\" stroke=\"none\" points=\"1025.29,-172.5 1025.29,-197.25 1091.29,-197.25 1091.29,-172.5 1025.29,-172.5\"/>\n",
       "<polygon fill=\"none\" stroke=\"black\" points=\"1025.29,-172.5 1025.29,-197.25 1091.29,-197.25 1091.29,-172.5 1025.29,-172.5\"/>\n",
       "<text text-anchor=\"start\" x=\"1028.29\" y=\"-180.95\" font-family=\"Times,serif\" font-size=\"14.00\">ArtistId 🔑</text>\n",
       "<polygon fill=\"none\" stroke=\"black\" points=\"1025.29,-150 1025.29,-172.5 1091.29,-172.5 1091.29,-150 1025.29,-150\"/>\n",
       "<text text-anchor=\"start\" x=\"1041.79\" y=\"-156.2\" font-family=\"Times,serif\" font-size=\"14.00\">Name</text>\n",
       "<polygon fill=\"none\" stroke=\"black\" points=\"1024.29,-149 1024.29,-220.75 1092.29,-220.75 1092.29,-149 1024.29,-149\"/>\n",
       "</g>\n",
       "<!-- Album&#45;&gt;Artist -->\n",
       "<g id=\"edge1\" class=\"edge\">\n",
       "<title>Album:ArtistId&#45;&gt;Artist:ArtistId</title>\n",
       "<path fill=\"none\" stroke=\"black\" d=\"M794.04,-252C896.67,-252 916.3,-189.76 1012.78,-185.15\"/>\n",
       "<polygon fill=\"black\" stroke=\"black\" points=\"1012.86,-188.64 1022.77,-184.91 1012.69,-181.65 1012.86,-188.64\"/>\n",
       "</g>\n",
       "<!-- Customer -->\n",
       "<g id=\"node3\" class=\"node\">\n",
       "<title>Customer</title>\n",
       "<polygon fill=\"lightgray\" stroke=\"none\" points=\"712.04,-791 712.04,-813.5 800.54,-813.5 800.54,-791 712.04,-791\"/>\n",
       "<polygon fill=\"none\" stroke=\"black\" points=\"712.04,-791 712.04,-813.5 800.54,-813.5 800.54,-791 712.04,-791\"/>\n",
       "<text text-anchor=\"start\" x=\"729.66\" y=\"-797.2\" font-family=\"Times,serif\" font-size=\"14.00\">Customer</text>\n",
       "<polygon fill=\"#ffebcd\" stroke=\"none\" points=\"712.04,-766.25 712.04,-791 800.54,-791 800.54,-766.25 712.04,-766.25\"/>\n",
       "<polygon fill=\"none\" stroke=\"black\" points=\"712.04,-766.25 712.04,-791 800.54,-791 800.54,-766.25 712.04,-766.25\"/>\n",
       "<text text-anchor=\"start\" x=\"715.04\" y=\"-774.7\" font-family=\"Times,serif\" font-size=\"14.00\">CustomerId 🔑</text>\n",
       "<polygon fill=\"none\" stroke=\"black\" points=\"712.04,-743.75 712.04,-766.25 800.54,-766.25 800.54,-743.75 712.04,-743.75\"/>\n",
       "<text text-anchor=\"start\" x=\"727.41\" y=\"-749.95\" font-family=\"Times,serif\" font-size=\"14.00\">FirstName</text>\n",
       "<polygon fill=\"none\" stroke=\"black\" points=\"712.04,-721.25 712.04,-743.75 800.54,-743.75 800.54,-721.25 712.04,-721.25\"/>\n",
       "<text text-anchor=\"start\" x=\"728.16\" y=\"-727.45\" font-family=\"Times,serif\" font-size=\"14.00\">LastName</text>\n",
       "<polygon fill=\"none\" stroke=\"black\" points=\"712.04,-698.75 712.04,-721.25 800.54,-721.25 800.54,-698.75 712.04,-698.75\"/>\n",
       "<text text-anchor=\"start\" x=\"729.66\" y=\"-704.95\" font-family=\"Times,serif\" font-size=\"14.00\">Company</text>\n",
       "<polygon fill=\"none\" stroke=\"black\" points=\"712.04,-676.25 712.04,-698.75 800.54,-698.75 800.54,-676.25 712.04,-676.25\"/>\n",
       "<text text-anchor=\"start\" x=\"734.16\" y=\"-682.45\" font-family=\"Times,serif\" font-size=\"14.00\">Address</text>\n",
       "<polygon fill=\"none\" stroke=\"black\" points=\"712.04,-653.75 712.04,-676.25 800.54,-676.25 800.54,-653.75 712.04,-653.75\"/>\n",
       "<text text-anchor=\"start\" x=\"744.66\" y=\"-659.95\" font-family=\"Times,serif\" font-size=\"14.00\">City</text>\n",
       "<polygon fill=\"none\" stroke=\"black\" points=\"712.04,-631.25 712.04,-653.75 800.54,-653.75 800.54,-631.25 712.04,-631.25\"/>\n",
       "<text text-anchor=\"start\" x=\"742.79\" y=\"-637.45\" font-family=\"Times,serif\" font-size=\"14.00\">State</text>\n",
       "<polygon fill=\"none\" stroke=\"black\" points=\"712.04,-608.75 712.04,-631.25 800.54,-631.25 800.54,-608.75 712.04,-608.75\"/>\n",
       "<text text-anchor=\"start\" x=\"734.16\" y=\"-614.95\" font-family=\"Times,serif\" font-size=\"14.00\">Country</text>\n",
       "<polygon fill=\"none\" stroke=\"black\" points=\"712.04,-586.25 712.04,-608.75 800.54,-608.75 800.54,-586.25 712.04,-586.25\"/>\n",
       "<text text-anchor=\"start\" x=\"725.54\" y=\"-592.45\" font-family=\"Times,serif\" font-size=\"14.00\">PostalCode</text>\n",
       "<polygon fill=\"none\" stroke=\"black\" points=\"712.04,-563.75 712.04,-586.25 800.54,-586.25 800.54,-563.75 712.04,-563.75\"/>\n",
       "<text text-anchor=\"start\" x=\"739.41\" y=\"-569.95\" font-family=\"Times,serif\" font-size=\"14.00\">Phone</text>\n",
       "<polygon fill=\"none\" stroke=\"black\" points=\"712.04,-541.25 712.04,-563.75 800.54,-563.75 800.54,-541.25 712.04,-541.25\"/>\n",
       "<text text-anchor=\"start\" x=\"746.16\" y=\"-547.45\" font-family=\"Times,serif\" font-size=\"14.00\">Fax</text>\n",
       "<polygon fill=\"none\" stroke=\"black\" points=\"712.04,-518.75 712.04,-541.25 800.54,-541.25 800.54,-518.75 712.04,-518.75\"/>\n",
       "<text text-anchor=\"start\" x=\"739.79\" y=\"-524.95\" font-family=\"Times,serif\" font-size=\"14.00\">Email</text>\n",
       "<polygon fill=\"none\" stroke=\"black\" points=\"712.04,-496.25 712.04,-518.75 800.54,-518.75 800.54,-496.25 712.04,-496.25\"/>\n",
       "<text text-anchor=\"start\" x=\"718.41\" y=\"-502.45\" font-family=\"Times,serif\" font-size=\"14.00\">SupportRepId</text>\n",
       "<polygon fill=\"none\" stroke=\"black\" points=\"711.04,-495.25 711.04,-814.5 801.54,-814.5 801.54,-495.25 711.04,-495.25\"/>\n",
       "</g>\n",
       "<!-- Employee -->\n",
       "<g id=\"node4\" class=\"node\">\n",
       "<title>Employee</title>\n",
       "<polygon fill=\"lightgray\" stroke=\"none\" points=\"1012.91,-587.5 1012.91,-610 1103.66,-610 1103.66,-587.5 1012.91,-587.5\"/>\n",
       "<polygon fill=\"none\" stroke=\"black\" points=\"1012.91,-587.5 1012.91,-610 1103.66,-610 1103.66,-587.5 1012.91,-587.5\"/>\n",
       "<text text-anchor=\"start\" x=\"1030.54\" y=\"-593.7\" font-family=\"Times,serif\" font-size=\"14.00\">Employee</text>\n",
       "<polygon fill=\"#ffebcd\" stroke=\"none\" points=\"1012.91,-562.75 1012.91,-587.5 1103.66,-587.5 1103.66,-562.75 1012.91,-562.75\"/>\n",
       "<polygon fill=\"none\" stroke=\"black\" points=\"1012.91,-562.75 1012.91,-587.5 1103.66,-587.5 1103.66,-562.75 1012.91,-562.75\"/>\n",
       "<text text-anchor=\"start\" x=\"1015.91\" y=\"-571.2\" font-family=\"Times,serif\" font-size=\"14.00\">EmployeeId 🔑</text>\n",
       "<polygon fill=\"none\" stroke=\"black\" points=\"1012.91,-540.25 1012.91,-562.75 1103.66,-562.75 1103.66,-540.25 1012.91,-540.25\"/>\n",
       "<text text-anchor=\"start\" x=\"1030.16\" y=\"-546.45\" font-family=\"Times,serif\" font-size=\"14.00\">LastName</text>\n",
       "<polygon fill=\"none\" stroke=\"black\" points=\"1012.91,-517.75 1012.91,-540.25 1103.66,-540.25 1103.66,-517.75 1012.91,-517.75\"/>\n",
       "<text text-anchor=\"start\" x=\"1029.41\" y=\"-523.95\" font-family=\"Times,serif\" font-size=\"14.00\">FirstName</text>\n",
       "<polygon fill=\"none\" stroke=\"black\" points=\"1012.91,-495.25 1012.91,-517.75 1103.66,-517.75 1103.66,-495.25 1012.91,-495.25\"/>\n",
       "<text text-anchor=\"start\" x=\"1045.54\" y=\"-501.45\" font-family=\"Times,serif\" font-size=\"14.00\">Title</text>\n",
       "<polygon fill=\"none\" stroke=\"black\" points=\"1012.91,-472.75 1012.91,-495.25 1103.66,-495.25 1103.66,-472.75 1012.91,-472.75\"/>\n",
       "<text text-anchor=\"start\" x=\"1029.79\" y=\"-478.95\" font-family=\"Times,serif\" font-size=\"14.00\">ReportsTo</text>\n",
       "<polygon fill=\"none\" stroke=\"black\" points=\"1012.91,-450.25 1012.91,-472.75 1103.66,-472.75 1103.66,-450.25 1012.91,-450.25\"/>\n",
       "<text text-anchor=\"start\" x=\"1031.66\" y=\"-456.45\" font-family=\"Times,serif\" font-size=\"14.00\">BirthDate</text>\n",
       "<polygon fill=\"none\" stroke=\"black\" points=\"1012.91,-427.75 1012.91,-450.25 1103.66,-450.25 1103.66,-427.75 1012.91,-427.75\"/>\n",
       "<text text-anchor=\"start\" x=\"1033.54\" y=\"-433.95\" font-family=\"Times,serif\" font-size=\"14.00\">HireDate</text>\n",
       "<polygon fill=\"none\" stroke=\"black\" points=\"1012.91,-405.25 1012.91,-427.75 1103.66,-427.75 1103.66,-405.25 1012.91,-405.25\"/>\n",
       "<text text-anchor=\"start\" x=\"1036.16\" y=\"-411.45\" font-family=\"Times,serif\" font-size=\"14.00\">Address</text>\n",
       "<polygon fill=\"none\" stroke=\"black\" points=\"1012.91,-382.75 1012.91,-405.25 1103.66,-405.25 1103.66,-382.75 1012.91,-382.75\"/>\n",
       "<text text-anchor=\"start\" x=\"1046.66\" y=\"-388.95\" font-family=\"Times,serif\" font-size=\"14.00\">City</text>\n",
       "<polygon fill=\"none\" stroke=\"black\" points=\"1012.91,-360.25 1012.91,-382.75 1103.66,-382.75 1103.66,-360.25 1012.91,-360.25\"/>\n",
       "<text text-anchor=\"start\" x=\"1044.79\" y=\"-366.45\" font-family=\"Times,serif\" font-size=\"14.00\">State</text>\n",
       "<polygon fill=\"none\" stroke=\"black\" points=\"1012.91,-337.75 1012.91,-360.25 1103.66,-360.25 1103.66,-337.75 1012.91,-337.75\"/>\n",
       "<text text-anchor=\"start\" x=\"1036.16\" y=\"-343.95\" font-family=\"Times,serif\" font-size=\"14.00\">Country</text>\n",
       "<polygon fill=\"none\" stroke=\"black\" points=\"1012.91,-315.25 1012.91,-337.75 1103.66,-337.75 1103.66,-315.25 1012.91,-315.25\"/>\n",
       "<text text-anchor=\"start\" x=\"1027.54\" y=\"-321.45\" font-family=\"Times,serif\" font-size=\"14.00\">PostalCode</text>\n",
       "<polygon fill=\"none\" stroke=\"black\" points=\"1012.91,-292.75 1012.91,-315.25 1103.66,-315.25 1103.66,-292.75 1012.91,-292.75\"/>\n",
       "<text text-anchor=\"start\" x=\"1041.41\" y=\"-298.95\" font-family=\"Times,serif\" font-size=\"14.00\">Phone</text>\n",
       "<polygon fill=\"none\" stroke=\"black\" points=\"1012.91,-270.25 1012.91,-292.75 1103.66,-292.75 1103.66,-270.25 1012.91,-270.25\"/>\n",
       "<text text-anchor=\"start\" x=\"1048.16\" y=\"-276.45\" font-family=\"Times,serif\" font-size=\"14.00\">Fax</text>\n",
       "<polygon fill=\"none\" stroke=\"black\" points=\"1012.91,-247.75 1012.91,-270.25 1103.66,-270.25 1103.66,-247.75 1012.91,-247.75\"/>\n",
       "<text text-anchor=\"start\" x=\"1041.79\" y=\"-253.95\" font-family=\"Times,serif\" font-size=\"14.00\">Email</text>\n",
       "<polygon fill=\"none\" stroke=\"black\" points=\"1011.91,-246.75 1011.91,-611 1104.66,-611 1104.66,-246.75 1011.91,-246.75\"/>\n",
       "</g>\n",
       "<!-- Customer&#45;&gt;Employee -->\n",
       "<g id=\"edge2\" class=\"edge\">\n",
       "<title>Customer:SupportRepId&#45;&gt;Employee:EmployeeId</title>\n",
       "<path fill=\"none\" stroke=\"black\" d=\"M801.54,-507.5C895.82,-507.5 912.45,-569.82 1000.51,-574.81\"/>\n",
       "<polygon fill=\"black\" stroke=\"black\" points=\"1000.3,-578.3 1010.4,-575.08 1000.5,-571.31 1000.3,-578.3\"/>\n",
       "</g>\n",
       "<!-- Employee&#45;&gt;Employee -->\n",
       "<g id=\"edge3\" class=\"edge\">\n",
       "<title>Employee:ReportsTo&#45;&gt;Employee:EmployeeId</title>\n",
       "<path fill=\"none\" stroke=\"black\" d=\"M1013.15,-480.15C942.65,-476.98 852.91,-485.39 852.91,-529.56 852.91,-571.41 933.43,-581.16 1001.85,-579.37\"/>\n",
       "<polygon fill=\"black\" stroke=\"black\" points=\"1001.77,-582.88 1011.63,-579.03 1001.52,-575.88 1001.77,-582.88\"/>\n",
       "</g>\n",
       "<!-- Genre -->\n",
       "<g id=\"node5\" class=\"node\">\n",
       "<title>Genre</title>\n",
       "<polygon fill=\"lightgray\" stroke=\"none\" points=\"722.16,-92.25 722.16,-114.75 790.41,-114.75 790.41,-92.25 722.16,-92.25\"/>\n",
       "<polygon fill=\"none\" stroke=\"black\" points=\"722.16,-92.25 722.16,-114.75 790.41,-114.75 790.41,-92.25 722.16,-92.25\"/>\n",
       "<text text-anchor=\"start\" x=\"739.79\" y=\"-98.45\" font-family=\"Times,serif\" font-size=\"14.00\">Genre</text>\n",
       "<polygon fill=\"#ffebcd\" stroke=\"none\" points=\"722.16,-67.5 722.16,-92.25 790.41,-92.25 790.41,-67.5 722.16,-67.5\"/>\n",
       "<polygon fill=\"none\" stroke=\"black\" points=\"722.16,-67.5 722.16,-92.25 790.41,-92.25 790.41,-67.5 722.16,-67.5\"/>\n",
       "<text text-anchor=\"start\" x=\"725.16\" y=\"-75.95\" font-family=\"Times,serif\" font-size=\"14.00\">GenreId 🔑</text>\n",
       "<polygon fill=\"none\" stroke=\"black\" points=\"722.16,-45 722.16,-67.5 790.41,-67.5 790.41,-45 722.16,-45\"/>\n",
       "<text text-anchor=\"start\" x=\"739.79\" y=\"-51.2\" font-family=\"Times,serif\" font-size=\"14.00\">Name</text>\n",
       "<polygon fill=\"none\" stroke=\"black\" points=\"721.16,-44 721.16,-115.75 791.41,-115.75 791.41,-44 721.16,-44\"/>\n",
       "</g>\n",
       "<!-- Invoice -->\n",
       "<g id=\"node6\" class=\"node\">\n",
       "<title>Invoice</title>\n",
       "<polygon fill=\"lightgray\" stroke=\"none\" points=\"386.79,-596 386.79,-618.5 491.79,-618.5 491.79,-596 386.79,-596\"/>\n",
       "<polygon fill=\"none\" stroke=\"black\" points=\"386.79,-596 386.79,-618.5 491.79,-618.5 491.79,-596 386.79,-596\"/>\n",
       "<text text-anchor=\"start\" x=\"419.04\" y=\"-602.2\" font-family=\"Times,serif\" font-size=\"14.00\">Invoice</text>\n",
       "<polygon fill=\"#ffebcd\" stroke=\"none\" points=\"386.79,-571.25 386.79,-596 491.79,-596 491.79,-571.25 386.79,-571.25\"/>\n",
       "<polygon fill=\"none\" stroke=\"black\" points=\"386.79,-571.25 386.79,-596 491.79,-596 491.79,-571.25 386.79,-571.25\"/>\n",
       "<text text-anchor=\"start\" x=\"404.41\" y=\"-579.7\" font-family=\"Times,serif\" font-size=\"14.00\">InvoiceId 🔑</text>\n",
       "<polygon fill=\"none\" stroke=\"black\" points=\"386.79,-548.75 386.79,-571.25 491.79,-571.25 491.79,-548.75 386.79,-548.75\"/>\n",
       "<text text-anchor=\"start\" x=\"407.04\" y=\"-554.95\" font-family=\"Times,serif\" font-size=\"14.00\">CustomerId</text>\n",
       "<polygon fill=\"none\" stroke=\"black\" points=\"386.79,-526.25 386.79,-548.75 491.79,-548.75 491.79,-526.25 386.79,-526.25\"/>\n",
       "<text text-anchor=\"start\" x=\"406.29\" y=\"-532.45\" font-family=\"Times,serif\" font-size=\"14.00\">InvoiceDate</text>\n",
       "<polygon fill=\"none\" stroke=\"black\" points=\"386.79,-503.75 386.79,-526.25 491.79,-526.25 491.79,-503.75 386.79,-503.75\"/>\n",
       "<text text-anchor=\"start\" x=\"398.41\" y=\"-509.95\" font-family=\"Times,serif\" font-size=\"14.00\">BillingAddress</text>\n",
       "<polygon fill=\"none\" stroke=\"black\" points=\"386.79,-481.25 386.79,-503.75 491.79,-503.75 491.79,-481.25 386.79,-481.25\"/>\n",
       "<text text-anchor=\"start\" x=\"408.91\" y=\"-487.45\" font-family=\"Times,serif\" font-size=\"14.00\">BillingCity</text>\n",
       "<polygon fill=\"none\" stroke=\"black\" points=\"386.79,-458.75 386.79,-481.25 491.79,-481.25 491.79,-458.75 386.79,-458.75\"/>\n",
       "<text text-anchor=\"start\" x=\"407.04\" y=\"-464.95\" font-family=\"Times,serif\" font-size=\"14.00\">BillingState</text>\n",
       "<polygon fill=\"none\" stroke=\"black\" points=\"386.79,-436.25 386.79,-458.75 491.79,-458.75 491.79,-436.25 386.79,-436.25\"/>\n",
       "<text text-anchor=\"start\" x=\"398.41\" y=\"-442.45\" font-family=\"Times,serif\" font-size=\"14.00\">BillingCountry</text>\n",
       "<polygon fill=\"none\" stroke=\"black\" points=\"386.79,-413.75 386.79,-436.25 491.79,-436.25 491.79,-413.75 386.79,-413.75\"/>\n",
       "<text text-anchor=\"start\" x=\"389.79\" y=\"-419.95\" font-family=\"Times,serif\" font-size=\"14.00\">BillingPostalCode</text>\n",
       "<polygon fill=\"none\" stroke=\"black\" points=\"386.79,-391.25 386.79,-413.75 491.79,-413.75 491.79,-391.25 386.79,-391.25\"/>\n",
       "<text text-anchor=\"start\" x=\"425.04\" y=\"-397.45\" font-family=\"Times,serif\" font-size=\"14.00\">Total</text>\n",
       "<polygon fill=\"none\" stroke=\"black\" points=\"385.79,-390.25 385.79,-619.5 492.79,-619.5 492.79,-390.25 385.79,-390.25\"/>\n",
       "</g>\n",
       "<!-- Invoice&#45;&gt;Customer -->\n",
       "<g id=\"edge4\" class=\"edge\">\n",
       "<title>Invoice:CustomerId&#45;&gt;Customer:CustomerId</title>\n",
       "<path fill=\"none\" stroke=\"black\" d=\"M492.79,-560C626.19,-560 576.78,-766.42 699.83,-778.11\"/>\n",
       "<polygon fill=\"black\" stroke=\"black\" points=\"699.37,-781.59 709.52,-778.56 699.7,-774.6 699.37,-781.59\"/>\n",
       "</g>\n",
       "<!-- InvoiceLine -->\n",
       "<g id=\"node7\" class=\"node\">\n",
       "<title>InvoiceLine</title>\n",
       "<polygon fill=\"lightgray\" stroke=\"none\" points=\"70.04,-460 70.04,-482.5 170.54,-482.5 170.54,-460 70.04,-460\"/>\n",
       "<polygon fill=\"none\" stroke=\"black\" points=\"70.04,-460 70.04,-482.5 170.54,-482.5 170.54,-460 70.04,-460\"/>\n",
       "<text text-anchor=\"start\" x=\"87.66\" y=\"-466.2\" font-family=\"Times,serif\" font-size=\"14.00\">InvoiceLine</text>\n",
       "<polygon fill=\"#ffebcd\" stroke=\"none\" points=\"70.04,-435.25 70.04,-460 170.54,-460 170.54,-435.25 70.04,-435.25\"/>\n",
       "<polygon fill=\"none\" stroke=\"black\" points=\"70.04,-435.25 70.04,-460 170.54,-460 170.54,-435.25 70.04,-435.25\"/>\n",
       "<text text-anchor=\"start\" x=\"73.04\" y=\"-443.7\" font-family=\"Times,serif\" font-size=\"14.00\">InvoiceLineId 🔑</text>\n",
       "<polygon fill=\"none\" stroke=\"black\" points=\"70.04,-412.75 70.04,-435.25 170.54,-435.25 170.54,-412.75 70.04,-412.75\"/>\n",
       "<text text-anchor=\"start\" x=\"94.41\" y=\"-418.95\" font-family=\"Times,serif\" font-size=\"14.00\">InvoiceId</text>\n",
       "<polygon fill=\"none\" stroke=\"black\" points=\"70.04,-390.25 70.04,-412.75 170.54,-412.75 170.54,-390.25 70.04,-390.25\"/>\n",
       "<text text-anchor=\"start\" x=\"98.91\" y=\"-396.45\" font-family=\"Times,serif\" font-size=\"14.00\">TrackId</text>\n",
       "<polygon fill=\"none\" stroke=\"black\" points=\"70.04,-367.75 70.04,-390.25 170.54,-390.25 170.54,-367.75 70.04,-367.75\"/>\n",
       "<text text-anchor=\"start\" x=\"94.41\" y=\"-373.95\" font-family=\"Times,serif\" font-size=\"14.00\">UnitPrice</text>\n",
       "<polygon fill=\"none\" stroke=\"black\" points=\"70.04,-345.25 70.04,-367.75 170.54,-367.75 170.54,-345.25 70.04,-345.25\"/>\n",
       "<text text-anchor=\"start\" x=\"96.66\" y=\"-351.45\" font-family=\"Times,serif\" font-size=\"14.00\">Quantity</text>\n",
       "<polygon fill=\"none\" stroke=\"black\" points=\"69.04,-344.25 69.04,-483.5 171.54,-483.5 171.54,-344.25 69.04,-344.25\"/>\n",
       "</g>\n",
       "<!-- InvoiceLine&#45;&gt;Invoice -->\n",
       "<g id=\"edge6\" class=\"edge\">\n",
       "<title>InvoiceLine:InvoiceId&#45;&gt;Invoice:InvoiceId</title>\n",
       "<path fill=\"none\" stroke=\"black\" d=\"M171.54,-424C286.34,-424 268.43,-573.2 374.42,-583.11\"/>\n",
       "<polygon fill=\"black\" stroke=\"black\" points=\"374.13,-586.6 384.27,-583.56 374.44,-579.61 374.13,-586.6\"/>\n",
       "</g>\n",
       "<!-- Track -->\n",
       "<g id=\"node11\" class=\"node\">\n",
       "<title>Track</title>\n",
       "<polygon fill=\"lightgray\" stroke=\"none\" points=\"399.16,-308 399.16,-330.5 479.41,-330.5 479.41,-308 399.16,-308\"/>\n",
       "<polygon fill=\"none\" stroke=\"black\" points=\"399.16,-308 399.16,-330.5 479.41,-330.5 479.41,-308 399.16,-308\"/>\n",
       "<text text-anchor=\"start\" x=\"423.54\" y=\"-314.2\" font-family=\"Times,serif\" font-size=\"14.00\">Track</text>\n",
       "<polygon fill=\"#ffebcd\" stroke=\"none\" points=\"399.16,-283.25 399.16,-308 479.41,-308 479.41,-283.25 399.16,-283.25\"/>\n",
       "<polygon fill=\"none\" stroke=\"black\" points=\"399.16,-283.25 399.16,-308 479.41,-308 479.41,-283.25 399.16,-283.25\"/>\n",
       "<text text-anchor=\"start\" x=\"408.91\" y=\"-291.7\" font-family=\"Times,serif\" font-size=\"14.00\">TrackId 🔑</text>\n",
       "<polygon fill=\"none\" stroke=\"black\" points=\"399.16,-260.75 399.16,-283.25 479.41,-283.25 479.41,-260.75 399.16,-260.75\"/>\n",
       "<text text-anchor=\"start\" x=\"422.79\" y=\"-266.95\" font-family=\"Times,serif\" font-size=\"14.00\">Name</text>\n",
       "<polygon fill=\"none\" stroke=\"black\" points=\"399.16,-238.25 399.16,-260.75 479.41,-260.75 479.41,-238.25 399.16,-238.25\"/>\n",
       "<text text-anchor=\"start\" x=\"414.54\" y=\"-244.45\" font-family=\"Times,serif\" font-size=\"14.00\">AlbumId</text>\n",
       "<polygon fill=\"none\" stroke=\"black\" points=\"399.16,-215.75 399.16,-238.25 479.41,-238.25 479.41,-215.75 399.16,-215.75\"/>\n",
       "<text text-anchor=\"start\" x=\"402.16\" y=\"-221.95\" font-family=\"Times,serif\" font-size=\"14.00\">MediaTypeId</text>\n",
       "<polygon fill=\"none\" stroke=\"black\" points=\"399.16,-193.25 399.16,-215.75 479.41,-215.75 479.41,-193.25 399.16,-193.25\"/>\n",
       "<text text-anchor=\"start\" x=\"417.16\" y=\"-199.45\" font-family=\"Times,serif\" font-size=\"14.00\">GenreId</text>\n",
       "<polygon fill=\"none\" stroke=\"black\" points=\"399.16,-170.75 399.16,-193.25 479.41,-193.25 479.41,-170.75 399.16,-170.75\"/>\n",
       "<text text-anchor=\"start\" x=\"411.16\" y=\"-176.95\" font-family=\"Times,serif\" font-size=\"14.00\">Composer</text>\n",
       "<polygon fill=\"none\" stroke=\"black\" points=\"399.16,-148.25 399.16,-170.75 479.41,-170.75 479.41,-148.25 399.16,-148.25\"/>\n",
       "<text text-anchor=\"start\" x=\"404.04\" y=\"-154.45\" font-family=\"Times,serif\" font-size=\"14.00\">Milliseconds</text>\n",
       "<polygon fill=\"none\" stroke=\"black\" points=\"399.16,-125.75 399.16,-148.25 479.41,-148.25 479.41,-125.75 399.16,-125.75\"/>\n",
       "<text text-anchor=\"start\" x=\"423.91\" y=\"-131.95\" font-family=\"Times,serif\" font-size=\"14.00\">Bytes</text>\n",
       "<polygon fill=\"none\" stroke=\"black\" points=\"399.16,-103.25 399.16,-125.75 479.41,-125.75 479.41,-103.25 399.16,-103.25\"/>\n",
       "<text text-anchor=\"start\" x=\"413.41\" y=\"-109.45\" font-family=\"Times,serif\" font-size=\"14.00\">UnitPrice</text>\n",
       "<polygon fill=\"none\" stroke=\"black\" points=\"398.16,-102.25 398.16,-331.5 480.41,-331.5 480.41,-102.25 398.16,-102.25\"/>\n",
       "</g>\n",
       "<!-- InvoiceLine&#45;&gt;Track -->\n",
       "<g id=\"edge5\" class=\"edge\">\n",
       "<title>InvoiceLine:TrackId&#45;&gt;Track:TrackId</title>\n",
       "<path fill=\"none\" stroke=\"black\" d=\"M171.54,-401.5C278.8,-401.5 286.56,-302.94 386.82,-296.01\"/>\n",
       "<polygon fill=\"black\" stroke=\"black\" points=\"386.77,-299.51 396.65,-295.68 386.54,-292.52 386.77,-299.51\"/>\n",
       "</g>\n",
       "<!-- MediaType -->\n",
       "<g id=\"node8\" class=\"node\">\n",
       "<title>MediaType</title>\n",
       "<polygon fill=\"lightgray\" stroke=\"none\" points=\"707.16,-190.25 707.16,-212.75 805.41,-212.75 805.41,-190.25 707.16,-190.25\"/>\n",
       "<polygon fill=\"none\" stroke=\"black\" points=\"707.16,-190.25 707.16,-212.75 805.41,-212.75 805.41,-190.25 707.16,-190.25\"/>\n",
       "<text text-anchor=\"start\" x=\"724.79\" y=\"-196.45\" font-family=\"Times,serif\" font-size=\"14.00\">MediaType</text>\n",
       "<polygon fill=\"#ffebcd\" stroke=\"none\" points=\"707.16,-165.5 707.16,-190.25 805.41,-190.25 805.41,-165.5 707.16,-165.5\"/>\n",
       "<polygon fill=\"none\" stroke=\"black\" points=\"707.16,-165.5 707.16,-190.25 805.41,-190.25 805.41,-165.5 707.16,-165.5\"/>\n",
       "<text text-anchor=\"start\" x=\"710.16\" y=\"-173.95\" font-family=\"Times,serif\" font-size=\"14.00\">MediaTypeId 🔑</text>\n",
       "<polygon fill=\"none\" stroke=\"black\" points=\"707.16,-143 707.16,-165.5 805.41,-165.5 805.41,-143 707.16,-143\"/>\n",
       "<text text-anchor=\"start\" x=\"739.79\" y=\"-149.2\" font-family=\"Times,serif\" font-size=\"14.00\">Name</text>\n",
       "<polygon fill=\"none\" stroke=\"black\" points=\"706.16,-142 706.16,-213.75 806.41,-213.75 806.41,-142 706.16,-142\"/>\n",
       "</g>\n",
       "<!-- Playlist -->\n",
       "<g id=\"node9\" class=\"node\">\n",
       "<title>Playlist</title>\n",
       "<polygon fill=\"lightgray\" stroke=\"none\" points=\"401.41,-52.25 401.41,-74.75 477.16,-74.75 477.16,-52.25 401.41,-52.25\"/>\n",
       "<polygon fill=\"none\" stroke=\"black\" points=\"401.41,-52.25 401.41,-74.75 477.16,-74.75 477.16,-52.25 401.41,-52.25\"/>\n",
       "<text text-anchor=\"start\" x=\"419.04\" y=\"-58.45\" font-family=\"Times,serif\" font-size=\"14.00\">Playlist</text>\n",
       "<polygon fill=\"#ffebcd\" stroke=\"none\" points=\"401.41,-27.5 401.41,-52.25 477.16,-52.25 477.16,-27.5 401.41,-27.5\"/>\n",
       "<polygon fill=\"none\" stroke=\"black\" points=\"401.41,-27.5 401.41,-52.25 477.16,-52.25 477.16,-27.5 401.41,-27.5\"/>\n",
       "<text text-anchor=\"start\" x=\"404.41\" y=\"-35.95\" font-family=\"Times,serif\" font-size=\"14.00\">PlaylistId 🔑</text>\n",
       "<polygon fill=\"none\" stroke=\"black\" points=\"401.41,-5 401.41,-27.5 477.16,-27.5 477.16,-5 401.41,-5\"/>\n",
       "<text text-anchor=\"start\" x=\"422.79\" y=\"-11.2\" font-family=\"Times,serif\" font-size=\"14.00\">Name</text>\n",
       "<polygon fill=\"none\" stroke=\"black\" points=\"400.41,-4 400.41,-75.75 478.16,-75.75 478.16,-4 400.41,-4\"/>\n",
       "</g>\n",
       "<!-- PlaylistTrack -->\n",
       "<g id=\"node10\" class=\"node\">\n",
       "<title>PlaylistTrack</title>\n",
       "<polygon fill=\"lightgray\" stroke=\"none\" points=\"81.29,-226.38 81.29,-248.88 159.29,-248.88 159.29,-226.38 81.29,-226.38\"/>\n",
       "<polygon fill=\"none\" stroke=\"black\" points=\"81.29,-226.38 81.29,-248.88 159.29,-248.88 159.29,-226.38 81.29,-226.38\"/>\n",
       "<text text-anchor=\"start\" x=\"84.29\" y=\"-232.57\" font-family=\"Times,serif\" font-size=\"14.00\">PlaylistTrack</text>\n",
       "<polygon fill=\"#ffebcd\" stroke=\"none\" points=\"81.29,-201.62 81.29,-226.38 159.29,-226.38 159.29,-201.62 81.29,-201.62\"/>\n",
       "<polygon fill=\"none\" stroke=\"black\" points=\"81.29,-201.62 81.29,-226.38 159.29,-226.38 159.29,-201.62 81.29,-201.62\"/>\n",
       "<text text-anchor=\"start\" x=\"85.41\" y=\"-210.07\" font-family=\"Times,serif\" font-size=\"14.00\">PlaylistId 🔑</text>\n",
       "<polygon fill=\"#ffebcd\" stroke=\"none\" points=\"81.29,-176.88 81.29,-201.62 159.29,-201.62 159.29,-176.88 81.29,-176.88\"/>\n",
       "<polygon fill=\"none\" stroke=\"black\" points=\"81.29,-176.88 81.29,-201.62 159.29,-201.62 159.29,-176.88 81.29,-176.88\"/>\n",
       "<text text-anchor=\"start\" x=\"89.91\" y=\"-185.32\" font-family=\"Times,serif\" font-size=\"14.00\">TrackId 🔑</text>\n",
       "<polygon fill=\"none\" stroke=\"black\" points=\"80.29,-175.88 80.29,-249.88 160.29,-249.88 160.29,-175.88 80.29,-175.88\"/>\n",
       "</g>\n",
       "<!-- PlaylistTrack&#45;&gt;Playlist -->\n",
       "<g id=\"edge8\" class=\"edge\">\n",
       "<title>PlaylistTrack:PlaylistId&#45;&gt;Playlist:PlaylistId</title>\n",
       "<path fill=\"none\" stroke=\"black\" d=\"M160.29,-214C288.25,-214 269.83,-49.93 389.22,-40.31\"/>\n",
       "<polygon fill=\"black\" stroke=\"black\" points=\"389.04,-43.82 398.9,-39.93 388.77,-36.83 389.04,-43.82\"/>\n",
       "</g>\n",
       "<!-- PlaylistTrack&#45;&gt;Track -->\n",
       "<g id=\"edge7\" class=\"edge\">\n",
       "<title>PlaylistTrack:TrackId&#45;&gt;Track:TrackId</title>\n",
       "<path fill=\"none\" stroke=\"black\" d=\"M160.29,-189.25C272.14,-189.25 281.79,-288.48 386.66,-295.26\"/>\n",
       "<polygon fill=\"black\" stroke=\"black\" points=\"386.54,-298.76 396.65,-295.58 386.76,-291.76 386.54,-298.76\"/>\n",
       "</g>\n",
       "<!-- Track&#45;&gt;Album -->\n",
       "<g id=\"edge11\" class=\"edge\">\n",
       "<title>Track:AlbumId&#45;&gt;Album:AlbumId</title>\n",
       "<path fill=\"none\" stroke=\"black\" d=\"M480.41,-249.5C584.53,-249.5 608.81,-294.67 707.16,-297.94\"/>\n",
       "<polygon fill=\"black\" stroke=\"black\" points=\"706.97,-301.44 717.02,-298.1 707.08,-294.44 706.97,-301.44\"/>\n",
       "</g>\n",
       "<!-- Track&#45;&gt;Genre -->\n",
       "<g id=\"edge10\" class=\"edge\">\n",
       "<title>Track:GenreId&#45;&gt;Genre:GenreId</title>\n",
       "<path fill=\"none\" stroke=\"black\" d=\"M480.41,-204.5C597.01,-204.5 600.56,-87.78 709.88,-80.25\"/>\n",
       "<polygon fill=\"black\" stroke=\"black\" points=\"709.77,-83.76 719.65,-79.93 709.54,-76.76 709.77,-83.76\"/>\n",
       "</g>\n",
       "<!-- Track&#45;&gt;MediaType -->\n",
       "<g id=\"edge9\" class=\"edge\">\n",
       "<title>Track:MediaTypeId&#45;&gt;MediaType:MediaTypeId</title>\n",
       "<path fill=\"none\" stroke=\"black\" d=\"M480.41,-227C579.18,-227 601.81,-181.55 694.78,-178.08\"/>\n",
       "<polygon fill=\"black\" stroke=\"black\" points=\"694.71,-181.59 704.65,-177.9 694.59,-174.59 694.71,-181.59\"/>\n",
       "</g>\n",
       "</g>\n",
       "</svg>\n"
      ],
      "text/plain": [
       "<graphviz.sources.Source>"
      ]
     },
     "execution_count": null,
     "metadata": {},
     "output_type": "execute_result"
    }
   ],
   "source": [
    "diagram(db.tables)"
   ]
  },
  {
   "cell_type": "markdown",
   "metadata": {},
   "source": [
    "## export -"
   ]
  },
  {
   "cell_type": "code",
   "execution_count": null,
   "metadata": {},
   "outputs": [],
   "source": [
    "#| hide\n",
    "import nbdev; nbdev.nbdev_export()"
   ]
  },
  {
   "cell_type": "code",
   "execution_count": null,
   "metadata": {},
   "outputs": [],
   "source": []
  }
 ],
 "metadata": {
  "kernelspec": {
   "display_name": "python3",
   "language": "python",
   "name": "python3"
  }
 },
 "nbformat": 4,
 "nbformat_minor": 4
}
