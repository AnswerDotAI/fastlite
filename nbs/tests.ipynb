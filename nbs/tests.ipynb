{
 "cells": [
  {
   "cell_type": "code",
   "execution_count": 1,
   "id": "96e50ab9",
   "metadata": {},
   "outputs": [],
   "source": [
    "from fastlite import *"
   ]
  },
  {
   "cell_type": "code",
   "execution_count": 2,
   "id": "3e38af20",
   "metadata": {},
   "outputs": [],
   "source": [
    "db = database(':memory:')"
   ]
  },
  {
   "cell_type": "code",
   "execution_count": 3,
   "id": "bfccdd66",
   "metadata": {},
   "outputs": [],
   "source": [
    "class Cat: id: int; name: str\n",
    "cats = db.create(Cat, transform=True)"
   ]
  },
  {
   "cell_type": "code",
   "execution_count": 4,
   "id": "a205aab8",
   "metadata": {},
   "outputs": [
    {
     "ename": "TypeError",
     "evalue": "'NoneType' object is not iterable",
     "output_type": "error",
     "traceback": [
      "\u001b[0;31m---------------------------------------------------------------------------\u001b[0m",
      "\u001b[0;31mTypeError\u001b[0m                                 Traceback (most recent call last)",
      "Cell \u001b[0;32mIn[4], line 1\u001b[0m\n\u001b[0;32m----> 1\u001b[0m cat \u001b[38;5;241m=\u001b[39m \u001b[43mcats\u001b[49m\u001b[38;5;241;43m.\u001b[39;49m\u001b[43minsert\u001b[49m\u001b[43m(\u001b[49m\u001b[43mname\u001b[49m\u001b[38;5;241;43m=\u001b[39;49m\u001b[38;5;124;43m'\u001b[39;49m\u001b[38;5;124;43mmeow\u001b[39;49m\u001b[38;5;124;43m'\u001b[39;49m\u001b[43m)\u001b[49m\n",
      "File \u001b[0;32m~/answer/fastlite/fastlite/kw.py:282\u001b[0m, in \u001b[0;36minsert\u001b[0;34m(self, record, pk, foreign_keys, column_order, not_null, defaults, hash_id, hash_id_columns, alter, ignore, replace, extracts, conversions, columns, upsert, analyze, strict, **kwargs)\u001b[0m\n\u001b[1;32m    280\u001b[0m \u001b[38;5;66;03m# Execute and transform into a dict called 'row'\u001b[39;00m\n\u001b[1;32m    281\u001b[0m cursor \u001b[38;5;241m=\u001b[39m \u001b[38;5;28mself\u001b[39m\u001b[38;5;241m.\u001b[39mdb\u001b[38;5;241m.\u001b[39mexecute(query, \u001b[38;5;28mtuple\u001b[39m(params))\n\u001b[0;32m--> 282\u001b[0m columns \u001b[38;5;241m=\u001b[39m [c[\u001b[38;5;241m0\u001b[39m] \u001b[38;5;28;01mfor\u001b[39;00m c \u001b[38;5;129;01min\u001b[39;00m cursor\u001b[38;5;241m.\u001b[39mdescription]\n\u001b[1;32m    283\u001b[0m row \u001b[38;5;241m=\u001b[39m \u001b[38;5;28mdict\u001b[39m(\u001b[38;5;28mzip\u001b[39m(columns, cursor\u001b[38;5;241m.\u001b[39mfetchone())) \n\u001b[1;32m    285\u001b[0m \u001b[38;5;66;03m# Preserve old self.last_pk functionality\u001b[39;00m\n",
      "\u001b[0;31mTypeError\u001b[0m: 'NoneType' object is not iterable"
     ]
    }
   ],
   "source": [
    "cat = cats.insert(name='meow')"
   ]
  },
  {
   "cell_type": "code",
   "execution_count": null,
   "id": "9f12f93b",
   "metadata": {},
   "outputs": [],
   "source": [
    "cat"
   ]
  },
  {
   "cell_type": "code",
   "execution_count": null,
   "id": "0aca51b2",
   "metadata": {},
   "outputs": [],
   "source": [
    "cats()"
   ]
  },
  {
   "cell_type": "code",
   "execution_count": null,
   "id": "cc5f9db0",
   "metadata": {},
   "outputs": [],
   "source": []
  }
 ],
 "metadata": {
  "kernelspec": {
   "display_name": "Python 3 (ipykernel)",
   "language": "python",
   "name": "python3"
  },
  "language_info": {
   "codemirror_mode": {
    "name": "ipython",
    "version": 3
   },
   "file_extension": ".py",
   "mimetype": "text/x-python",
   "name": "python",
   "nbconvert_exporter": "python",
   "pygments_lexer": "ipython3",
   "version": "3.12.6"
  }
 },
 "nbformat": 4,
 "nbformat_minor": 5
}
