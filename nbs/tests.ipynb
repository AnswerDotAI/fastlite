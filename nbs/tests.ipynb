{
 "cells": [
  {
   "cell_type": "code",
   "execution_count": null,
   "id": "96e50ab9",
   "metadata": {},
   "outputs": [],
   "source": [
    "from fastlite import *"
   ]
  },
  {
   "cell_type": "code",
   "execution_count": null,
   "id": "3e38af20",
   "metadata": {},
   "outputs": [],
   "source": [
    "db = database(':memory')"
   ]
  },
  {
   "cell_type": "code",
   "execution_count": null,
   "id": "bfccdd66",
   "metadata": {},
   "outputs": [],
   "source": [
    "class Cat: id: int; name: str\n",
    "cats = db.create(Cat, transform=True)"
   ]
  },
  {
   "cell_type": "code",
   "execution_count": null,
   "id": "a205aab8",
   "metadata": {},
   "outputs": [],
   "source": [
    "cat = cats.insert2(name='meow')"
   ]
  },
  {
   "cell_type": "code",
   "execution_count": null,
   "id": "9f12f93b",
   "metadata": {},
   "outputs": [
    {
     "data": {
      "text/plain": [
       "Cat(id=1, name='meow')"
      ]
     },
     "execution_count": null,
     "metadata": {},
     "output_type": "execute_result"
    }
   ],
   "source": [
    "cat"
   ]
  },
  {
   "cell_type": "code",
   "execution_count": null,
   "id": "0aca51b2",
   "metadata": {},
   "outputs": [
    {
     "data": {
      "text/plain": [
       "[Cat(id=1, name='meow')]"
      ]
     },
     "execution_count": null,
     "metadata": {},
     "output_type": "execute_result"
    }
   ],
   "source": [
    "cats()"
   ]
  },
  {
   "cell_type": "code",
   "execution_count": null,
   "id": "cc5f9db0",
   "metadata": {},
   "outputs": [],
   "source": []
  }
 ],
 "metadata": {
  "kernelspec": {
   "display_name": "python3",
   "language": "python",
   "name": "python3"
  }
 },
 "nbformat": 4,
 "nbformat_minor": 5
}
