{
 "cells": [
  {
   "cell_type": "code",
   "execution_count": null,
   "id": "2e17d196",
   "metadata": {},
   "outputs": [],
   "source": [
    "#| default_exp kw"
   ]
  },
  {
   "cell_type": "markdown",
   "id": "4f9afbea",
   "metadata": {},
   "source": [
    "# Source\n",
    "\n",
    "> Source code for fastlite.kw"
   ]
  },
  {
   "cell_type": "code",
   "execution_count": null,
   "id": "2049afc7",
   "metadata": {},
   "outputs": [],
   "source": [
    "#| export\n",
    "from dataclasses import MISSING\n",
    "from typing import Any,Union,Tuple,List,Iterable\n",
    "from fastcore.utils import *\n",
    "from sqlite_minutils.db import Database,Table,DEFAULT,ForeignKeysType,Default,Queryable,NotFoundError\n",
    "from enum import Enum"
   ]
  },
  {
   "cell_type": "code",
   "execution_count": null,
   "id": "92c7d315",
   "metadata": {},
   "outputs": [],
   "source": [
    "#| export\n",
    "opt_bool = Union[bool, Default, None]"
   ]
  },
  {
   "cell_type": "code",
   "execution_count": null,
   "id": "5f223207",
   "metadata": {},
   "outputs": [],
   "source": [
    "#| export\n",
    "def database(path, wal=True)->Any:\n",
    "    path = Path(path)\n",
    "    path.parent.mkdir(exist_ok=True)\n",
    "    db = Database(path)\n",
    "    if wal: db.enable_wal()\n",
    "    return db"
   ]
  },
  {
   "cell_type": "code",
   "execution_count": null,
   "id": "acb9c5a4",
   "metadata": {},
   "outputs": [],
   "source": [
    "#| export\n",
    "@patch\n",
    "def xtra(self:Table, **kwargs):\n",
    "    \"Set `xtra_id`\"\n",
    "    self.xtra_id = kwargs"
   ]
  },
  {
   "cell_type": "code",
   "execution_count": null,
   "id": "925e27dc",
   "metadata": {},
   "outputs": [],
   "source": [
    "#| export\n",
    "@patch\n",
    "def get_last(self:Table, as_cls:bool=True):\n",
    "    assert self.last_rowid is not None\n",
    "    row = first(self.rows_where('_rowid_=?', (self.last_rowid,)))\n",
    "    assert row, f\"Couldn't find {self.last_rowid}\"\n",
    "    vals = [row[pk] for pk in self.pks]\n",
    "    self.last_pk = vals[0] if len(vals)==1 else vals\n",
    "    if as_cls and hasattr(self,'cls'): row = self.cls(**row)\n",
    "    return row"
   ]
  },
  {
   "cell_type": "code",
   "execution_count": null,
   "id": "3fced609",
   "metadata": {},
   "outputs": [],
   "source": [
    "#| export\n",
    "@patch\n",
    "def ids_and_rows_where(\n",
    "    self:Table,\n",
    "    where: Optional[str] = None, # SQL where fragment to use, for example ``id > ?``\n",
    "    where_args: Optional[Union[Iterable, dict]] = None, # Parameters to use with that fragment\n",
    "    order_by: Optional[str] = None, # Column or fragment of SQL to order by\n",
    "    limit: Optional[int] = None, # Number of rows to limit to\n",
    "    offset: Optional[int] = None, # SQL offset\n",
    "    select: str = '*', # Comma-separated list of columns to select - defaults to ``*``\n",
    ") -> Generator[Tuple[Any, Dict], None, None]:\n",
    "    \"Like `.rows_where()` but returns `(rowid, row)` pairs.\"\n",
    "    #cs = [c.name for c in self.columns]\n",
    "    #select = \",\".join(\"[{}]\".format(c) for c in cs)\n",
    "    select = \"_rowid_ as __rid, \" + select\n",
    "    for row in self.rows_where(select=select, where=where, where_args=where_args, order_by=order_by, limit=limit, offset=offset):\n",
    "        yield row.pop('__rid'), row"
   ]
  },
  {
   "cell_type": "code",
   "execution_count": null,
   "id": "21dd2a3f",
   "metadata": {},
   "outputs": [],
   "source": [
    "#| export\n",
    "@patch\n",
    "def get(self:Table, pk_values: list|tuple|str|int, as_cls:bool=True, xtra:dict|None=None)->Any:\n",
    "    if not isinstance(pk_values, (list, tuple)): pk_values = [pk_values]\n",
    "    last_pk = pk_values[0] if len(self.pks) == 1 else pk_values\n",
    "    if not xtra: xtra = getattr(self, 'xtra_id', {})\n",
    "    vals = list(pk_values) + list(xtra.values())\n",
    "    pks = self.pks + list(xtra.keys())\n",
    "    if len(pks)!=len(vals): raise NotFoundError(f\"Need {len(pks)} pk\")\n",
    "    wheres = [\"[{}] = ?\".format(pk_name) for pk_name in pks]\n",
    "    item = first(self.ids_and_rows_where(\" and \".join(wheres), vals))\n",
    "    if not item: raise NotFoundError\n",
    "    rid,row = item\n",
    "    self.last_pk,self.last_rowid = last_pk,rid\n",
    "    if as_cls and hasattr(self,'cls'): row = self.cls(**row)\n",
    "    return row"
   ]
  },
  {
   "cell_type": "code",
   "execution_count": null,
   "id": "ad0492b9",
   "metadata": {},
   "outputs": [],
   "source": [
    "#| export\n",
    "@patch\n",
    "def __getitem__(self:Table, pk_values): return self.get(pk_values)"
   ]
  },
  {
   "cell_type": "code",
   "execution_count": null,
   "id": "aeed9a12",
   "metadata": {},
   "outputs": [],
   "source": [
    "#| export\n",
    "@patch\n",
    "def create(\n",
    "    self:Table,\n",
    "    columns: Dict[str, Any]=None, pk: Any=None, foreign_keys=None,\n",
    "    column_order: List[str]|None=None, not_null: Iterable[str]|None=None, defaults: Dict[str, Any]|None=None,\n",
    "    hash_id: str|None=None, hash_id_columns: Iterable[str]|None=None,\n",
    "    extracts: Union[Dict[str, str], List[str], NoneType]=None,\n",
    "    if_not_exists: bool = False, replace: bool = False, ignore: bool = False,\n",
    "    transform: bool = False, strict: bool = False,\n",
    "    **kwargs):\n",
    "    if not columns: columns={}\n",
    "    columns = {**columns, **kwargs}\n",
    "    return self._orig_create(\n",
    "        columns, pk=pk, foreign_keys=foreign_keys, column_order=column_order, not_null=not_null,\n",
    "        defaults=defaults, hash_id=hash_id, hash_id_columns=hash_id_columns, extracts=extracts,\n",
    "        if_not_exists=if_not_exists, replace=replace, ignore=ignore, transform=transform, strict=strict)"
   ]
  },
  {
   "cell_type": "code",
   "execution_count": null,
   "id": "ef8f8449",
   "metadata": {},
   "outputs": [],
   "source": [
    "#| export\n",
    "@patch\n",
    "def transform(\n",
    "    self:Table, *,\n",
    "    types: dict|None=None, rename: dict|None=None, drop: Iterable|None=None, pk: Any|None=DEFAULT,\n",
    "    not_null: Iterable[str]|None=None, defaults: Dict[str, Any]|None=None,\n",
    "    drop_foreign_keys: Iterable[str]|None=None, add_foreign_keys: ForeignKeysType|None=None,\n",
    "    foreign_keys: ForeignKeysType|None=None,\n",
    "    column_order: List[str]|None=None, keep_table: str|None=None,\n",
    "    **kwargs) -> Table:\n",
    "    if not types: types={}\n",
    "    types = {**types, **kwargs}\n",
    "    return self._orig_transform(\n",
    "            types=types, rename=rename, drop=drop, pk=pk, not_null=not_null, defaults=defaults,\n",
    "            drop_foreign_keys=drop_foreign_keys, add_foreign_keys=add_foreign_keys, foreign_keys=foreign_keys,\n",
    "            column_order=column_order, keep_table=keep_table)"
   ]
  },
  {
   "cell_type": "code",
   "execution_count": null,
   "id": "e8c0e810",
   "metadata": {},
   "outputs": [],
   "source": [
    "#| export\n",
    "@patch\n",
    "def transform_sql(\n",
    "    self:Table, *,\n",
    "    types: dict|None=None, rename: dict|None=None, drop: Iterable|None=None, pk: Any|None=DEFAULT,\n",
    "    not_null: Iterable[str]|None=None, defaults: Dict[str, Any]|None=None,\n",
    "    drop_foreign_keys: Iterable[str]|None=None, add_foreign_keys: ForeignKeysType|None=None,\n",
    "    foreign_keys: ForeignKeysType|None=None,\n",
    "    column_order: List[str]|None=None, keep_table: str|None=None,\n",
    "    **kwargs) -> List[str]:\n",
    "    if not types: types={}\n",
    "    types = {**types, **kwargs}\n",
    "    return self._orig_transform_sql(\n",
    "            types=types, rename=rename, drop=drop, pk=pk, not_null=not_null, defaults=defaults,\n",
    "            drop_foreign_keys=drop_foreign_keys, add_foreign_keys=add_foreign_keys, foreign_keys=foreign_keys,\n",
    "            column_order=column_order, keep_table=keep_table)"
   ]
  },
  {
   "cell_type": "code",
   "execution_count": null,
   "id": "e3880752",
   "metadata": {},
   "outputs": [],
   "source": [
    "#| export\n",
    "def _process_row(row): return {k:(v.value if isinstance(v, Enum) else v) for k,v in asdict(row).items() if v is not UNSET}"
   ]
  },
  {
   "cell_type": "code",
   "execution_count": null,
   "id": "cb22b6d7",
   "metadata": {},
   "outputs": [],
   "source": [
    "#| export\n",
    "@patch\n",
    "def update(self:Table, updates: dict|None=None, pk_values: list|tuple|str|int|float|None=None,\n",
    "           alter: bool=False, conversions: dict|None=None, xtra:dict|None=None, **kwargs):\n",
    "    if not updates: updates={}\n",
    "    updates = _process_row(updates)\n",
    "    if not xtra: xtra = getattr(self, 'xtra_id', {})\n",
    "    updates = {**updates, **kwargs, **xtra}\n",
    "    if pk_values is None: pk_values = [updates[o] for o in self.pks]\n",
    "    self._orig_update(pk_values, updates=updates, alter=alter, conversions=conversions)\n",
    "    return self.get_last()"
   ]
  },
  {
   "cell_type": "code",
   "execution_count": null,
   "id": "e4243ad1",
   "metadata": {},
   "outputs": [],
   "source": [
    "#| export\n",
    "@patch\n",
    "def insert_all(\n",
    "    self:Table,\n",
    "    records: Dict[str, Any]=None, pk=DEFAULT, foreign_keys=DEFAULT,\n",
    "    column_order: Union[List[str], Default, None]=DEFAULT,\n",
    "    not_null: Union[Iterable[str], Default, None]=DEFAULT,\n",
    "    defaults: Union[Dict[str, Any], Default, None]=DEFAULT,\n",
    "    batch_size=DEFAULT,\n",
    "    hash_id: Union[str, Default, None]=DEFAULT,\n",
    "    hash_id_columns: Union[Iterable[str], Default, None]=DEFAULT,\n",
    "    alter: opt_bool=DEFAULT, ignore: opt_bool=DEFAULT, replace: opt_bool=DEFAULT, truncate=False,\n",
    "    extracts: Union[Dict[str, str], List[str], Default, None]=DEFAULT,\n",
    "    conversions: Union[Dict[str, str], Default, None]=DEFAULT,\n",
    "    columns: Union[Dict[str, Any], Default, None]=DEFAULT,\n",
    "    strict: opt_bool=DEFAULT,\n",
    "    upsert:bool=False, analyze:bool=False, xtra:dict|None=None,\n",
    "    **kwargs) -> Table:\n",
    "    if not xtra: xtra = getattr(self,'xtra_id',{})\n",
    "    records = [_process_row(o) for o in records]\n",
    "    records = [{**o, **xtra} for o in records]\n",
    "    return self._orig_insert_all(\n",
    "        records=records, pk=pk, foreign_keys=foreign_keys, column_order=column_order, not_null=not_null,\n",
    "        defaults=defaults, batch_size=batch_size, hash_id=hash_id, hash_id_columns=hash_id_columns, alter=alter,\n",
    "        ignore=ignore, replace=replace, truncate=truncate, extracts=extracts, conversions=conversions,\n",
    "        columns=columns, strict=strict, upsert=upsert, analyze=analyze)"
   ]
  },
  {
   "cell_type": "code",
   "execution_count": null,
   "id": "54f14ce9",
   "metadata": {},
   "outputs": [],
   "source": [
    "#| export\n",
    "@patch\n",
    "def insert(\n",
    "    self:Table,\n",
    "    record: Dict[str, Any]=None, pk=DEFAULT, foreign_keys=DEFAULT,\n",
    "    column_order: Union[List[str], Default, None]=DEFAULT,\n",
    "    not_null: Union[Iterable[str], Default, None]=DEFAULT,\n",
    "    defaults: Union[Dict[str, Any], Default, None]=DEFAULT,\n",
    "    hash_id: Union[str, Default, None]=DEFAULT,\n",
    "    hash_id_columns: Union[Iterable[str], Default, None]=DEFAULT,\n",
    "    alter: opt_bool=DEFAULT,\n",
    "    ignore: opt_bool=DEFAULT,\n",
    "    replace: opt_bool=DEFAULT,\n",
    "    extracts: Union[Dict[str, str], List[str], Default, None]=DEFAULT,\n",
    "    conversions: Union[Dict[str, str], Default, None]=DEFAULT,\n",
    "    columns: Union[Dict[str, Any], Default, None]=DEFAULT,\n",
    "    strict: opt_bool=DEFAULT,\n",
    "    **kwargs) -> Table:\n",
    "    if not record: record={}\n",
    "    record = _process_row(record)\n",
    "    record = {**record, **kwargs}\n",
    "    self._orig_insert(\n",
    "        record=record, pk=pk, foreign_keys=foreign_keys, column_order=column_order, not_null=not_null,\n",
    "        defaults=defaults, hash_id=hash_id, hash_id_columns=hash_id_columns, alter=alter, ignore=ignore,\n",
    "        replace=replace, extracts=extracts, conversions=conversions, columns=columns, strict=strict)\n",
    "    return self.get_last()"
   ]
  },
  {
   "cell_type": "code",
   "execution_count": null,
   "id": "1c47cd9c",
   "metadata": {},
   "outputs": [],
   "source": [
    "#| export\n",
    "@patch\n",
    "def upsert(\n",
    "    self:Table,\n",
    "    record:Any=None, pk=DEFAULT, foreign_keys=DEFAULT,\n",
    "    column_order: Union[List[str], Default, None]=DEFAULT,\n",
    "    not_null: Union[Iterable[str], Default, None]=DEFAULT,\n",
    "    defaults: Union[Dict[str, Any], Default, None]=DEFAULT,\n",
    "    hash_id: Union[str, Default]|None=DEFAULT,\n",
    "    hash_id_columns: Union[Iterable[str], Default, None]=DEFAULT,\n",
    "    alter: Union[bool, Default]|None=DEFAULT,\n",
    "    extracts: Union[Dict[str, str], List[str], Default, None]=DEFAULT,\n",
    "    conversions: Union[Dict[str, str], Default, None]=DEFAULT,\n",
    "    columns: Union[Dict[str, Any], Default, None]=DEFAULT,\n",
    "    strict: Union[bool, Default]|None=DEFAULT,\n",
    "    **kwargs) -> Table:\n",
    "    if pk==DEFAULT:\n",
    "        assert len(self.pks)==1\n",
    "        pk = self.pks[0]\n",
    "    if not record: record={}\n",
    "    record = _process_row(record)\n",
    "    record = {**record, **kwargs}\n",
    "    last_pk = record[pk]\n",
    "    self._orig_upsert(\n",
    "        record=record, pk=pk, foreign_keys=foreign_keys, column_order=column_order, not_null=not_null,\n",
    "        defaults=defaults, hash_id=hash_id, hash_id_columns=hash_id_columns, alter=alter,\n",
    "        extracts=extracts, conversions=conversions, columns=columns, strict=strict)\n",
    "    return self.get(last_pk)"
   ]
  },
  {
   "cell_type": "code",
   "execution_count": null,
   "id": "2280e28e",
   "metadata": {},
   "outputs": [],
   "source": [
    "#| export\n",
    "@patch\n",
    "def lookup(\n",
    "    self:Table,\n",
    "    lookup_values: Dict[str, Any],\n",
    "    extra_values: Dict[str, Any]|None=None,\n",
    "    pk: str|None = \"id\",\n",
    "    foreign_keys: ForeignKeysType|None=None,\n",
    "    column_order: List[str]|None=None,\n",
    "    not_null: Iterable[str]|None=None,\n",
    "    defaults: Dict[str, Any]|None=None,\n",
    "    extracts: Union[Dict[str, str], List[str], None]=None,\n",
    "    conversions: Dict[str, str]|None=None,\n",
    "    columns: Dict[str, Any]|None=None,\n",
    "    strict: bool|None = False,\n",
    "    **kwargs):\n",
    "    if not lookup_values: lookup_values={}\n",
    "    lookup_values = {**lookup_values, **kwargs}\n",
    "    return self._orig_lookup(\n",
    "        lookup_values=lookup_values, extra_values=extra_values, pk=pk, foreign_keys=foreign_keys,\n",
    "        column_order=column_order, not_null=not_null, defaults=defaults, extracts=extracts,\n",
    "        conversions=conversions, columns=columns, strict=strict)"
   ]
  }
 ],
 "metadata": {
  "kernelspec": {
   "display_name": "python3",
   "language": "python",
   "name": "python3"
  }
 },
 "nbformat": 4,
 "nbformat_minor": 5
}
